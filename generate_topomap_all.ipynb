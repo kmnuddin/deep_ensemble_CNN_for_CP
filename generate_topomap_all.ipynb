{
 "cells": [
  {
   "cell_type": "code",
   "execution_count": 2,
   "metadata": {},
   "outputs": [],
   "source": [
    "import numpy as np\n",
    "import pandas as pd\n",
    "import mne\n",
    "import os\n",
    "import matplotlib.pyplot as plt\n",
    "from MNE_Pipeline import MNE_Repo_Mat as MP\n",
    "from multiprocessing import Process\n",
    "from sklearn.preprocessing import MinMaxScaler\n",
    "from sklearn.model_selection import train_test_split\n",
    "from tqdm.notebook import tqdm\n",
    "from matplotlib import cm\n",
    "import sys\n",
    "import cv2\n",
    "import re"
   ]
  },
  {
   "cell_type": "code",
   "execution_count": 4,
   "metadata": {},
   "outputs": [
    {
     "data": {
      "text/plain": [
       "53144"
      ]
     },
     "execution_count": 4,
     "metadata": {},
     "output_type": "execute_result"
    }
   ],
   "source": [
    "train_s = 'topomaps_RT_100/train/combined'\n",
    "test_s = 'topomaps_RT_100/test/combined'\n",
    "labels = [0, 1, 3]\n",
    "total_t = 0\n",
    "t_total = 0\n",
    "for s in labels:\n",
    "    path_t = os.path.join(train_s, str(s))\n",
    "    total_t = total_t + len(os.listdir(path_t))\n",
    "    t_path = os.path.join(test_s, str(s))\n",
    "    t_total = t_total + len(os.listdir(t_path))\n",
    "    \n",
    "total_t + t_total"
   ]
  },
  {
   "cell_type": "code",
   "execution_count": 3,
   "metadata": {},
   "outputs": [
    {
     "name": "stderr",
     "output_type": "stream",
     "text": [
      "/home/kam/anaconda3/envs/mne/lib/python3.7/site-packages/mne/utils/docs.py:830: DeprecationWarning: Function read_montage is deprecated; ``read_montage`` is deprecated and will be removed in v0.20. Please use ``read_dig_fif``, ``read_dig_egi``, ``read_custom_montage``, or ``read_dig_captrack`` to read a digitization based on your needs instead; or ``make_standard_montage`` to create ``DigMontage`` based on template; or ``make_dig_montage`` to create a ``DigMontage`` out of np.arrays\n",
      "  warnings.warn(msg, category=DeprecationWarning)\n",
      "/home/kam/anaconda3/envs/mne/lib/python3.7/site-packages/mne/utils/docs.py:813: DeprecationWarning: Class Montage is deprecated; Montage class is deprecated and will be removed in v0.20. Please use DigMontage instead.\n",
      "  warnings.warn(msg, category=DeprecationWarning)\n",
      "/home/kam/dl_cp_gen_topomap/MNE_Pipeline.py:57: DeprecationWarning: Setting a montage using anything rather than DigMontage is deprecated and will raise an error in v0.20. Please use ``read_dig_fif``, ``read_dig_egi``, ``read_dig_polhemus_isotrak``, or ``read_dig_captrack`` ``read_dig_hpts``, ``read_dig_captrack`` or ``read_custom_montage`` to read a digitization based on your needs instead; or ``make_standard_montage`` to create ``DigMontage`` based on template; or ``make_dig_montage`` to create a ``DigMontage`` out of np.arrays.\n",
      "  self.info = mne.create_info(montage.ch_names, sfreq, ch_types='eeg', montage=montage)\n"
     ]
    }
   ],
   "source": [
    "mp = MP()\n",
    "info = mp.construct_info()"
   ]
  },
  {
   "cell_type": "code",
   "execution_count": 4,
   "metadata": {},
   "outputs": [],
   "source": [
    "def combine_topomaps(alpha_path, beta_path, gamma_path, _class, folder_path):\n",
    "    full_path_w_class = os.path.join(folder_path, str(_class))\n",
    "    \n",
    "    if not os.path.exists(full_path_w_class):\n",
    "        os.makedirs(full_path_w_class)\n",
    "        \n",
    "    alpha_path = os.path.join(alpha_path, str(_class))\n",
    "    beta_path = os.path.join(beta_path, str(_class))\n",
    "    gamma_path = os.path.join(gamma_path, str(_class))\n",
    "    \n",
    "        \n",
    "    alpha_imgs = [os.path.join(alpha_path, img_id) for img_id in os.listdir(alpha_path)]\n",
    "    beta_imgs = [os.path.join(beta_path, img_id) for img_id in os.listdir(beta_path)]\n",
    "    gamma_imgs = [os.path.join(gamma_path, img_id) for img_id in os.listdir(gamma_path)]\n",
    "    \n",
    "    trials = os.listdir(alpha_path)\n",
    "    \n",
    "    for path_alpha, path_beta, path_gamma, trial_no in tqdm(zip(alpha_imgs, beta_imgs, gamma_imgs, trials)):\n",
    "        \n",
    "        trial_no = int(re.search(r'\\d+', trial_no).group())\n",
    "        \n",
    "        img_alpha = cv2.imread(path_alpha, cv2.IMREAD_GRAYSCALE)\n",
    "        img_beta = cv2.imread(path_beta, cv2.IMREAD_GRAYSCALE)\n",
    "        img_gamma = cv2.imread(path_gamma, cv2.IMREAD_GRAYSCALE)\n",
    "        \n",
    "        combined_img = np.dstack((img_alpha, img_beta, img_gamma))\n",
    "        \n",
    "        save_path = os.path.join(full_path_w_class, 'bts_{}.png'.format(trial_no))\n",
    "        \n",
    "        cv2.imwrite(save_path, combined_img)\n",
    "    \n",
    "\n",
    "def gen_topomap(avg_band_pw_data, labels, classes, trial_names, folder_path, start, end):\n",
    "    \n",
    "    for _class in classes:\n",
    "        full_path_w_class = os.path.join(folder_path, str(_class))\n",
    "        if not os.path.exists(full_path_w_class):\n",
    "            os.makedirs(full_path_w_class)\n",
    "    \n",
    "    for i in range(start, end):\n",
    "        save_path = os.path.join(folder_path, str(labels[i]), trial_names[i])\n",
    "        topo , _ = mne.viz.plot_topomap(avg_band_pw_data[i], \n",
    "                                        info, res=256, show=False, contours=0)\n",
    "\n",
    "        topo.get_figure().savefig(save_path, dpi=64)\n",
    "    \n",
    "\n",
    "def async_gen_topomap(x, y, classes, trial_names, start, end, folder, t='train'):\n",
    "    \n",
    "    alpha = x[:, 0:64]\n",
    "    beta = x[:, 64:128]\n",
    "    gamma = x[:, 128:192]\n",
    "    \n",
    "    n = list(range(start, end, 50))\n",
    "    n.append(end)\n",
    "    processes = []\n",
    "    for i in range(len(n) - 1):\n",
    "        process_alpha = Process(target=gen_topomap, \n",
    "                                args=(alpha, y, classes, trial_names, os.path.join(folder, t, 'alpha'), n[i], n[i+1]))\n",
    "        process_beta = Process(target=gen_topomap, \n",
    "                               args=(beta, y, classes, trial_names, os.path.join(folder, t, 'beta'), n[i], n[i+1]))\n",
    "        process_gamma = Process(target=gen_topomap, \n",
    "                                args=(gamma, y, classes, trial_names, os.path.join(folder, t, 'gamma'), n[i], n[i+1]))\n",
    "\n",
    "        process_alpha.start()\n",
    "        process_beta.start()\n",
    "        process_gamma.start()\n",
    "\n",
    "\n",
    "        processes.extend([process_alpha, process_beta, process_gamma])\n",
    "        \n",
    "    for process in processes:\n",
    "        process.join()"
   ]
  },
  {
   "cell_type": "markdown",
   "metadata": {},
   "source": [
    "## Topomap Generation 1vs3"
   ]
  },
  {
   "cell_type": "code",
   "execution_count": 3,
   "metadata": {},
   "outputs": [],
   "source": [
    "data = pd.read_csv('data_1vs3/data_1vs3.csv', header=None).values\n",
    "labels = pd.read_csv('data_1vs3/labels_1vs3.csv', header=None).values\n",
    "\n",
    "scaler = MinMaxScaler()\n",
    "\n",
    "X = scaler.fit_transform(data)\n",
    "Y = np.where(labels == 0, 1, 3)"
   ]
  },
  {
   "cell_type": "code",
   "execution_count": 4,
   "metadata": {},
   "outputs": [],
   "source": [
    "x_train, x_test, y_train, y_test = train_test_split(X, Y, random_state=33, test_size=0.2)"
   ]
  },
  {
   "cell_type": "code",
   "execution_count": 6,
   "metadata": {},
   "outputs": [
    {
     "data": {
      "application/vnd.jupyter.widget-view+json": {
       "model_id": "400f34db99994faeb1b886121b0a1c3e",
       "version_major": 2,
       "version_minor": 0
      },
      "text/plain": [
       "HBox(children=(FloatProgress(value=0.0, max=40.0), HTML(value='')))"
      ]
     },
     "metadata": {},
     "output_type": "display_data"
    },
    {
     "name": "stdout",
     "output_type": "stream",
     "text": [
      "\n"
     ]
    }
   ],
   "source": [
    "indices = list(range(0, len(x_train), 1000))\n",
    "\n",
    "indices.append(len(x_train))\n",
    "\n",
    "for i in tqdm(range(len(indices) - 1)):\n",
    "    async_gen_topomap(x_train, y_train, indices[i], indices[i+1])"
   ]
  },
  {
   "cell_type": "code",
   "execution_count": 7,
   "metadata": {},
   "outputs": [
    {
     "data": {
      "application/vnd.jupyter.widget-view+json": {
       "model_id": "6c8832324cfe475bbf2401d930811cd0",
       "version_major": 2,
       "version_minor": 0
      },
      "text/plain": [
       "HBox(children=(FloatProgress(value=0.0, max=10.0), HTML(value='')))"
      ]
     },
     "metadata": {},
     "output_type": "display_data"
    },
    {
     "name": "stdout",
     "output_type": "stream",
     "text": [
      "\n"
     ]
    }
   ],
   "source": [
    "indices = list(range(0, len(x_test), 1000))\n",
    "\n",
    "indices.append(len(x_test))\n",
    "\n",
    "for i in tqdm(range(len(indices) - 1)):\n",
    "    async_gen_topomap(x_test, y_test, indices[i], indices[i+1], t='test')"
   ]
  },
  {
   "cell_type": "code",
   "execution_count": 21,
   "metadata": {},
   "outputs": [
    {
     "data": {
      "text/plain": [
       "19989"
      ]
     },
     "execution_count": 21,
     "metadata": {},
     "output_type": "execute_result"
    }
   ],
   "source": [
    "len(os.listdir('topomaps/train/combined/3'))"
   ]
  },
  {
   "cell_type": "code",
   "execution_count": 18,
   "metadata": {},
   "outputs": [
    {
     "data": {
      "application/vnd.jupyter.widget-view+json": {
       "model_id": "0a2fadd276af4d20b4def7e71e84f7b0",
       "version_major": 2,
       "version_minor": 0
      },
      "text/plain": [
       "HBox(children=(FloatProgress(value=1.0, bar_style='info', max=1.0), HTML(value='')))"
      ]
     },
     "metadata": {},
     "output_type": "display_data"
    },
    {
     "name": "stdout",
     "output_type": "stream",
     "text": [
      "\n"
     ]
    }
   ],
   "source": [
    "combine_topomaps('topomaps/train/alpha', 'topomaps/train/beta', 'topomaps/train/gamma', 1, 'topomaps/train/combined')"
   ]
  },
  {
   "cell_type": "code",
   "execution_count": 19,
   "metadata": {},
   "outputs": [
    {
     "data": {
      "application/vnd.jupyter.widget-view+json": {
       "model_id": "8889808a99794c0880219e60539673dd",
       "version_major": 2,
       "version_minor": 0
      },
      "text/plain": [
       "HBox(children=(FloatProgress(value=1.0, bar_style='info', max=1.0), HTML(value='')))"
      ]
     },
     "metadata": {},
     "output_type": "display_data"
    },
    {
     "name": "stdout",
     "output_type": "stream",
     "text": [
      "\n"
     ]
    }
   ],
   "source": [
    "combine_topomaps('topomaps/train/alpha', 'topomaps/train/beta', 'topomaps/train/gamma', 3, 'topomaps/train/combined')"
   ]
  },
  {
   "cell_type": "code",
   "execution_count": 22,
   "metadata": {},
   "outputs": [
    {
     "data": {
      "application/vnd.jupyter.widget-view+json": {
       "model_id": "ba9f688db1a94e06bbde9b1f472d3a86",
       "version_major": 2,
       "version_minor": 0
      },
      "text/plain": [
       "HBox(children=(FloatProgress(value=1.0, bar_style='info', max=1.0), HTML(value='')))"
      ]
     },
     "metadata": {},
     "output_type": "display_data"
    },
    {
     "name": "stdout",
     "output_type": "stream",
     "text": [
      "\n"
     ]
    }
   ],
   "source": [
    "combine_topomaps('topomaps/test/alpha', 'topomaps/test/beta', 'topomaps/test/gamma', 1, 'topomaps/test/combined')"
   ]
  },
  {
   "cell_type": "code",
   "execution_count": 23,
   "metadata": {},
   "outputs": [
    {
     "data": {
      "application/vnd.jupyter.widget-view+json": {
       "model_id": "6af8fab0fe514f4798abf00383f77994",
       "version_major": 2,
       "version_minor": 0
      },
      "text/plain": [
       "HBox(children=(FloatProgress(value=1.0, bar_style='info', max=1.0), HTML(value='')))"
      ]
     },
     "metadata": {},
     "output_type": "display_data"
    },
    {
     "name": "stdout",
     "output_type": "stream",
     "text": [
      "\n"
     ]
    }
   ],
   "source": [
    "combine_topomaps('topomaps/test/alpha', 'topomaps/test/beta', 'topomaps/test/gamma', 3, 'topomaps/test/combined')"
   ]
  },
  {
   "cell_type": "markdown",
   "metadata": {},
   "source": [
    "## Topomap Generation 1 and 5 vs 3"
   ]
  },
  {
   "cell_type": "code",
   "execution_count": 32,
   "metadata": {},
   "outputs": [],
   "source": [
    "data = pd.read_csv('data_15vs3/data.csv', header=None).values\n",
    "labels = pd.read_csv('data_15vs3/labels.csv', header=None).values\n",
    "\n",
    "scaler = MinMaxScaler()\n",
    "\n",
    "X = scaler.fit_transform(data)\n",
    "Y = np.where(labels == 0, 3, 15)\n",
    "\n",
    "x_train, x_test, y_train, y_test = train_test_split(X, Y, random_state=33, test_size=0.2)"
   ]
  },
  {
   "cell_type": "code",
   "execution_count": 37,
   "metadata": {},
   "outputs": [
    {
     "data": {
      "application/vnd.jupyter.widget-view+json": {
       "model_id": "70dd5cd3fdbe40ce937af518d257b2da",
       "version_major": 2,
       "version_minor": 0
      },
      "text/plain": [
       "HBox(children=(FloatProgress(value=0.0, max=40.0), HTML(value='')))"
      ]
     },
     "metadata": {},
     "output_type": "display_data"
    },
    {
     "name": "stdout",
     "output_type": "stream",
     "text": [
      "\n"
     ]
    }
   ],
   "source": [
    "indices = list(range(0, len(x_train), 1000))\n",
    "\n",
    "indices.append(len(x_train))\n",
    "\n",
    "for i in tqdm(range(len(indices) - 1)):\n",
    "    async_gen_topomap(x_train, y_train, [3,15], indices[i], indices[i+1], 'topomaps_15vs3')"
   ]
  },
  {
   "cell_type": "code",
   "execution_count": 38,
   "metadata": {},
   "outputs": [
    {
     "data": {
      "application/vnd.jupyter.widget-view+json": {
       "model_id": "460d17544a5a485e9384cff39f92c1ee",
       "version_major": 2,
       "version_minor": 0
      },
      "text/plain": [
       "HBox(children=(FloatProgress(value=0.0, max=10.0), HTML(value='')))"
      ]
     },
     "metadata": {},
     "output_type": "display_data"
    },
    {
     "name": "stdout",
     "output_type": "stream",
     "text": [
      "\n"
     ]
    }
   ],
   "source": [
    "indices = list(range(0, len(x_test), 1000))\n",
    "\n",
    "indices.append(len(x_test))\n",
    "\n",
    "for i in tqdm(range(len(indices) - 1)):\n",
    "    async_gen_topomap(x_test, y_test, [3,15], indices[i], indices[i+1], 'topomaps_15vs3', t='test')"
   ]
  },
  {
   "cell_type": "code",
   "execution_count": 39,
   "metadata": {},
   "outputs": [
    {
     "data": {
      "application/vnd.jupyter.widget-view+json": {
       "model_id": "6c3795e5cda14843a47c098e6ef701f6",
       "version_major": 2,
       "version_minor": 0
      },
      "text/plain": [
       "HBox(children=(FloatProgress(value=1.0, bar_style='info', max=1.0), HTML(value='')))"
      ]
     },
     "metadata": {},
     "output_type": "display_data"
    },
    {
     "name": "stdout",
     "output_type": "stream",
     "text": [
      "\n"
     ]
    },
    {
     "data": {
      "application/vnd.jupyter.widget-view+json": {
       "model_id": "6635f267cdb64b69bf43781f8a594afa",
       "version_major": 2,
       "version_minor": 0
      },
      "text/plain": [
       "HBox(children=(FloatProgress(value=1.0, bar_style='info', max=1.0), HTML(value='')))"
      ]
     },
     "metadata": {},
     "output_type": "display_data"
    },
    {
     "name": "stdout",
     "output_type": "stream",
     "text": [
      "\n"
     ]
    }
   ],
   "source": [
    "combine_topomaps('topomaps_15vs3/train/alpha', 'topomaps_15vs3/train/beta', 'topomaps_15vs3/train/gamma', 3, 'topomaps_15vs3/train/combined')\n",
    "combine_topomaps('topomaps_15vs3/train/alpha', 'topomaps_15vs3/train/beta', 'topomaps_15vs3/train/gamma', 15, 'topomaps_15vs3/train/combined')"
   ]
  },
  {
   "cell_type": "code",
   "execution_count": 40,
   "metadata": {},
   "outputs": [
    {
     "data": {
      "application/vnd.jupyter.widget-view+json": {
       "model_id": "ce6072d32699460680b878e0d4e0994c",
       "version_major": 2,
       "version_minor": 0
      },
      "text/plain": [
       "HBox(children=(FloatProgress(value=1.0, bar_style='info', max=1.0), HTML(value='')))"
      ]
     },
     "metadata": {},
     "output_type": "display_data"
    },
    {
     "name": "stdout",
     "output_type": "stream",
     "text": [
      "\n"
     ]
    },
    {
     "data": {
      "application/vnd.jupyter.widget-view+json": {
       "model_id": "a2c29f5d3f294fc6b1e9410576904cc3",
       "version_major": 2,
       "version_minor": 0
      },
      "text/plain": [
       "HBox(children=(FloatProgress(value=1.0, bar_style='info', max=1.0), HTML(value='')))"
      ]
     },
     "metadata": {},
     "output_type": "display_data"
    },
    {
     "name": "stdout",
     "output_type": "stream",
     "text": [
      "\n"
     ]
    }
   ],
   "source": [
    "combine_topomaps('topomaps_15vs3/test/alpha', 'topomaps_15vs3/test/beta', 'topomaps_15vs3/test/gamma', 3, 'topomaps_15vs3/test/combined')\n",
    "combine_topomaps('topomaps_15vs3/test/alpha', 'topomaps_15vs3/test/beta', 'topomaps_15vs3/test/gamma', 15, 'topomaps_15vs3/test/combined')"
   ]
  },
  {
   "cell_type": "markdown",
   "metadata": {},
   "source": [
    "## Topomap Generation 1 vs 5"
   ]
  },
  {
   "cell_type": "code",
   "execution_count": 46,
   "metadata": {},
   "outputs": [],
   "source": [
    "data = pd.read_csv('data_1vs5/data_1vs5.csv', header=None).values\n",
    "labels = pd.read_csv('data_1vs5/labels_1vs5.csv', header=None).values\n",
    "\n",
    "scaler = MinMaxScaler()\n",
    "\n",
    "X = scaler.fit_transform(data)\n",
    "Y = np.where(labels == 0, 1, 5)\n",
    "\n",
    "x_train, x_test, y_train, y_test = train_test_split(X, Y, random_state=33, test_size=0.2)"
   ]
  },
  {
   "cell_type": "code",
   "execution_count": 47,
   "metadata": {},
   "outputs": [
    {
     "data": {
      "application/vnd.jupyter.widget-view+json": {
       "model_id": "04173a2f5e144a3fb564c134bfea1222",
       "version_major": 2,
       "version_minor": 0
      },
      "text/plain": [
       "HBox(children=(FloatProgress(value=0.0, max=40.0), HTML(value='')))"
      ]
     },
     "metadata": {},
     "output_type": "display_data"
    },
    {
     "name": "stdout",
     "output_type": "stream",
     "text": [
      "\n"
     ]
    }
   ],
   "source": [
    "indices = list(range(0, len(x_train), 1000))\n",
    "\n",
    "indices.append(len(x_train))\n",
    "\n",
    "for i in tqdm(range(len(indices) - 1)):\n",
    "    async_gen_topomap(x_train, y_train, [1,5], indices[i], indices[i+1], 'topomaps_1vs5')"
   ]
  },
  {
   "cell_type": "code",
   "execution_count": 48,
   "metadata": {},
   "outputs": [
    {
     "data": {
      "application/vnd.jupyter.widget-view+json": {
       "model_id": "dbaef93309544e37b00680109bac1c72",
       "version_major": 2,
       "version_minor": 0
      },
      "text/plain": [
       "HBox(children=(FloatProgress(value=0.0, max=10.0), HTML(value='')))"
      ]
     },
     "metadata": {},
     "output_type": "display_data"
    },
    {
     "name": "stdout",
     "output_type": "stream",
     "text": [
      "\n"
     ]
    }
   ],
   "source": [
    "indices = list(range(0, len(x_test), 1000))\n",
    "\n",
    "indices.append(len(x_test))\n",
    "\n",
    "for i in tqdm(range(len(indices) - 1)):\n",
    "    async_gen_topomap(x_test, y_test, [1,5], indices[i], indices[i+1], 'topomaps_1vs5', t='test')"
   ]
  },
  {
   "cell_type": "code",
   "execution_count": 49,
   "metadata": {},
   "outputs": [
    {
     "data": {
      "application/vnd.jupyter.widget-view+json": {
       "model_id": "25fec289c0f8412f81f01568da5fd5cc",
       "version_major": 2,
       "version_minor": 0
      },
      "text/plain": [
       "HBox(children=(FloatProgress(value=1.0, bar_style='info', max=1.0), HTML(value='')))"
      ]
     },
     "metadata": {},
     "output_type": "display_data"
    },
    {
     "name": "stdout",
     "output_type": "stream",
     "text": [
      "\n"
     ]
    },
    {
     "data": {
      "application/vnd.jupyter.widget-view+json": {
       "model_id": "463ca512d7494985930e198aa0dffd2e",
       "version_major": 2,
       "version_minor": 0
      },
      "text/plain": [
       "HBox(children=(FloatProgress(value=1.0, bar_style='info', max=1.0), HTML(value='')))"
      ]
     },
     "metadata": {},
     "output_type": "display_data"
    },
    {
     "name": "stdout",
     "output_type": "stream",
     "text": [
      "\n"
     ]
    }
   ],
   "source": [
    "combine_topomaps('topomaps_1vs5/train/alpha', 'topomaps_1vs5/train/beta', 'topomaps_1vs5/train/gamma', 1, 'topomaps_1vs5/train/combined')\n",
    "combine_topomaps('topomaps_1vs5/train/alpha', 'topomaps_1vs5/train/beta', 'topomaps_1vs5/train/gamma', 5, 'topomaps_1vs5/train/combined')"
   ]
  },
  {
   "cell_type": "code",
   "execution_count": 50,
   "metadata": {},
   "outputs": [
    {
     "data": {
      "application/vnd.jupyter.widget-view+json": {
       "model_id": "d31eafa39ffb4be8b6942a56fca95cfb",
       "version_major": 2,
       "version_minor": 0
      },
      "text/plain": [
       "HBox(children=(FloatProgress(value=1.0, bar_style='info', max=1.0), HTML(value='')))"
      ]
     },
     "metadata": {},
     "output_type": "display_data"
    },
    {
     "name": "stdout",
     "output_type": "stream",
     "text": [
      "\n"
     ]
    },
    {
     "data": {
      "application/vnd.jupyter.widget-view+json": {
       "model_id": "1604d9dc28c84a189f87666feb295c3f",
       "version_major": 2,
       "version_minor": 0
      },
      "text/plain": [
       "HBox(children=(FloatProgress(value=1.0, bar_style='info', max=1.0), HTML(value='')))"
      ]
     },
     "metadata": {},
     "output_type": "display_data"
    },
    {
     "name": "stdout",
     "output_type": "stream",
     "text": [
      "\n"
     ]
    }
   ],
   "source": [
    "combine_topomaps('topomaps_1vs5/test/alpha', 'topomaps_1vs5/test/beta', 'topomaps_1vs5/test/gamma', 1, 'topomaps_1vs5/test/combined')\n",
    "combine_topomaps('topomaps_1vs5/test/alpha', 'topomaps_1vs5/test/beta', 'topomaps_1vs5/test/gamma', 5, 'topomaps_1vs5/test/combined')"
   ]
  },
  {
   "cell_type": "markdown",
   "metadata": {},
   "source": [
    "## Topomap Generation RT"
   ]
  },
  {
   "cell_type": "code",
   "execution_count": 4,
   "metadata": {},
   "outputs": [],
   "source": [
    "data = pd.read_csv('data_RT/data_bp_RT.csv', header=None).values\n",
    "labels = pd.read_csv('data_RT/labels_RT.csv', header=None).values\n",
    "\n",
    "scaler = MinMaxScaler()\n",
    "\n",
    "X = scaler.fit_transform(data)\n",
    "Y = labels.astype(np.int16)\n",
    "\n",
    "x_train, x_test, y_train, y_test = train_test_split(X, Y, random_state=33, test_size=0.2)"
   ]
  },
  {
   "cell_type": "code",
   "execution_count": 14,
   "metadata": {},
   "outputs": [
    {
     "data": {
      "text/plain": [
       "(70505, 192)"
      ]
     },
     "execution_count": 14,
     "metadata": {},
     "output_type": "execute_result"
    }
   ],
   "source": [
    "data.shape"
   ]
  },
  {
   "cell_type": "code",
   "execution_count": 5,
   "metadata": {},
   "outputs": [
    {
     "data": {
      "application/vnd.jupyter.widget-view+json": {
       "model_id": "e80143cb3eb14aa388a8cfce626692dd",
       "version_major": 2,
       "version_minor": 0
      },
      "text/plain": [
       "HBox(children=(FloatProgress(value=0.0, max=57.0), HTML(value='')))"
      ]
     },
     "metadata": {},
     "output_type": "display_data"
    },
    {
     "name": "stdout",
     "output_type": "stream",
     "text": [
      "\n"
     ]
    }
   ],
   "source": [
    "indices = list(range(0, len(x_train), 1000))\n",
    "\n",
    "indices.append(len(x_train))\n",
    "\n",
    "for i in tqdm(range(len(indices) - 1)):\n",
    "    async_gen_topomap(x_train, y_train, [0,1,3], indices[i], indices[i+1], 'topomaps_RT', t='train')"
   ]
  },
  {
   "cell_type": "code",
   "execution_count": 6,
   "metadata": {},
   "outputs": [
    {
     "data": {
      "application/vnd.jupyter.widget-view+json": {
       "model_id": "2548e5bfb1664a8c9ce1f4942a3fc8ec",
       "version_major": 2,
       "version_minor": 0
      },
      "text/plain": [
       "HBox(children=(FloatProgress(value=0.0, max=15.0), HTML(value='')))"
      ]
     },
     "metadata": {},
     "output_type": "display_data"
    },
    {
     "name": "stdout",
     "output_type": "stream",
     "text": [
      "\n"
     ]
    }
   ],
   "source": [
    "indices = list(range(0, len(x_test), 1000))\n",
    "\n",
    "indices.append(len(x_test))\n",
    "\n",
    "for i in tqdm(range(len(indices) - 1)):\n",
    "    async_gen_topomap(x_test, y_test, [0, 1, 3], indices[i], indices[i+1], 'topomaps_RT', t='test')"
   ]
  },
  {
   "cell_type": "code",
   "execution_count": 15,
   "metadata": {},
   "outputs": [
    {
     "data": {
      "application/vnd.jupyter.widget-view+json": {
       "model_id": "f00d9e3f2be44b75860df569cfad6d25",
       "version_major": 2,
       "version_minor": 0
      },
      "text/plain": [
       "HBox(children=(FloatProgress(value=1.0, bar_style='info', max=1.0), HTML(value='')))"
      ]
     },
     "metadata": {},
     "output_type": "display_data"
    },
    {
     "name": "stdout",
     "output_type": "stream",
     "text": [
      "\n"
     ]
    },
    {
     "data": {
      "application/vnd.jupyter.widget-view+json": {
       "model_id": "9d50626059d64d1dab400d66d39e94af",
       "version_major": 2,
       "version_minor": 0
      },
      "text/plain": [
       "HBox(children=(FloatProgress(value=1.0, bar_style='info', max=1.0), HTML(value='')))"
      ]
     },
     "metadata": {},
     "output_type": "display_data"
    },
    {
     "name": "stdout",
     "output_type": "stream",
     "text": [
      "\n"
     ]
    },
    {
     "data": {
      "application/vnd.jupyter.widget-view+json": {
       "model_id": "cc36e48bf481467bb4fce46d18746273",
       "version_major": 2,
       "version_minor": 0
      },
      "text/plain": [
       "HBox(children=(FloatProgress(value=1.0, bar_style='info', max=1.0), HTML(value='')))"
      ]
     },
     "metadata": {},
     "output_type": "display_data"
    },
    {
     "name": "stdout",
     "output_type": "stream",
     "text": [
      "\n"
     ]
    }
   ],
   "source": [
    "combine_topomaps('topomaps_RT/train/alpha', 'topomaps_RT/train/beta', 'topomaps_RT/train/gamma', 0, 'topomaps_RT/train/combined')\n",
    "combine_topomaps('topomaps_RT/train/alpha', 'topomaps_RT/train/beta', 'topomaps_RT/train/gamma', 1, 'topomaps_RT/train/combined')\n",
    "combine_topomaps('topomaps_RT/train/alpha', 'topomaps_RT/train/beta', 'topomaps_RT/train/gamma', 3, 'topomaps_RT/train/combined')"
   ]
  },
  {
   "cell_type": "code",
   "execution_count": 16,
   "metadata": {},
   "outputs": [
    {
     "data": {
      "application/vnd.jupyter.widget-view+json": {
       "model_id": "18aa91ec0531438b83a37f43f299b362",
       "version_major": 2,
       "version_minor": 0
      },
      "text/plain": [
       "HBox(children=(FloatProgress(value=1.0, bar_style='info', max=1.0), HTML(value='')))"
      ]
     },
     "metadata": {},
     "output_type": "display_data"
    },
    {
     "name": "stdout",
     "output_type": "stream",
     "text": [
      "\n"
     ]
    },
    {
     "data": {
      "application/vnd.jupyter.widget-view+json": {
       "model_id": "31f773335660460eb79894787185e2a5",
       "version_major": 2,
       "version_minor": 0
      },
      "text/plain": [
       "HBox(children=(FloatProgress(value=1.0, bar_style='info', max=1.0), HTML(value='')))"
      ]
     },
     "metadata": {},
     "output_type": "display_data"
    },
    {
     "name": "stdout",
     "output_type": "stream",
     "text": [
      "\n"
     ]
    },
    {
     "data": {
      "application/vnd.jupyter.widget-view+json": {
       "model_id": "0886a66fcf304c8bbeb8acff6811e551",
       "version_major": 2,
       "version_minor": 0
      },
      "text/plain": [
       "HBox(children=(FloatProgress(value=1.0, bar_style='info', max=1.0), HTML(value='')))"
      ]
     },
     "metadata": {},
     "output_type": "display_data"
    },
    {
     "name": "stdout",
     "output_type": "stream",
     "text": [
      "\n"
     ]
    }
   ],
   "source": [
    "combine_topomaps('topomaps_RT/test/alpha', 'topomaps_RT/test/beta', 'topomaps_RT/test/gamma', 0, 'topomaps_RT/test/combined')\n",
    "combine_topomaps('topomaps_RT/test/alpha', 'topomaps_RT/test/beta', 'topomaps_RT/test/gamma', 1, 'topomaps_RT/test/combined')\n",
    "combine_topomaps('topomaps_RT/test/alpha', 'topomaps_RT/test/beta', 'topomaps_RT/test/gamma', 3, 'topomaps_RT/test/combined')"
   ]
  },
  {
   "cell_type": "code",
   "execution_count": 18,
   "metadata": {},
   "outputs": [
    {
     "data": {
      "text/plain": [
       "56404"
      ]
     },
     "execution_count": 18,
     "metadata": {},
     "output_type": "execute_result"
    }
   ],
   "source": [
    "16787+20007+19610"
   ]
  },
  {
   "cell_type": "markdown",
   "metadata": {},
   "source": [
    "## Topomap Generation RT (Rate-100)"
   ]
  },
  {
   "cell_type": "code",
   "execution_count": 4,
   "metadata": {},
   "outputs": [],
   "source": [
    "data = pd.read_csv('data_RT_100/data_bp_RT_100.csv', header=None).values\n",
    "labels = pd.read_csv('data_RT_100/labels_RT_100.csv', header=None).values\n",
    "\n",
    "scaler = MinMaxScaler()\n",
    "\n",
    "X = scaler.fit_transform(data)\n",
    "Y = labels.astype(np.int16)\n",
    "\n",
    "x_train, x_test, y_train, y_test = train_test_split(X, Y, random_state=33, test_size=0.2)"
   ]
  },
  {
   "cell_type": "code",
   "execution_count": 5,
   "metadata": {},
   "outputs": [
    {
     "data": {
      "text/plain": [
       "(42515, 192)"
      ]
     },
     "execution_count": 5,
     "metadata": {},
     "output_type": "execute_result"
    }
   ],
   "source": [
    "x_train.shape"
   ]
  },
  {
   "cell_type": "code",
   "execution_count": 6,
   "metadata": {},
   "outputs": [
    {
     "data": {
      "application/vnd.jupyter.widget-view+json": {
       "model_id": "8f2940dc83a64c35bf19eb2f618f1a2e",
       "version_major": 2,
       "version_minor": 0
      },
      "text/plain": [
       "HBox(children=(FloatProgress(value=0.0, max=43.0), HTML(value='')))"
      ]
     },
     "metadata": {},
     "output_type": "display_data"
    },
    {
     "name": "stdout",
     "output_type": "stream",
     "text": [
      "\n"
     ]
    },
    {
     "data": {
      "application/vnd.jupyter.widget-view+json": {
       "model_id": "3c8eba3467a24f1b8b2c197c326d8096",
       "version_major": 2,
       "version_minor": 0
      },
      "text/plain": [
       "HBox(children=(FloatProgress(value=0.0, max=11.0), HTML(value='')))"
      ]
     },
     "metadata": {},
     "output_type": "display_data"
    },
    {
     "name": "stdout",
     "output_type": "stream",
     "text": [
      "\n"
     ]
    },
    {
     "data": {
      "application/vnd.jupyter.widget-view+json": {
       "model_id": "810c938b1f7e4c1ca68539ac5f7bb710",
       "version_major": 2,
       "version_minor": 0
      },
      "text/plain": [
       "HBox(children=(FloatProgress(value=1.0, bar_style='info', max=1.0), HTML(value='')))"
      ]
     },
     "metadata": {},
     "output_type": "display_data"
    },
    {
     "name": "stdout",
     "output_type": "stream",
     "text": [
      "\n"
     ]
    },
    {
     "data": {
      "application/vnd.jupyter.widget-view+json": {
       "model_id": "27c6991ef48040e7ba0f06444e64f891",
       "version_major": 2,
       "version_minor": 0
      },
      "text/plain": [
       "HBox(children=(FloatProgress(value=1.0, bar_style='info', max=1.0), HTML(value='')))"
      ]
     },
     "metadata": {},
     "output_type": "display_data"
    },
    {
     "name": "stdout",
     "output_type": "stream",
     "text": [
      "\n"
     ]
    },
    {
     "data": {
      "application/vnd.jupyter.widget-view+json": {
       "model_id": "1b5b84bfe0c84cd2bea53236100680cd",
       "version_major": 2,
       "version_minor": 0
      },
      "text/plain": [
       "HBox(children=(FloatProgress(value=1.0, bar_style='info', max=1.0), HTML(value='')))"
      ]
     },
     "metadata": {},
     "output_type": "display_data"
    },
    {
     "name": "stdout",
     "output_type": "stream",
     "text": [
      "\n"
     ]
    },
    {
     "data": {
      "application/vnd.jupyter.widget-view+json": {
       "model_id": "91dd7d0ffe6645269313eb685c51a8cb",
       "version_major": 2,
       "version_minor": 0
      },
      "text/plain": [
       "HBox(children=(FloatProgress(value=1.0, bar_style='info', max=1.0), HTML(value='')))"
      ]
     },
     "metadata": {},
     "output_type": "display_data"
    },
    {
     "name": "stdout",
     "output_type": "stream",
     "text": [
      "\n"
     ]
    },
    {
     "data": {
      "application/vnd.jupyter.widget-view+json": {
       "model_id": "685242c6901e4f159535e0d56a8b3899",
       "version_major": 2,
       "version_minor": 0
      },
      "text/plain": [
       "HBox(children=(FloatProgress(value=1.0, bar_style='info', max=1.0), HTML(value='')))"
      ]
     },
     "metadata": {},
     "output_type": "display_data"
    },
    {
     "name": "stdout",
     "output_type": "stream",
     "text": [
      "\n"
     ]
    },
    {
     "data": {
      "application/vnd.jupyter.widget-view+json": {
       "model_id": "a5a1c13cf5ff48b9bb1f99f78f337a39",
       "version_major": 2,
       "version_minor": 0
      },
      "text/plain": [
       "HBox(children=(FloatProgress(value=1.0, bar_style='info', max=1.0), HTML(value='')))"
      ]
     },
     "metadata": {},
     "output_type": "display_data"
    },
    {
     "name": "stdout",
     "output_type": "stream",
     "text": [
      "\n"
     ]
    }
   ],
   "source": [
    "#Train\n",
    "indices = list(range(0, len(x_train), 1000))\n",
    "\n",
    "indices.append(len(x_train))\n",
    "\n",
    "for i in tqdm(range(len(indices) - 1)):\n",
    "    async_gen_topomap(x_train, y_train, [0,1,3], indices[i], indices[i+1], 'topomaps_RT_100', t='train')\n",
    "    \n",
    "#test\n",
    "indices = list(range(0, len(x_test), 1000))\n",
    "\n",
    "indices.append(len(x_test))\n",
    "\n",
    "for i in tqdm(range(len(indices) - 1)):\n",
    "    async_gen_topomap(x_test, y_test, [0, 1, 3], indices[i], indices[i+1], 'topomaps_RT_100', t='test')\n",
    "    \n",
    "# Combine Train\n",
    "\n",
    "combine_topomaps('topomaps_RT_100/train/alpha', 'topomaps_RT_100/train/beta', 'topomaps_RT_100/train/gamma', 0, 'topomaps_RT_100/train/combined')\n",
    "combine_topomaps('topomaps_RT_100/train/alpha', 'topomaps_RT_100/train/beta', 'topomaps_RT_100/train/gamma', 1, 'topomaps_RT_100/train/combined')\n",
    "combine_topomaps('topomaps_RT_100/train/alpha', 'topomaps_RT_100/train/beta', 'topomaps_RT_100/train/gamma', 3, 'topomaps_RT_100/train/combined')\n",
    "\n",
    "# Combine Test\n",
    "\n",
    "combine_topomaps('topomaps_RT_100/test/alpha', 'topomaps_RT_100/test/beta', 'topomaps_RT_100/test/gamma', 0, 'topomaps_RT_100/test/combined')\n",
    "combine_topomaps('topomaps_RT_100/test/alpha', 'topomaps_RT_100/test/beta', 'topomaps_RT_100/test/gamma', 1, 'topomaps_RT_100/test/combined')\n",
    "combine_topomaps('topomaps_RT_100/test/alpha', 'topomaps_RT_100/test/beta', 'topomaps_RT_100/test/gamma', 3, 'topomaps_RT_100/test/combined')"
   ]
  },
  {
   "cell_type": "markdown",
   "metadata": {},
   "source": [
    "## Topomap Generation Triggs - 30"
   ]
  },
  {
   "cell_type": "code",
   "execution_count": 5,
   "metadata": {},
   "outputs": [],
   "source": [
    "data = pd.read_csv('data_triggs_30/data_bp_all_triggs_30.csv', header=None).values\n",
    "labels = pd.read_csv('data_triggs_30/labels_all_triggs_30.csv', header=None).values\n",
    "\n",
    "scaler = MinMaxScaler()\n",
    "\n",
    "X = scaler.fit_transform(data)\n",
    "Y = labels.astype(np.int16)\n",
    "\n",
    "x_train, x_test, y_train, y_test = train_test_split(X, Y, random_state=33, test_size=0.2)"
   ]
  },
  {
   "cell_type": "code",
   "execution_count": 8,
   "metadata": {},
   "outputs": [
    {
     "data": {
      "application/vnd.jupyter.widget-view+json": {
       "model_id": "e4016be58d844bec99de3796075402e6",
       "version_major": 2,
       "version_minor": 0
      },
      "text/plain": [
       "HBox(children=(FloatProgress(value=0.0, max=200.0), HTML(value='')))"
      ]
     },
     "metadata": {},
     "output_type": "display_data"
    },
    {
     "name": "stdout",
     "output_type": "stream",
     "text": [
      "\n"
     ]
    },
    {
     "data": {
      "application/vnd.jupyter.widget-view+json": {
       "model_id": "80fdc8843ecb489481a6dd0748766aa9",
       "version_major": 2,
       "version_minor": 0
      },
      "text/plain": [
       "HBox(children=(FloatProgress(value=0.0, max=50.0), HTML(value='')))"
      ]
     },
     "metadata": {},
     "output_type": "display_data"
    },
    {
     "name": "stdout",
     "output_type": "stream",
     "text": [
      "\n"
     ]
    },
    {
     "data": {
      "application/vnd.jupyter.widget-view+json": {
       "model_id": "8fcd61f5c57d46cdbf153f48ecf11ea7",
       "version_major": 2,
       "version_minor": 0
      },
      "text/plain": [
       "HBox(children=(FloatProgress(value=1.0, bar_style='info', max=1.0), HTML(value='')))"
      ]
     },
     "metadata": {},
     "output_type": "display_data"
    },
    {
     "name": "stdout",
     "output_type": "stream",
     "text": [
      "\n"
     ]
    },
    {
     "data": {
      "application/vnd.jupyter.widget-view+json": {
       "model_id": "6536d7871dbd43129725e0dd44a0c77e",
       "version_major": 2,
       "version_minor": 0
      },
      "text/plain": [
       "HBox(children=(FloatProgress(value=1.0, bar_style='info', max=1.0), HTML(value='')))"
      ]
     },
     "metadata": {},
     "output_type": "display_data"
    },
    {
     "name": "stdout",
     "output_type": "stream",
     "text": [
      "\n"
     ]
    },
    {
     "data": {
      "application/vnd.jupyter.widget-view+json": {
       "model_id": "a30aeccb698b4d5db65fc01030ccc766",
       "version_major": 2,
       "version_minor": 0
      },
      "text/plain": [
       "HBox(children=(FloatProgress(value=1.0, bar_style='info', max=1.0), HTML(value='')))"
      ]
     },
     "metadata": {},
     "output_type": "display_data"
    },
    {
     "name": "stdout",
     "output_type": "stream",
     "text": [
      "\n"
     ]
    },
    {
     "data": {
      "application/vnd.jupyter.widget-view+json": {
       "model_id": "157d39ce7d1c46f693c4605f5b904e9c",
       "version_major": 2,
       "version_minor": 0
      },
      "text/plain": [
       "HBox(children=(FloatProgress(value=1.0, bar_style='info', max=1.0), HTML(value='')))"
      ]
     },
     "metadata": {},
     "output_type": "display_data"
    },
    {
     "name": "stdout",
     "output_type": "stream",
     "text": [
      "\n"
     ]
    },
    {
     "data": {
      "application/vnd.jupyter.widget-view+json": {
       "model_id": "9dafccc573154a7888b29accad1bffde",
       "version_major": 2,
       "version_minor": 0
      },
      "text/plain": [
       "HBox(children=(FloatProgress(value=1.0, bar_style='info', max=1.0), HTML(value='')))"
      ]
     },
     "metadata": {},
     "output_type": "display_data"
    },
    {
     "name": "stdout",
     "output_type": "stream",
     "text": [
      "\n"
     ]
    },
    {
     "data": {
      "application/vnd.jupyter.widget-view+json": {
       "model_id": "ca212d6119f9435c8612e8e1f40d7f0a",
       "version_major": 2,
       "version_minor": 0
      },
      "text/plain": [
       "HBox(children=(FloatProgress(value=1.0, bar_style='info', max=1.0), HTML(value='')))"
      ]
     },
     "metadata": {},
     "output_type": "display_data"
    },
    {
     "name": "stdout",
     "output_type": "stream",
     "text": [
      "\n"
     ]
    },
    {
     "data": {
      "application/vnd.jupyter.widget-view+json": {
       "model_id": "bbf275dfd9ff446eb9019c3acfda0cf3",
       "version_major": 2,
       "version_minor": 0
      },
      "text/plain": [
       "HBox(children=(FloatProgress(value=1.0, bar_style='info', max=1.0), HTML(value='')))"
      ]
     },
     "metadata": {},
     "output_type": "display_data"
    },
    {
     "name": "stdout",
     "output_type": "stream",
     "text": [
      "\n"
     ]
    },
    {
     "data": {
      "application/vnd.jupyter.widget-view+json": {
       "model_id": "defb95c9de9b4b3e82d9b3ffbbe5622a",
       "version_major": 2,
       "version_minor": 0
      },
      "text/plain": [
       "HBox(children=(FloatProgress(value=1.0, bar_style='info', max=1.0), HTML(value='')))"
      ]
     },
     "metadata": {},
     "output_type": "display_data"
    },
    {
     "name": "stdout",
     "output_type": "stream",
     "text": [
      "\n"
     ]
    },
    {
     "data": {
      "application/vnd.jupyter.widget-view+json": {
       "model_id": "2d8a0f965f2c41169b67fa415a580896",
       "version_major": 2,
       "version_minor": 0
      },
      "text/plain": [
       "HBox(children=(FloatProgress(value=1.0, bar_style='info', max=1.0), HTML(value='')))"
      ]
     },
     "metadata": {},
     "output_type": "display_data"
    },
    {
     "name": "stdout",
     "output_type": "stream",
     "text": [
      "\n"
     ]
    },
    {
     "data": {
      "application/vnd.jupyter.widget-view+json": {
       "model_id": "d491801c7b3549aabe2a3dcf3446ef89",
       "version_major": 2,
       "version_minor": 0
      },
      "text/plain": [
       "HBox(children=(FloatProgress(value=1.0, bar_style='info', max=1.0), HTML(value='')))"
      ]
     },
     "metadata": {},
     "output_type": "display_data"
    },
    {
     "name": "stdout",
     "output_type": "stream",
     "text": [
      "\n"
     ]
    }
   ],
   "source": [
    "#Train\n",
    "indices = list(range(0, len(x_train), 1000))\n",
    "\n",
    "indices.append(len(x_train))\n",
    "\n",
    "for i in tqdm(range(len(indices) - 1)):\n",
    "    async_gen_topomap(x_train, y_train, [1,2,3,4,5], indices[i], indices[i+1], 'topomaps_trigg_all_30', t='train')\n",
    "    \n",
    "#test\n",
    "indices = list(range(0, len(x_test), 1000))\n",
    "\n",
    "indices.append(len(x_test))\n",
    "\n",
    "for i in tqdm(range(len(indices) - 1)):\n",
    "    async_gen_topomap(x_test, y_test, [1,2,3,4,5], indices[i], indices[i+1], 'topomaps_trigg_all_30', t='test')\n",
    "    \n",
    "# Combine Train\n",
    "\n",
    "combine_topomaps('topomaps_trigg_all_30/train/alpha', 'topomaps_trigg_all_30/train/beta', 'topomaps_trigg_all_30/train/gamma', 1, 'topomaps_trigg_all_30/train/combined')\n",
    "combine_topomaps('topomaps_trigg_all_30/train/alpha', 'topomaps_trigg_all_30/train/beta', 'topomaps_trigg_all_30/train/gamma', 2, 'topomaps_trigg_all_30/train/combined')\n",
    "combine_topomaps('topomaps_trigg_all_30/train/alpha', 'topomaps_trigg_all_30/train/beta', 'topomaps_trigg_all_30/train/gamma', 3, 'topomaps_trigg_all_30/train/combined')\n",
    "combine_topomaps('topomaps_trigg_all_30/train/alpha', 'topomaps_trigg_all_30/train/beta', 'topomaps_trigg_all_30/train/gamma', 4, 'topomaps_trigg_all_30/train/combined')\n",
    "combine_topomaps('topomaps_trigg_all_30/train/alpha', 'topomaps_trigg_all_30/train/beta', 'topomaps_trigg_all_30/train/gamma', 5, 'topomaps_trigg_all_30/train/combined')\n",
    "\n",
    "# Combine Test\n",
    "\n",
    "combine_topomaps('topomaps_trigg_all_30/test/alpha', 'topomaps_trigg_all_30/test/beta', 'topomaps_trigg_all_30/test/gamma', 1, 'topomaps_trigg_all_30/test/combined')\n",
    "combine_topomaps('topomaps_trigg_all_30/test/alpha', 'topomaps_trigg_all_30/test/beta', 'topomaps_trigg_all_30/test/gamma', 2, 'topomaps_trigg_all_30/test/combined')\n",
    "combine_topomaps('topomaps_trigg_all_30/test/alpha', 'topomaps_trigg_all_30/test/beta', 'topomaps_trigg_all_30/test/gamma', 3, 'topomaps_trigg_all_30/test/combined')\n",
    "combine_topomaps('topomaps_trigg_all_30/test/alpha', 'topomaps_trigg_all_30/test/beta', 'topomaps_trigg_all_30/test/gamma', 4, 'topomaps_trigg_all_30/test/combined')\n",
    "combine_topomaps('topomaps_trigg_all_30/test/alpha', 'topomaps_trigg_all_30/test/beta', 'topomaps_trigg_all_30/test/gamma', 5, 'topomaps_trigg_all_30/test/combined')"
   ]
  },
  {
   "cell_type": "markdown",
   "metadata": {},
   "source": [
    "## Topomap Gen RT (Rate - 50)"
   ]
  },
  {
   "cell_type": "code",
   "execution_count": 17,
   "metadata": {},
   "outputs": [],
   "source": [
    "data = pd.read_csv('data_RT_50/data_bp_RT_50.csv', header=None).values\n",
    "labels = pd.read_csv('data_RT_50/labels_RT_50.csv', header=None).values\n",
    "subjects = pd.read_csv('data_RT_50/subject_RT_50.csv', header=None)\n",
    "unique_subs = np.unique(subjects)\n",
    "\n",
    "scaler = MinMaxScaler()\n",
    "\n",
    "X = scaler.fit_transform(data)\n",
    "y = labels.astype(np.int16).flatten()"
   ]
  },
  {
   "cell_type": "code",
   "execution_count": 18,
   "metadata": {},
   "outputs": [],
   "source": [
    "X_df = pd.DataFrame(X)\n",
    "Y_df = pd.DataFrame(y)\n",
    "X_df.insert(0, 'trial_no', ['bts_{}.png'.format(i) for i in np.arange(1, data.shape[0] + 1)])\n",
    "\n",
    "subjects.insert(0, 'trial_no', ['bts_{}.png'.format(i) for i in np.arange(1, data.shape[0] + 1)])\n",
    "\n",
    "Y_df.columns = ['labels']\n",
    "\n",
    "subjects.columns = ['trial_no', 'subs']"
   ]
  },
  {
   "cell_type": "code",
   "execution_count": 19,
   "metadata": {},
   "outputs": [
    {
     "data": {
      "text/html": [
       "<div>\n",
       "<style scoped>\n",
       "    .dataframe tbody tr th:only-of-type {\n",
       "        vertical-align: middle;\n",
       "    }\n",
       "\n",
       "    .dataframe tbody tr th {\n",
       "        vertical-align: top;\n",
       "    }\n",
       "\n",
       "    .dataframe thead th {\n",
       "        text-align: right;\n",
       "    }\n",
       "</style>\n",
       "<table border=\"1\" class=\"dataframe\">\n",
       "  <thead>\n",
       "    <tr style=\"text-align: right;\">\n",
       "      <th></th>\n",
       "      <th>trial_no</th>\n",
       "      <th>0</th>\n",
       "      <th>1</th>\n",
       "      <th>2</th>\n",
       "      <th>3</th>\n",
       "      <th>4</th>\n",
       "      <th>5</th>\n",
       "      <th>6</th>\n",
       "      <th>7</th>\n",
       "      <th>8</th>\n",
       "      <th>...</th>\n",
       "      <th>182</th>\n",
       "      <th>183</th>\n",
       "      <th>184</th>\n",
       "      <th>185</th>\n",
       "      <th>186</th>\n",
       "      <th>187</th>\n",
       "      <th>188</th>\n",
       "      <th>189</th>\n",
       "      <th>190</th>\n",
       "      <th>191</th>\n",
       "    </tr>\n",
       "  </thead>\n",
       "  <tbody>\n",
       "    <tr>\n",
       "      <th>0</th>\n",
       "      <td>bts_1.png</td>\n",
       "      <td>0.001153</td>\n",
       "      <td>0.000143</td>\n",
       "      <td>0.002179</td>\n",
       "      <td>0.000444</td>\n",
       "      <td>0.000940</td>\n",
       "      <td>0.012114</td>\n",
       "      <td>0.000105</td>\n",
       "      <td>0.000329</td>\n",
       "      <td>0.000305</td>\n",
       "      <td>...</td>\n",
       "      <td>0.000189</td>\n",
       "      <td>0.000156</td>\n",
       "      <td>0.000321</td>\n",
       "      <td>0.000416</td>\n",
       "      <td>0.000025</td>\n",
       "      <td>0.000229</td>\n",
       "      <td>0.000201</td>\n",
       "      <td>0.000197</td>\n",
       "      <td>0.000178</td>\n",
       "      <td>0.000216</td>\n",
       "    </tr>\n",
       "    <tr>\n",
       "      <th>1</th>\n",
       "      <td>bts_2.png</td>\n",
       "      <td>0.003383</td>\n",
       "      <td>0.000196</td>\n",
       "      <td>0.002839</td>\n",
       "      <td>0.000509</td>\n",
       "      <td>0.001543</td>\n",
       "      <td>0.006793</td>\n",
       "      <td>0.000028</td>\n",
       "      <td>0.000110</td>\n",
       "      <td>0.000115</td>\n",
       "      <td>...</td>\n",
       "      <td>0.000059</td>\n",
       "      <td>0.000071</td>\n",
       "      <td>0.000166</td>\n",
       "      <td>0.000278</td>\n",
       "      <td>0.000014</td>\n",
       "      <td>0.000092</td>\n",
       "      <td>0.000083</td>\n",
       "      <td>0.000086</td>\n",
       "      <td>0.000086</td>\n",
       "      <td>0.000104</td>\n",
       "    </tr>\n",
       "    <tr>\n",
       "      <th>2</th>\n",
       "      <td>bts_3.png</td>\n",
       "      <td>0.002366</td>\n",
       "      <td>0.000158</td>\n",
       "      <td>0.002680</td>\n",
       "      <td>0.000524</td>\n",
       "      <td>0.002084</td>\n",
       "      <td>0.005444</td>\n",
       "      <td>0.000105</td>\n",
       "      <td>0.000253</td>\n",
       "      <td>0.000251</td>\n",
       "      <td>...</td>\n",
       "      <td>0.000061</td>\n",
       "      <td>0.000070</td>\n",
       "      <td>0.000086</td>\n",
       "      <td>0.000292</td>\n",
       "      <td>0.000006</td>\n",
       "      <td>0.000090</td>\n",
       "      <td>0.000078</td>\n",
       "      <td>0.000078</td>\n",
       "      <td>0.000047</td>\n",
       "      <td>0.000082</td>\n",
       "    </tr>\n",
       "    <tr>\n",
       "      <th>3</th>\n",
       "      <td>bts_4.png</td>\n",
       "      <td>0.004592</td>\n",
       "      <td>0.000331</td>\n",
       "      <td>0.006751</td>\n",
       "      <td>0.000578</td>\n",
       "      <td>0.003266</td>\n",
       "      <td>0.013149</td>\n",
       "      <td>0.000046</td>\n",
       "      <td>0.000316</td>\n",
       "      <td>0.000242</td>\n",
       "      <td>...</td>\n",
       "      <td>0.000132</td>\n",
       "      <td>0.000131</td>\n",
       "      <td>0.000242</td>\n",
       "      <td>0.000581</td>\n",
       "      <td>0.000013</td>\n",
       "      <td>0.000175</td>\n",
       "      <td>0.000161</td>\n",
       "      <td>0.000167</td>\n",
       "      <td>0.000145</td>\n",
       "      <td>0.000176</td>\n",
       "    </tr>\n",
       "    <tr>\n",
       "      <th>4</th>\n",
       "      <td>bts_5.png</td>\n",
       "      <td>0.002612</td>\n",
       "      <td>0.000095</td>\n",
       "      <td>0.004595</td>\n",
       "      <td>0.000454</td>\n",
       "      <td>0.002104</td>\n",
       "      <td>0.009992</td>\n",
       "      <td>0.000200</td>\n",
       "      <td>0.000422</td>\n",
       "      <td>0.000429</td>\n",
       "      <td>...</td>\n",
       "      <td>0.000053</td>\n",
       "      <td>0.000082</td>\n",
       "      <td>0.000153</td>\n",
       "      <td>0.000275</td>\n",
       "      <td>0.000008</td>\n",
       "      <td>0.000078</td>\n",
       "      <td>0.000072</td>\n",
       "      <td>0.000096</td>\n",
       "      <td>0.000095</td>\n",
       "      <td>0.000113</td>\n",
       "    </tr>\n",
       "    <tr>\n",
       "      <th>...</th>\n",
       "      <td>...</td>\n",
       "      <td>...</td>\n",
       "      <td>...</td>\n",
       "      <td>...</td>\n",
       "      <td>...</td>\n",
       "      <td>...</td>\n",
       "      <td>...</td>\n",
       "      <td>...</td>\n",
       "      <td>...</td>\n",
       "      <td>...</td>\n",
       "      <td>...</td>\n",
       "      <td>...</td>\n",
       "      <td>...</td>\n",
       "      <td>...</td>\n",
       "      <td>...</td>\n",
       "      <td>...</td>\n",
       "      <td>...</td>\n",
       "      <td>...</td>\n",
       "      <td>...</td>\n",
       "      <td>...</td>\n",
       "      <td>...</td>\n",
       "    </tr>\n",
       "    <tr>\n",
       "      <th>62520</th>\n",
       "      <td>bts_62521.png</td>\n",
       "      <td>0.007808</td>\n",
       "      <td>0.002116</td>\n",
       "      <td>0.010399</td>\n",
       "      <td>0.005119</td>\n",
       "      <td>0.009993</td>\n",
       "      <td>0.012986</td>\n",
       "      <td>0.002681</td>\n",
       "      <td>0.006699</td>\n",
       "      <td>0.008175</td>\n",
       "      <td>...</td>\n",
       "      <td>0.013258</td>\n",
       "      <td>0.004086</td>\n",
       "      <td>0.021316</td>\n",
       "      <td>0.024282</td>\n",
       "      <td>0.001498</td>\n",
       "      <td>0.003931</td>\n",
       "      <td>0.004698</td>\n",
       "      <td>0.016370</td>\n",
       "      <td>0.064974</td>\n",
       "      <td>0.014012</td>\n",
       "    </tr>\n",
       "    <tr>\n",
       "      <th>62521</th>\n",
       "      <td>bts_62522.png</td>\n",
       "      <td>0.013677</td>\n",
       "      <td>0.002843</td>\n",
       "      <td>0.010258</td>\n",
       "      <td>0.011671</td>\n",
       "      <td>0.011672</td>\n",
       "      <td>0.007920</td>\n",
       "      <td>0.002430</td>\n",
       "      <td>0.009102</td>\n",
       "      <td>0.014027</td>\n",
       "      <td>...</td>\n",
       "      <td>0.027036</td>\n",
       "      <td>0.006001</td>\n",
       "      <td>0.036854</td>\n",
       "      <td>0.030037</td>\n",
       "      <td>0.001634</td>\n",
       "      <td>0.003823</td>\n",
       "      <td>0.004749</td>\n",
       "      <td>0.024205</td>\n",
       "      <td>0.103538</td>\n",
       "      <td>0.017674</td>\n",
       "    </tr>\n",
       "    <tr>\n",
       "      <th>62522</th>\n",
       "      <td>bts_62523.png</td>\n",
       "      <td>0.044592</td>\n",
       "      <td>0.009517</td>\n",
       "      <td>0.042001</td>\n",
       "      <td>0.042024</td>\n",
       "      <td>0.054755</td>\n",
       "      <td>0.012992</td>\n",
       "      <td>0.008534</td>\n",
       "      <td>0.036768</td>\n",
       "      <td>0.052456</td>\n",
       "      <td>...</td>\n",
       "      <td>0.039431</td>\n",
       "      <td>0.007398</td>\n",
       "      <td>0.032540</td>\n",
       "      <td>0.034019</td>\n",
       "      <td>0.002010</td>\n",
       "      <td>0.003674</td>\n",
       "      <td>0.004943</td>\n",
       "      <td>0.016704</td>\n",
       "      <td>0.100691</td>\n",
       "      <td>0.017916</td>\n",
       "    </tr>\n",
       "    <tr>\n",
       "      <th>62523</th>\n",
       "      <td>bts_62524.png</td>\n",
       "      <td>0.029406</td>\n",
       "      <td>0.007621</td>\n",
       "      <td>0.036215</td>\n",
       "      <td>0.018303</td>\n",
       "      <td>0.032274</td>\n",
       "      <td>0.044282</td>\n",
       "      <td>0.007879</td>\n",
       "      <td>0.014534</td>\n",
       "      <td>0.014792</td>\n",
       "      <td>...</td>\n",
       "      <td>0.214298</td>\n",
       "      <td>0.013244</td>\n",
       "      <td>0.044141</td>\n",
       "      <td>0.030387</td>\n",
       "      <td>0.001635</td>\n",
       "      <td>0.006629</td>\n",
       "      <td>0.009728</td>\n",
       "      <td>0.043237</td>\n",
       "      <td>0.106160</td>\n",
       "      <td>0.020900</td>\n",
       "    </tr>\n",
       "    <tr>\n",
       "      <th>62524</th>\n",
       "      <td>bts_62525.png</td>\n",
       "      <td>0.021702</td>\n",
       "      <td>0.004037</td>\n",
       "      <td>0.017053</td>\n",
       "      <td>0.025555</td>\n",
       "      <td>0.031431</td>\n",
       "      <td>0.003476</td>\n",
       "      <td>0.003434</td>\n",
       "      <td>0.022122</td>\n",
       "      <td>0.039659</td>\n",
       "      <td>...</td>\n",
       "      <td>0.030607</td>\n",
       "      <td>0.009981</td>\n",
       "      <td>0.037778</td>\n",
       "      <td>0.028230</td>\n",
       "      <td>0.001546</td>\n",
       "      <td>0.003186</td>\n",
       "      <td>0.003654</td>\n",
       "      <td>0.025592</td>\n",
       "      <td>0.072659</td>\n",
       "      <td>0.012842</td>\n",
       "    </tr>\n",
       "  </tbody>\n",
       "</table>\n",
       "<p>62525 rows × 193 columns</p>\n",
       "</div>"
      ],
      "text/plain": [
       "            trial_no         0         1         2         3         4  \\\n",
       "0          bts_1.png  0.001153  0.000143  0.002179  0.000444  0.000940   \n",
       "1          bts_2.png  0.003383  0.000196  0.002839  0.000509  0.001543   \n",
       "2          bts_3.png  0.002366  0.000158  0.002680  0.000524  0.002084   \n",
       "3          bts_4.png  0.004592  0.000331  0.006751  0.000578  0.003266   \n",
       "4          bts_5.png  0.002612  0.000095  0.004595  0.000454  0.002104   \n",
       "...              ...       ...       ...       ...       ...       ...   \n",
       "62520  bts_62521.png  0.007808  0.002116  0.010399  0.005119  0.009993   \n",
       "62521  bts_62522.png  0.013677  0.002843  0.010258  0.011671  0.011672   \n",
       "62522  bts_62523.png  0.044592  0.009517  0.042001  0.042024  0.054755   \n",
       "62523  bts_62524.png  0.029406  0.007621  0.036215  0.018303  0.032274   \n",
       "62524  bts_62525.png  0.021702  0.004037  0.017053  0.025555  0.031431   \n",
       "\n",
       "              5         6         7         8  ...       182       183  \\\n",
       "0      0.012114  0.000105  0.000329  0.000305  ...  0.000189  0.000156   \n",
       "1      0.006793  0.000028  0.000110  0.000115  ...  0.000059  0.000071   \n",
       "2      0.005444  0.000105  0.000253  0.000251  ...  0.000061  0.000070   \n",
       "3      0.013149  0.000046  0.000316  0.000242  ...  0.000132  0.000131   \n",
       "4      0.009992  0.000200  0.000422  0.000429  ...  0.000053  0.000082   \n",
       "...         ...       ...       ...       ...  ...       ...       ...   \n",
       "62520  0.012986  0.002681  0.006699  0.008175  ...  0.013258  0.004086   \n",
       "62521  0.007920  0.002430  0.009102  0.014027  ...  0.027036  0.006001   \n",
       "62522  0.012992  0.008534  0.036768  0.052456  ...  0.039431  0.007398   \n",
       "62523  0.044282  0.007879  0.014534  0.014792  ...  0.214298  0.013244   \n",
       "62524  0.003476  0.003434  0.022122  0.039659  ...  0.030607  0.009981   \n",
       "\n",
       "            184       185       186       187       188       189       190  \\\n",
       "0      0.000321  0.000416  0.000025  0.000229  0.000201  0.000197  0.000178   \n",
       "1      0.000166  0.000278  0.000014  0.000092  0.000083  0.000086  0.000086   \n",
       "2      0.000086  0.000292  0.000006  0.000090  0.000078  0.000078  0.000047   \n",
       "3      0.000242  0.000581  0.000013  0.000175  0.000161  0.000167  0.000145   \n",
       "4      0.000153  0.000275  0.000008  0.000078  0.000072  0.000096  0.000095   \n",
       "...         ...       ...       ...       ...       ...       ...       ...   \n",
       "62520  0.021316  0.024282  0.001498  0.003931  0.004698  0.016370  0.064974   \n",
       "62521  0.036854  0.030037  0.001634  0.003823  0.004749  0.024205  0.103538   \n",
       "62522  0.032540  0.034019  0.002010  0.003674  0.004943  0.016704  0.100691   \n",
       "62523  0.044141  0.030387  0.001635  0.006629  0.009728  0.043237  0.106160   \n",
       "62524  0.037778  0.028230  0.001546  0.003186  0.003654  0.025592  0.072659   \n",
       "\n",
       "            191  \n",
       "0      0.000216  \n",
       "1      0.000104  \n",
       "2      0.000082  \n",
       "3      0.000176  \n",
       "4      0.000113  \n",
       "...         ...  \n",
       "62520  0.014012  \n",
       "62521  0.017674  \n",
       "62522  0.017916  \n",
       "62523  0.020900  \n",
       "62524  0.012842  \n",
       "\n",
       "[62525 rows x 193 columns]"
      ]
     },
     "execution_count": 19,
     "metadata": {},
     "output_type": "execute_result"
    }
   ],
   "source": [
    "X_df"
   ]
  },
  {
   "cell_type": "code",
   "execution_count": 20,
   "metadata": {},
   "outputs": [],
   "source": [
    "X_train, X_test, y_train, y_test = train_test_split(X_df, Y_df, random_state=55, test_size=0.25, stratify=subjects['subs'])"
   ]
  },
  {
   "cell_type": "code",
   "execution_count": 21,
   "metadata": {},
   "outputs": [
    {
     "data": {
      "text/html": [
       "<div>\n",
       "<style scoped>\n",
       "    .dataframe tbody tr th:only-of-type {\n",
       "        vertical-align: middle;\n",
       "    }\n",
       "\n",
       "    .dataframe tbody tr th {\n",
       "        vertical-align: top;\n",
       "    }\n",
       "\n",
       "    .dataframe thead th {\n",
       "        text-align: right;\n",
       "    }\n",
       "</style>\n",
       "<table border=\"1\" class=\"dataframe\">\n",
       "  <thead>\n",
       "    <tr style=\"text-align: right;\">\n",
       "      <th></th>\n",
       "      <th>trial_no</th>\n",
       "      <th>0</th>\n",
       "      <th>1</th>\n",
       "      <th>2</th>\n",
       "      <th>3</th>\n",
       "      <th>4</th>\n",
       "      <th>5</th>\n",
       "      <th>6</th>\n",
       "      <th>7</th>\n",
       "      <th>8</th>\n",
       "      <th>...</th>\n",
       "      <th>182</th>\n",
       "      <th>183</th>\n",
       "      <th>184</th>\n",
       "      <th>185</th>\n",
       "      <th>186</th>\n",
       "      <th>187</th>\n",
       "      <th>188</th>\n",
       "      <th>189</th>\n",
       "      <th>190</th>\n",
       "      <th>191</th>\n",
       "    </tr>\n",
       "    <tr>\n",
       "      <th>subs</th>\n",
       "      <th></th>\n",
       "      <th></th>\n",
       "      <th></th>\n",
       "      <th></th>\n",
       "      <th></th>\n",
       "      <th></th>\n",
       "      <th></th>\n",
       "      <th></th>\n",
       "      <th></th>\n",
       "      <th></th>\n",
       "      <th></th>\n",
       "      <th></th>\n",
       "      <th></th>\n",
       "      <th></th>\n",
       "      <th></th>\n",
       "      <th></th>\n",
       "      <th></th>\n",
       "      <th></th>\n",
       "      <th></th>\n",
       "      <th></th>\n",
       "      <th></th>\n",
       "    </tr>\n",
       "  </thead>\n",
       "  <tbody>\n",
       "    <tr>\n",
       "      <th>N1</th>\n",
       "      <td>250</td>\n",
       "      <td>250</td>\n",
       "      <td>250</td>\n",
       "      <td>250</td>\n",
       "      <td>250</td>\n",
       "      <td>250</td>\n",
       "      <td>250</td>\n",
       "      <td>250</td>\n",
       "      <td>250</td>\n",
       "      <td>250</td>\n",
       "      <td>...</td>\n",
       "      <td>250</td>\n",
       "      <td>250</td>\n",
       "      <td>250</td>\n",
       "      <td>250</td>\n",
       "      <td>250</td>\n",
       "      <td>250</td>\n",
       "      <td>250</td>\n",
       "      <td>250</td>\n",
       "      <td>250</td>\n",
       "      <td>250</td>\n",
       "    </tr>\n",
       "    <tr>\n",
       "      <th>N10</th>\n",
       "      <td>126</td>\n",
       "      <td>126</td>\n",
       "      <td>126</td>\n",
       "      <td>126</td>\n",
       "      <td>126</td>\n",
       "      <td>126</td>\n",
       "      <td>126</td>\n",
       "      <td>126</td>\n",
       "      <td>126</td>\n",
       "      <td>126</td>\n",
       "      <td>...</td>\n",
       "      <td>126</td>\n",
       "      <td>126</td>\n",
       "      <td>126</td>\n",
       "      <td>126</td>\n",
       "      <td>126</td>\n",
       "      <td>126</td>\n",
       "      <td>126</td>\n",
       "      <td>126</td>\n",
       "      <td>126</td>\n",
       "      <td>126</td>\n",
       "    </tr>\n",
       "    <tr>\n",
       "      <th>N11</th>\n",
       "      <td>250</td>\n",
       "      <td>250</td>\n",
       "      <td>250</td>\n",
       "      <td>250</td>\n",
       "      <td>250</td>\n",
       "      <td>250</td>\n",
       "      <td>250</td>\n",
       "      <td>250</td>\n",
       "      <td>250</td>\n",
       "      <td>250</td>\n",
       "      <td>...</td>\n",
       "      <td>250</td>\n",
       "      <td>250</td>\n",
       "      <td>250</td>\n",
       "      <td>250</td>\n",
       "      <td>250</td>\n",
       "      <td>250</td>\n",
       "      <td>250</td>\n",
       "      <td>250</td>\n",
       "      <td>250</td>\n",
       "      <td>250</td>\n",
       "    </tr>\n",
       "    <tr>\n",
       "      <th>N12</th>\n",
       "      <td>375</td>\n",
       "      <td>375</td>\n",
       "      <td>375</td>\n",
       "      <td>375</td>\n",
       "      <td>375</td>\n",
       "      <td>375</td>\n",
       "      <td>375</td>\n",
       "      <td>375</td>\n",
       "      <td>375</td>\n",
       "      <td>375</td>\n",
       "      <td>...</td>\n",
       "      <td>375</td>\n",
       "      <td>375</td>\n",
       "      <td>375</td>\n",
       "      <td>375</td>\n",
       "      <td>375</td>\n",
       "      <td>375</td>\n",
       "      <td>375</td>\n",
       "      <td>375</td>\n",
       "      <td>375</td>\n",
       "      <td>375</td>\n",
       "    </tr>\n",
       "    <tr>\n",
       "      <th>N13</th>\n",
       "      <td>375</td>\n",
       "      <td>375</td>\n",
       "      <td>375</td>\n",
       "      <td>375</td>\n",
       "      <td>375</td>\n",
       "      <td>375</td>\n",
       "      <td>375</td>\n",
       "      <td>375</td>\n",
       "      <td>375</td>\n",
       "      <td>375</td>\n",
       "      <td>...</td>\n",
       "      <td>375</td>\n",
       "      <td>375</td>\n",
       "      <td>375</td>\n",
       "      <td>375</td>\n",
       "      <td>375</td>\n",
       "      <td>375</td>\n",
       "      <td>375</td>\n",
       "      <td>375</td>\n",
       "      <td>375</td>\n",
       "      <td>375</td>\n",
       "    </tr>\n",
       "    <tr>\n",
       "      <th>N14</th>\n",
       "      <td>250</td>\n",
       "      <td>250</td>\n",
       "      <td>250</td>\n",
       "      <td>250</td>\n",
       "      <td>250</td>\n",
       "      <td>250</td>\n",
       "      <td>250</td>\n",
       "      <td>250</td>\n",
       "      <td>250</td>\n",
       "      <td>250</td>\n",
       "      <td>...</td>\n",
       "      <td>250</td>\n",
       "      <td>250</td>\n",
       "      <td>250</td>\n",
       "      <td>250</td>\n",
       "      <td>250</td>\n",
       "      <td>250</td>\n",
       "      <td>250</td>\n",
       "      <td>250</td>\n",
       "      <td>250</td>\n",
       "      <td>250</td>\n",
       "    </tr>\n",
       "    <tr>\n",
       "      <th>N15</th>\n",
       "      <td>250</td>\n",
       "      <td>250</td>\n",
       "      <td>250</td>\n",
       "      <td>250</td>\n",
       "      <td>250</td>\n",
       "      <td>250</td>\n",
       "      <td>250</td>\n",
       "      <td>250</td>\n",
       "      <td>250</td>\n",
       "      <td>250</td>\n",
       "      <td>...</td>\n",
       "      <td>250</td>\n",
       "      <td>250</td>\n",
       "      <td>250</td>\n",
       "      <td>250</td>\n",
       "      <td>250</td>\n",
       "      <td>250</td>\n",
       "      <td>250</td>\n",
       "      <td>250</td>\n",
       "      <td>250</td>\n",
       "      <td>250</td>\n",
       "    </tr>\n",
       "    <tr>\n",
       "      <th>N2</th>\n",
       "      <td>375</td>\n",
       "      <td>375</td>\n",
       "      <td>375</td>\n",
       "      <td>375</td>\n",
       "      <td>375</td>\n",
       "      <td>375</td>\n",
       "      <td>375</td>\n",
       "      <td>375</td>\n",
       "      <td>375</td>\n",
       "      <td>375</td>\n",
       "      <td>...</td>\n",
       "      <td>375</td>\n",
       "      <td>375</td>\n",
       "      <td>375</td>\n",
       "      <td>375</td>\n",
       "      <td>375</td>\n",
       "      <td>375</td>\n",
       "      <td>375</td>\n",
       "      <td>375</td>\n",
       "      <td>375</td>\n",
       "      <td>375</td>\n",
       "    </tr>\n",
       "    <tr>\n",
       "      <th>N3</th>\n",
       "      <td>375</td>\n",
       "      <td>375</td>\n",
       "      <td>375</td>\n",
       "      <td>375</td>\n",
       "      <td>375</td>\n",
       "      <td>375</td>\n",
       "      <td>375</td>\n",
       "      <td>375</td>\n",
       "      <td>375</td>\n",
       "      <td>375</td>\n",
       "      <td>...</td>\n",
       "      <td>375</td>\n",
       "      <td>375</td>\n",
       "      <td>375</td>\n",
       "      <td>375</td>\n",
       "      <td>375</td>\n",
       "      <td>375</td>\n",
       "      <td>375</td>\n",
       "      <td>375</td>\n",
       "      <td>375</td>\n",
       "      <td>375</td>\n",
       "    </tr>\n",
       "    <tr>\n",
       "      <th>N4</th>\n",
       "      <td>250</td>\n",
       "      <td>250</td>\n",
       "      <td>250</td>\n",
       "      <td>250</td>\n",
       "      <td>250</td>\n",
       "      <td>250</td>\n",
       "      <td>250</td>\n",
       "      <td>250</td>\n",
       "      <td>250</td>\n",
       "      <td>250</td>\n",
       "      <td>...</td>\n",
       "      <td>250</td>\n",
       "      <td>250</td>\n",
       "      <td>250</td>\n",
       "      <td>250</td>\n",
       "      <td>250</td>\n",
       "      <td>250</td>\n",
       "      <td>250</td>\n",
       "      <td>250</td>\n",
       "      <td>250</td>\n",
       "      <td>250</td>\n",
       "    </tr>\n",
       "    <tr>\n",
       "      <th>N5</th>\n",
       "      <td>250</td>\n",
       "      <td>250</td>\n",
       "      <td>250</td>\n",
       "      <td>250</td>\n",
       "      <td>250</td>\n",
       "      <td>250</td>\n",
       "      <td>250</td>\n",
       "      <td>250</td>\n",
       "      <td>250</td>\n",
       "      <td>250</td>\n",
       "      <td>...</td>\n",
       "      <td>250</td>\n",
       "      <td>250</td>\n",
       "      <td>250</td>\n",
       "      <td>250</td>\n",
       "      <td>250</td>\n",
       "      <td>250</td>\n",
       "      <td>250</td>\n",
       "      <td>250</td>\n",
       "      <td>250</td>\n",
       "      <td>250</td>\n",
       "    </tr>\n",
       "    <tr>\n",
       "      <th>N6</th>\n",
       "      <td>375</td>\n",
       "      <td>375</td>\n",
       "      <td>375</td>\n",
       "      <td>375</td>\n",
       "      <td>375</td>\n",
       "      <td>375</td>\n",
       "      <td>375</td>\n",
       "      <td>375</td>\n",
       "      <td>375</td>\n",
       "      <td>375</td>\n",
       "      <td>...</td>\n",
       "      <td>375</td>\n",
       "      <td>375</td>\n",
       "      <td>375</td>\n",
       "      <td>375</td>\n",
       "      <td>375</td>\n",
       "      <td>375</td>\n",
       "      <td>375</td>\n",
       "      <td>375</td>\n",
       "      <td>375</td>\n",
       "      <td>375</td>\n",
       "    </tr>\n",
       "    <tr>\n",
       "      <th>N7</th>\n",
       "      <td>250</td>\n",
       "      <td>250</td>\n",
       "      <td>250</td>\n",
       "      <td>250</td>\n",
       "      <td>250</td>\n",
       "      <td>250</td>\n",
       "      <td>250</td>\n",
       "      <td>250</td>\n",
       "      <td>250</td>\n",
       "      <td>250</td>\n",
       "      <td>...</td>\n",
       "      <td>250</td>\n",
       "      <td>250</td>\n",
       "      <td>250</td>\n",
       "      <td>250</td>\n",
       "      <td>250</td>\n",
       "      <td>250</td>\n",
       "      <td>250</td>\n",
       "      <td>250</td>\n",
       "      <td>250</td>\n",
       "      <td>250</td>\n",
       "    </tr>\n",
       "    <tr>\n",
       "      <th>N8</th>\n",
       "      <td>375</td>\n",
       "      <td>375</td>\n",
       "      <td>375</td>\n",
       "      <td>375</td>\n",
       "      <td>375</td>\n",
       "      <td>375</td>\n",
       "      <td>375</td>\n",
       "      <td>375</td>\n",
       "      <td>375</td>\n",
       "      <td>375</td>\n",
       "      <td>...</td>\n",
       "      <td>375</td>\n",
       "      <td>375</td>\n",
       "      <td>375</td>\n",
       "      <td>375</td>\n",
       "      <td>375</td>\n",
       "      <td>375</td>\n",
       "      <td>375</td>\n",
       "      <td>375</td>\n",
       "      <td>375</td>\n",
       "      <td>375</td>\n",
       "    </tr>\n",
       "    <tr>\n",
       "      <th>N9</th>\n",
       "      <td>250</td>\n",
       "      <td>250</td>\n",
       "      <td>250</td>\n",
       "      <td>250</td>\n",
       "      <td>250</td>\n",
       "      <td>250</td>\n",
       "      <td>250</td>\n",
       "      <td>250</td>\n",
       "      <td>250</td>\n",
       "      <td>250</td>\n",
       "      <td>...</td>\n",
       "      <td>250</td>\n",
       "      <td>250</td>\n",
       "      <td>250</td>\n",
       "      <td>250</td>\n",
       "      <td>250</td>\n",
       "      <td>250</td>\n",
       "      <td>250</td>\n",
       "      <td>250</td>\n",
       "      <td>250</td>\n",
       "      <td>250</td>\n",
       "    </tr>\n",
       "    <tr>\n",
       "      <th>S1</th>\n",
       "      <td>375</td>\n",
       "      <td>375</td>\n",
       "      <td>375</td>\n",
       "      <td>375</td>\n",
       "      <td>375</td>\n",
       "      <td>375</td>\n",
       "      <td>375</td>\n",
       "      <td>375</td>\n",
       "      <td>375</td>\n",
       "      <td>375</td>\n",
       "      <td>...</td>\n",
       "      <td>375</td>\n",
       "      <td>375</td>\n",
       "      <td>375</td>\n",
       "      <td>375</td>\n",
       "      <td>375</td>\n",
       "      <td>375</td>\n",
       "      <td>375</td>\n",
       "      <td>375</td>\n",
       "      <td>375</td>\n",
       "      <td>375</td>\n",
       "    </tr>\n",
       "    <tr>\n",
       "      <th>S10</th>\n",
       "      <td>375</td>\n",
       "      <td>375</td>\n",
       "      <td>375</td>\n",
       "      <td>375</td>\n",
       "      <td>375</td>\n",
       "      <td>375</td>\n",
       "      <td>375</td>\n",
       "      <td>375</td>\n",
       "      <td>375</td>\n",
       "      <td>375</td>\n",
       "      <td>...</td>\n",
       "      <td>375</td>\n",
       "      <td>375</td>\n",
       "      <td>375</td>\n",
       "      <td>375</td>\n",
       "      <td>375</td>\n",
       "      <td>375</td>\n",
       "      <td>375</td>\n",
       "      <td>375</td>\n",
       "      <td>375</td>\n",
       "      <td>375</td>\n",
       "    </tr>\n",
       "    <tr>\n",
       "      <th>S11</th>\n",
       "      <td>250</td>\n",
       "      <td>250</td>\n",
       "      <td>250</td>\n",
       "      <td>250</td>\n",
       "      <td>250</td>\n",
       "      <td>250</td>\n",
       "      <td>250</td>\n",
       "      <td>250</td>\n",
       "      <td>250</td>\n",
       "      <td>250</td>\n",
       "      <td>...</td>\n",
       "      <td>250</td>\n",
       "      <td>250</td>\n",
       "      <td>250</td>\n",
       "      <td>250</td>\n",
       "      <td>250</td>\n",
       "      <td>250</td>\n",
       "      <td>250</td>\n",
       "      <td>250</td>\n",
       "      <td>250</td>\n",
       "      <td>250</td>\n",
       "    </tr>\n",
       "    <tr>\n",
       "      <th>S12</th>\n",
       "      <td>250</td>\n",
       "      <td>250</td>\n",
       "      <td>250</td>\n",
       "      <td>250</td>\n",
       "      <td>250</td>\n",
       "      <td>250</td>\n",
       "      <td>250</td>\n",
       "      <td>250</td>\n",
       "      <td>250</td>\n",
       "      <td>250</td>\n",
       "      <td>...</td>\n",
       "      <td>250</td>\n",
       "      <td>250</td>\n",
       "      <td>250</td>\n",
       "      <td>250</td>\n",
       "      <td>250</td>\n",
       "      <td>250</td>\n",
       "      <td>250</td>\n",
       "      <td>250</td>\n",
       "      <td>250</td>\n",
       "      <td>250</td>\n",
       "    </tr>\n",
       "    <tr>\n",
       "      <th>S13</th>\n",
       "      <td>375</td>\n",
       "      <td>375</td>\n",
       "      <td>375</td>\n",
       "      <td>375</td>\n",
       "      <td>375</td>\n",
       "      <td>375</td>\n",
       "      <td>375</td>\n",
       "      <td>375</td>\n",
       "      <td>375</td>\n",
       "      <td>375</td>\n",
       "      <td>...</td>\n",
       "      <td>375</td>\n",
       "      <td>375</td>\n",
       "      <td>375</td>\n",
       "      <td>375</td>\n",
       "      <td>375</td>\n",
       "      <td>375</td>\n",
       "      <td>375</td>\n",
       "      <td>375</td>\n",
       "      <td>375</td>\n",
       "      <td>375</td>\n",
       "    </tr>\n",
       "    <tr>\n",
       "      <th>S14</th>\n",
       "      <td>375</td>\n",
       "      <td>375</td>\n",
       "      <td>375</td>\n",
       "      <td>375</td>\n",
       "      <td>375</td>\n",
       "      <td>375</td>\n",
       "      <td>375</td>\n",
       "      <td>375</td>\n",
       "      <td>375</td>\n",
       "      <td>375</td>\n",
       "      <td>...</td>\n",
       "      <td>375</td>\n",
       "      <td>375</td>\n",
       "      <td>375</td>\n",
       "      <td>375</td>\n",
       "      <td>375</td>\n",
       "      <td>375</td>\n",
       "      <td>375</td>\n",
       "      <td>375</td>\n",
       "      <td>375</td>\n",
       "      <td>375</td>\n",
       "    </tr>\n",
       "    <tr>\n",
       "      <th>S15</th>\n",
       "      <td>375</td>\n",
       "      <td>375</td>\n",
       "      <td>375</td>\n",
       "      <td>375</td>\n",
       "      <td>375</td>\n",
       "      <td>375</td>\n",
       "      <td>375</td>\n",
       "      <td>375</td>\n",
       "      <td>375</td>\n",
       "      <td>375</td>\n",
       "      <td>...</td>\n",
       "      <td>375</td>\n",
       "      <td>375</td>\n",
       "      <td>375</td>\n",
       "      <td>375</td>\n",
       "      <td>375</td>\n",
       "      <td>375</td>\n",
       "      <td>375</td>\n",
       "      <td>375</td>\n",
       "      <td>375</td>\n",
       "      <td>375</td>\n",
       "    </tr>\n",
       "    <tr>\n",
       "      <th>S16</th>\n",
       "      <td>375</td>\n",
       "      <td>375</td>\n",
       "      <td>375</td>\n",
       "      <td>375</td>\n",
       "      <td>375</td>\n",
       "      <td>375</td>\n",
       "      <td>375</td>\n",
       "      <td>375</td>\n",
       "      <td>375</td>\n",
       "      <td>375</td>\n",
       "      <td>...</td>\n",
       "      <td>375</td>\n",
       "      <td>375</td>\n",
       "      <td>375</td>\n",
       "      <td>375</td>\n",
       "      <td>375</td>\n",
       "      <td>375</td>\n",
       "      <td>375</td>\n",
       "      <td>375</td>\n",
       "      <td>375</td>\n",
       "      <td>375</td>\n",
       "    </tr>\n",
       "    <tr>\n",
       "      <th>S17</th>\n",
       "      <td>251</td>\n",
       "      <td>251</td>\n",
       "      <td>251</td>\n",
       "      <td>251</td>\n",
       "      <td>251</td>\n",
       "      <td>251</td>\n",
       "      <td>251</td>\n",
       "      <td>251</td>\n",
       "      <td>251</td>\n",
       "      <td>251</td>\n",
       "      <td>...</td>\n",
       "      <td>251</td>\n",
       "      <td>251</td>\n",
       "      <td>251</td>\n",
       "      <td>251</td>\n",
       "      <td>251</td>\n",
       "      <td>251</td>\n",
       "      <td>251</td>\n",
       "      <td>251</td>\n",
       "      <td>251</td>\n",
       "      <td>251</td>\n",
       "    </tr>\n",
       "    <tr>\n",
       "      <th>S18</th>\n",
       "      <td>250</td>\n",
       "      <td>250</td>\n",
       "      <td>250</td>\n",
       "      <td>250</td>\n",
       "      <td>250</td>\n",
       "      <td>250</td>\n",
       "      <td>250</td>\n",
       "      <td>250</td>\n",
       "      <td>250</td>\n",
       "      <td>250</td>\n",
       "      <td>...</td>\n",
       "      <td>250</td>\n",
       "      <td>250</td>\n",
       "      <td>250</td>\n",
       "      <td>250</td>\n",
       "      <td>250</td>\n",
       "      <td>250</td>\n",
       "      <td>250</td>\n",
       "      <td>250</td>\n",
       "      <td>250</td>\n",
       "      <td>250</td>\n",
       "    </tr>\n",
       "    <tr>\n",
       "      <th>S19</th>\n",
       "      <td>250</td>\n",
       "      <td>250</td>\n",
       "      <td>250</td>\n",
       "      <td>250</td>\n",
       "      <td>250</td>\n",
       "      <td>250</td>\n",
       "      <td>250</td>\n",
       "      <td>250</td>\n",
       "      <td>250</td>\n",
       "      <td>250</td>\n",
       "      <td>...</td>\n",
       "      <td>250</td>\n",
       "      <td>250</td>\n",
       "      <td>250</td>\n",
       "      <td>250</td>\n",
       "      <td>250</td>\n",
       "      <td>250</td>\n",
       "      <td>250</td>\n",
       "      <td>250</td>\n",
       "      <td>250</td>\n",
       "      <td>250</td>\n",
       "    </tr>\n",
       "    <tr>\n",
       "      <th>S2</th>\n",
       "      <td>251</td>\n",
       "      <td>251</td>\n",
       "      <td>251</td>\n",
       "      <td>251</td>\n",
       "      <td>251</td>\n",
       "      <td>251</td>\n",
       "      <td>251</td>\n",
       "      <td>251</td>\n",
       "      <td>251</td>\n",
       "      <td>251</td>\n",
       "      <td>...</td>\n",
       "      <td>251</td>\n",
       "      <td>251</td>\n",
       "      <td>251</td>\n",
       "      <td>251</td>\n",
       "      <td>251</td>\n",
       "      <td>251</td>\n",
       "      <td>251</td>\n",
       "      <td>251</td>\n",
       "      <td>251</td>\n",
       "      <td>251</td>\n",
       "    </tr>\n",
       "    <tr>\n",
       "      <th>S20</th>\n",
       "      <td>251</td>\n",
       "      <td>251</td>\n",
       "      <td>251</td>\n",
       "      <td>251</td>\n",
       "      <td>251</td>\n",
       "      <td>251</td>\n",
       "      <td>251</td>\n",
       "      <td>251</td>\n",
       "      <td>251</td>\n",
       "      <td>251</td>\n",
       "      <td>...</td>\n",
       "      <td>251</td>\n",
       "      <td>251</td>\n",
       "      <td>251</td>\n",
       "      <td>251</td>\n",
       "      <td>251</td>\n",
       "      <td>251</td>\n",
       "      <td>251</td>\n",
       "      <td>251</td>\n",
       "      <td>251</td>\n",
       "      <td>251</td>\n",
       "    </tr>\n",
       "    <tr>\n",
       "      <th>S21</th>\n",
       "      <td>250</td>\n",
       "      <td>250</td>\n",
       "      <td>250</td>\n",
       "      <td>250</td>\n",
       "      <td>250</td>\n",
       "      <td>250</td>\n",
       "      <td>250</td>\n",
       "      <td>250</td>\n",
       "      <td>250</td>\n",
       "      <td>250</td>\n",
       "      <td>...</td>\n",
       "      <td>250</td>\n",
       "      <td>250</td>\n",
       "      <td>250</td>\n",
       "      <td>250</td>\n",
       "      <td>250</td>\n",
       "      <td>250</td>\n",
       "      <td>250</td>\n",
       "      <td>250</td>\n",
       "      <td>250</td>\n",
       "      <td>250</td>\n",
       "    </tr>\n",
       "    <tr>\n",
       "      <th>S3</th>\n",
       "      <td>375</td>\n",
       "      <td>375</td>\n",
       "      <td>375</td>\n",
       "      <td>375</td>\n",
       "      <td>375</td>\n",
       "      <td>375</td>\n",
       "      <td>375</td>\n",
       "      <td>375</td>\n",
       "      <td>375</td>\n",
       "      <td>375</td>\n",
       "      <td>...</td>\n",
       "      <td>375</td>\n",
       "      <td>375</td>\n",
       "      <td>375</td>\n",
       "      <td>375</td>\n",
       "      <td>375</td>\n",
       "      <td>375</td>\n",
       "      <td>375</td>\n",
       "      <td>375</td>\n",
       "      <td>375</td>\n",
       "      <td>375</td>\n",
       "    </tr>\n",
       "    <tr>\n",
       "      <th>S4</th>\n",
       "      <td>375</td>\n",
       "      <td>375</td>\n",
       "      <td>375</td>\n",
       "      <td>375</td>\n",
       "      <td>375</td>\n",
       "      <td>375</td>\n",
       "      <td>375</td>\n",
       "      <td>375</td>\n",
       "      <td>375</td>\n",
       "      <td>375</td>\n",
       "      <td>...</td>\n",
       "      <td>375</td>\n",
       "      <td>375</td>\n",
       "      <td>375</td>\n",
       "      <td>375</td>\n",
       "      <td>375</td>\n",
       "      <td>375</td>\n",
       "      <td>375</td>\n",
       "      <td>375</td>\n",
       "      <td>375</td>\n",
       "      <td>375</td>\n",
       "    </tr>\n",
       "    <tr>\n",
       "      <th>S5</th>\n",
       "      <td>375</td>\n",
       "      <td>375</td>\n",
       "      <td>375</td>\n",
       "      <td>375</td>\n",
       "      <td>375</td>\n",
       "      <td>375</td>\n",
       "      <td>375</td>\n",
       "      <td>375</td>\n",
       "      <td>375</td>\n",
       "      <td>375</td>\n",
       "      <td>...</td>\n",
       "      <td>375</td>\n",
       "      <td>375</td>\n",
       "      <td>375</td>\n",
       "      <td>375</td>\n",
       "      <td>375</td>\n",
       "      <td>375</td>\n",
       "      <td>375</td>\n",
       "      <td>375</td>\n",
       "      <td>375</td>\n",
       "      <td>375</td>\n",
       "    </tr>\n",
       "    <tr>\n",
       "      <th>S6</th>\n",
       "      <td>375</td>\n",
       "      <td>375</td>\n",
       "      <td>375</td>\n",
       "      <td>375</td>\n",
       "      <td>375</td>\n",
       "      <td>375</td>\n",
       "      <td>375</td>\n",
       "      <td>375</td>\n",
       "      <td>375</td>\n",
       "      <td>375</td>\n",
       "      <td>...</td>\n",
       "      <td>375</td>\n",
       "      <td>375</td>\n",
       "      <td>375</td>\n",
       "      <td>375</td>\n",
       "      <td>375</td>\n",
       "      <td>375</td>\n",
       "      <td>375</td>\n",
       "      <td>375</td>\n",
       "      <td>375</td>\n",
       "      <td>375</td>\n",
       "    </tr>\n",
       "    <tr>\n",
       "      <th>S7</th>\n",
       "      <td>251</td>\n",
       "      <td>251</td>\n",
       "      <td>251</td>\n",
       "      <td>251</td>\n",
       "      <td>251</td>\n",
       "      <td>251</td>\n",
       "      <td>251</td>\n",
       "      <td>251</td>\n",
       "      <td>251</td>\n",
       "      <td>251</td>\n",
       "      <td>...</td>\n",
       "      <td>251</td>\n",
       "      <td>251</td>\n",
       "      <td>251</td>\n",
       "      <td>251</td>\n",
       "      <td>251</td>\n",
       "      <td>251</td>\n",
       "      <td>251</td>\n",
       "      <td>251</td>\n",
       "      <td>251</td>\n",
       "      <td>251</td>\n",
       "    </tr>\n",
       "    <tr>\n",
       "      <th>S8</th>\n",
       "      <td>375</td>\n",
       "      <td>375</td>\n",
       "      <td>375</td>\n",
       "      <td>375</td>\n",
       "      <td>375</td>\n",
       "      <td>375</td>\n",
       "      <td>375</td>\n",
       "      <td>375</td>\n",
       "      <td>375</td>\n",
       "      <td>375</td>\n",
       "      <td>...</td>\n",
       "      <td>375</td>\n",
       "      <td>375</td>\n",
       "      <td>375</td>\n",
       "      <td>375</td>\n",
       "      <td>375</td>\n",
       "      <td>375</td>\n",
       "      <td>375</td>\n",
       "      <td>375</td>\n",
       "      <td>375</td>\n",
       "      <td>375</td>\n",
       "    </tr>\n",
       "    <tr>\n",
       "      <th>S9</th>\n",
       "      <td>251</td>\n",
       "      <td>251</td>\n",
       "      <td>251</td>\n",
       "      <td>251</td>\n",
       "      <td>251</td>\n",
       "      <td>251</td>\n",
       "      <td>251</td>\n",
       "      <td>251</td>\n",
       "      <td>251</td>\n",
       "      <td>251</td>\n",
       "      <td>...</td>\n",
       "      <td>251</td>\n",
       "      <td>251</td>\n",
       "      <td>251</td>\n",
       "      <td>251</td>\n",
       "      <td>251</td>\n",
       "      <td>251</td>\n",
       "      <td>251</td>\n",
       "      <td>251</td>\n",
       "      <td>251</td>\n",
       "      <td>251</td>\n",
       "    </tr>\n",
       "    <tr>\n",
       "      <th>T1</th>\n",
       "      <td>251</td>\n",
       "      <td>251</td>\n",
       "      <td>251</td>\n",
       "      <td>251</td>\n",
       "      <td>251</td>\n",
       "      <td>251</td>\n",
       "      <td>251</td>\n",
       "      <td>251</td>\n",
       "      <td>251</td>\n",
       "      <td>251</td>\n",
       "      <td>...</td>\n",
       "      <td>251</td>\n",
       "      <td>251</td>\n",
       "      <td>251</td>\n",
       "      <td>251</td>\n",
       "      <td>251</td>\n",
       "      <td>251</td>\n",
       "      <td>251</td>\n",
       "      <td>251</td>\n",
       "      <td>251</td>\n",
       "      <td>251</td>\n",
       "    </tr>\n",
       "    <tr>\n",
       "      <th>T10</th>\n",
       "      <td>250</td>\n",
       "      <td>250</td>\n",
       "      <td>250</td>\n",
       "      <td>250</td>\n",
       "      <td>250</td>\n",
       "      <td>250</td>\n",
       "      <td>250</td>\n",
       "      <td>250</td>\n",
       "      <td>250</td>\n",
       "      <td>250</td>\n",
       "      <td>...</td>\n",
       "      <td>250</td>\n",
       "      <td>250</td>\n",
       "      <td>250</td>\n",
       "      <td>250</td>\n",
       "      <td>250</td>\n",
       "      <td>250</td>\n",
       "      <td>250</td>\n",
       "      <td>250</td>\n",
       "      <td>250</td>\n",
       "      <td>250</td>\n",
       "    </tr>\n",
       "    <tr>\n",
       "      <th>T11</th>\n",
       "      <td>250</td>\n",
       "      <td>250</td>\n",
       "      <td>250</td>\n",
       "      <td>250</td>\n",
       "      <td>250</td>\n",
       "      <td>250</td>\n",
       "      <td>250</td>\n",
       "      <td>250</td>\n",
       "      <td>250</td>\n",
       "      <td>250</td>\n",
       "      <td>...</td>\n",
       "      <td>250</td>\n",
       "      <td>250</td>\n",
       "      <td>250</td>\n",
       "      <td>250</td>\n",
       "      <td>250</td>\n",
       "      <td>250</td>\n",
       "      <td>250</td>\n",
       "      <td>250</td>\n",
       "      <td>250</td>\n",
       "      <td>250</td>\n",
       "    </tr>\n",
       "    <tr>\n",
       "      <th>T12</th>\n",
       "      <td>375</td>\n",
       "      <td>375</td>\n",
       "      <td>375</td>\n",
       "      <td>375</td>\n",
       "      <td>375</td>\n",
       "      <td>375</td>\n",
       "      <td>375</td>\n",
       "      <td>375</td>\n",
       "      <td>375</td>\n",
       "      <td>375</td>\n",
       "      <td>...</td>\n",
       "      <td>375</td>\n",
       "      <td>375</td>\n",
       "      <td>375</td>\n",
       "      <td>375</td>\n",
       "      <td>375</td>\n",
       "      <td>375</td>\n",
       "      <td>375</td>\n",
       "      <td>375</td>\n",
       "      <td>375</td>\n",
       "      <td>375</td>\n",
       "    </tr>\n",
       "    <tr>\n",
       "      <th>T13</th>\n",
       "      <td>375</td>\n",
       "      <td>375</td>\n",
       "      <td>375</td>\n",
       "      <td>375</td>\n",
       "      <td>375</td>\n",
       "      <td>375</td>\n",
       "      <td>375</td>\n",
       "      <td>375</td>\n",
       "      <td>375</td>\n",
       "      <td>375</td>\n",
       "      <td>...</td>\n",
       "      <td>375</td>\n",
       "      <td>375</td>\n",
       "      <td>375</td>\n",
       "      <td>375</td>\n",
       "      <td>375</td>\n",
       "      <td>375</td>\n",
       "      <td>375</td>\n",
       "      <td>375</td>\n",
       "      <td>375</td>\n",
       "      <td>375</td>\n",
       "    </tr>\n",
       "    <tr>\n",
       "      <th>T14</th>\n",
       "      <td>375</td>\n",
       "      <td>375</td>\n",
       "      <td>375</td>\n",
       "      <td>375</td>\n",
       "      <td>375</td>\n",
       "      <td>375</td>\n",
       "      <td>375</td>\n",
       "      <td>375</td>\n",
       "      <td>375</td>\n",
       "      <td>375</td>\n",
       "      <td>...</td>\n",
       "      <td>375</td>\n",
       "      <td>375</td>\n",
       "      <td>375</td>\n",
       "      <td>375</td>\n",
       "      <td>375</td>\n",
       "      <td>375</td>\n",
       "      <td>375</td>\n",
       "      <td>375</td>\n",
       "      <td>375</td>\n",
       "      <td>375</td>\n",
       "    </tr>\n",
       "    <tr>\n",
       "      <th>T2</th>\n",
       "      <td>375</td>\n",
       "      <td>375</td>\n",
       "      <td>375</td>\n",
       "      <td>375</td>\n",
       "      <td>375</td>\n",
       "      <td>375</td>\n",
       "      <td>375</td>\n",
       "      <td>375</td>\n",
       "      <td>375</td>\n",
       "      <td>375</td>\n",
       "      <td>...</td>\n",
       "      <td>375</td>\n",
       "      <td>375</td>\n",
       "      <td>375</td>\n",
       "      <td>375</td>\n",
       "      <td>375</td>\n",
       "      <td>375</td>\n",
       "      <td>375</td>\n",
       "      <td>375</td>\n",
       "      <td>375</td>\n",
       "      <td>375</td>\n",
       "    </tr>\n",
       "    <tr>\n",
       "      <th>T3</th>\n",
       "      <td>375</td>\n",
       "      <td>375</td>\n",
       "      <td>375</td>\n",
       "      <td>375</td>\n",
       "      <td>375</td>\n",
       "      <td>375</td>\n",
       "      <td>375</td>\n",
       "      <td>375</td>\n",
       "      <td>375</td>\n",
       "      <td>375</td>\n",
       "      <td>...</td>\n",
       "      <td>375</td>\n",
       "      <td>375</td>\n",
       "      <td>375</td>\n",
       "      <td>375</td>\n",
       "      <td>375</td>\n",
       "      <td>375</td>\n",
       "      <td>375</td>\n",
       "      <td>375</td>\n",
       "      <td>375</td>\n",
       "      <td>375</td>\n",
       "    </tr>\n",
       "    <tr>\n",
       "      <th>T4</th>\n",
       "      <td>250</td>\n",
       "      <td>250</td>\n",
       "      <td>250</td>\n",
       "      <td>250</td>\n",
       "      <td>250</td>\n",
       "      <td>250</td>\n",
       "      <td>250</td>\n",
       "      <td>250</td>\n",
       "      <td>250</td>\n",
       "      <td>250</td>\n",
       "      <td>...</td>\n",
       "      <td>250</td>\n",
       "      <td>250</td>\n",
       "      <td>250</td>\n",
       "      <td>250</td>\n",
       "      <td>250</td>\n",
       "      <td>250</td>\n",
       "      <td>250</td>\n",
       "      <td>250</td>\n",
       "      <td>250</td>\n",
       "      <td>250</td>\n",
       "    </tr>\n",
       "    <tr>\n",
       "      <th>T5</th>\n",
       "      <td>375</td>\n",
       "      <td>375</td>\n",
       "      <td>375</td>\n",
       "      <td>375</td>\n",
       "      <td>375</td>\n",
       "      <td>375</td>\n",
       "      <td>375</td>\n",
       "      <td>375</td>\n",
       "      <td>375</td>\n",
       "      <td>375</td>\n",
       "      <td>...</td>\n",
       "      <td>375</td>\n",
       "      <td>375</td>\n",
       "      <td>375</td>\n",
       "      <td>375</td>\n",
       "      <td>375</td>\n",
       "      <td>375</td>\n",
       "      <td>375</td>\n",
       "      <td>375</td>\n",
       "      <td>375</td>\n",
       "      <td>375</td>\n",
       "    </tr>\n",
       "    <tr>\n",
       "      <th>T6</th>\n",
       "      <td>375</td>\n",
       "      <td>375</td>\n",
       "      <td>375</td>\n",
       "      <td>375</td>\n",
       "      <td>375</td>\n",
       "      <td>375</td>\n",
       "      <td>375</td>\n",
       "      <td>375</td>\n",
       "      <td>375</td>\n",
       "      <td>375</td>\n",
       "      <td>...</td>\n",
       "      <td>375</td>\n",
       "      <td>375</td>\n",
       "      <td>375</td>\n",
       "      <td>375</td>\n",
       "      <td>375</td>\n",
       "      <td>375</td>\n",
       "      <td>375</td>\n",
       "      <td>375</td>\n",
       "      <td>375</td>\n",
       "      <td>375</td>\n",
       "    </tr>\n",
       "    <tr>\n",
       "      <th>T7</th>\n",
       "      <td>250</td>\n",
       "      <td>250</td>\n",
       "      <td>250</td>\n",
       "      <td>250</td>\n",
       "      <td>250</td>\n",
       "      <td>250</td>\n",
       "      <td>250</td>\n",
       "      <td>250</td>\n",
       "      <td>250</td>\n",
       "      <td>250</td>\n",
       "      <td>...</td>\n",
       "      <td>250</td>\n",
       "      <td>250</td>\n",
       "      <td>250</td>\n",
       "      <td>250</td>\n",
       "      <td>250</td>\n",
       "      <td>250</td>\n",
       "      <td>250</td>\n",
       "      <td>250</td>\n",
       "      <td>250</td>\n",
       "      <td>250</td>\n",
       "    </tr>\n",
       "    <tr>\n",
       "      <th>T8</th>\n",
       "      <td>375</td>\n",
       "      <td>375</td>\n",
       "      <td>375</td>\n",
       "      <td>375</td>\n",
       "      <td>375</td>\n",
       "      <td>375</td>\n",
       "      <td>375</td>\n",
       "      <td>375</td>\n",
       "      <td>375</td>\n",
       "      <td>375</td>\n",
       "      <td>...</td>\n",
       "      <td>375</td>\n",
       "      <td>375</td>\n",
       "      <td>375</td>\n",
       "      <td>375</td>\n",
       "      <td>375</td>\n",
       "      <td>375</td>\n",
       "      <td>375</td>\n",
       "      <td>375</td>\n",
       "      <td>375</td>\n",
       "      <td>375</td>\n",
       "    </tr>\n",
       "    <tr>\n",
       "      <th>T9</th>\n",
       "      <td>375</td>\n",
       "      <td>375</td>\n",
       "      <td>375</td>\n",
       "      <td>375</td>\n",
       "      <td>375</td>\n",
       "      <td>375</td>\n",
       "      <td>375</td>\n",
       "      <td>375</td>\n",
       "      <td>375</td>\n",
       "      <td>375</td>\n",
       "      <td>...</td>\n",
       "      <td>375</td>\n",
       "      <td>375</td>\n",
       "      <td>375</td>\n",
       "      <td>375</td>\n",
       "      <td>375</td>\n",
       "      <td>375</td>\n",
       "      <td>375</td>\n",
       "      <td>375</td>\n",
       "      <td>375</td>\n",
       "      <td>375</td>\n",
       "    </tr>\n",
       "  </tbody>\n",
       "</table>\n",
       "<p>50 rows × 193 columns</p>\n",
       "</div>"
      ],
      "text/plain": [
       "      trial_no    0    1    2    3    4    5    6    7    8  ...  182  183  \\\n",
       "subs                                                         ...             \n",
       "N1         250  250  250  250  250  250  250  250  250  250  ...  250  250   \n",
       "N10        126  126  126  126  126  126  126  126  126  126  ...  126  126   \n",
       "N11        250  250  250  250  250  250  250  250  250  250  ...  250  250   \n",
       "N12        375  375  375  375  375  375  375  375  375  375  ...  375  375   \n",
       "N13        375  375  375  375  375  375  375  375  375  375  ...  375  375   \n",
       "N14        250  250  250  250  250  250  250  250  250  250  ...  250  250   \n",
       "N15        250  250  250  250  250  250  250  250  250  250  ...  250  250   \n",
       "N2         375  375  375  375  375  375  375  375  375  375  ...  375  375   \n",
       "N3         375  375  375  375  375  375  375  375  375  375  ...  375  375   \n",
       "N4         250  250  250  250  250  250  250  250  250  250  ...  250  250   \n",
       "N5         250  250  250  250  250  250  250  250  250  250  ...  250  250   \n",
       "N6         375  375  375  375  375  375  375  375  375  375  ...  375  375   \n",
       "N7         250  250  250  250  250  250  250  250  250  250  ...  250  250   \n",
       "N8         375  375  375  375  375  375  375  375  375  375  ...  375  375   \n",
       "N9         250  250  250  250  250  250  250  250  250  250  ...  250  250   \n",
       "S1         375  375  375  375  375  375  375  375  375  375  ...  375  375   \n",
       "S10        375  375  375  375  375  375  375  375  375  375  ...  375  375   \n",
       "S11        250  250  250  250  250  250  250  250  250  250  ...  250  250   \n",
       "S12        250  250  250  250  250  250  250  250  250  250  ...  250  250   \n",
       "S13        375  375  375  375  375  375  375  375  375  375  ...  375  375   \n",
       "S14        375  375  375  375  375  375  375  375  375  375  ...  375  375   \n",
       "S15        375  375  375  375  375  375  375  375  375  375  ...  375  375   \n",
       "S16        375  375  375  375  375  375  375  375  375  375  ...  375  375   \n",
       "S17        251  251  251  251  251  251  251  251  251  251  ...  251  251   \n",
       "S18        250  250  250  250  250  250  250  250  250  250  ...  250  250   \n",
       "S19        250  250  250  250  250  250  250  250  250  250  ...  250  250   \n",
       "S2         251  251  251  251  251  251  251  251  251  251  ...  251  251   \n",
       "S20        251  251  251  251  251  251  251  251  251  251  ...  251  251   \n",
       "S21        250  250  250  250  250  250  250  250  250  250  ...  250  250   \n",
       "S3         375  375  375  375  375  375  375  375  375  375  ...  375  375   \n",
       "S4         375  375  375  375  375  375  375  375  375  375  ...  375  375   \n",
       "S5         375  375  375  375  375  375  375  375  375  375  ...  375  375   \n",
       "S6         375  375  375  375  375  375  375  375  375  375  ...  375  375   \n",
       "S7         251  251  251  251  251  251  251  251  251  251  ...  251  251   \n",
       "S8         375  375  375  375  375  375  375  375  375  375  ...  375  375   \n",
       "S9         251  251  251  251  251  251  251  251  251  251  ...  251  251   \n",
       "T1         251  251  251  251  251  251  251  251  251  251  ...  251  251   \n",
       "T10        250  250  250  250  250  250  250  250  250  250  ...  250  250   \n",
       "T11        250  250  250  250  250  250  250  250  250  250  ...  250  250   \n",
       "T12        375  375  375  375  375  375  375  375  375  375  ...  375  375   \n",
       "T13        375  375  375  375  375  375  375  375  375  375  ...  375  375   \n",
       "T14        375  375  375  375  375  375  375  375  375  375  ...  375  375   \n",
       "T2         375  375  375  375  375  375  375  375  375  375  ...  375  375   \n",
       "T3         375  375  375  375  375  375  375  375  375  375  ...  375  375   \n",
       "T4         250  250  250  250  250  250  250  250  250  250  ...  250  250   \n",
       "T5         375  375  375  375  375  375  375  375  375  375  ...  375  375   \n",
       "T6         375  375  375  375  375  375  375  375  375  375  ...  375  375   \n",
       "T7         250  250  250  250  250  250  250  250  250  250  ...  250  250   \n",
       "T8         375  375  375  375  375  375  375  375  375  375  ...  375  375   \n",
       "T9         375  375  375  375  375  375  375  375  375  375  ...  375  375   \n",
       "\n",
       "      184  185  186  187  188  189  190  191  \n",
       "subs                                          \n",
       "N1    250  250  250  250  250  250  250  250  \n",
       "N10   126  126  126  126  126  126  126  126  \n",
       "N11   250  250  250  250  250  250  250  250  \n",
       "N12   375  375  375  375  375  375  375  375  \n",
       "N13   375  375  375  375  375  375  375  375  \n",
       "N14   250  250  250  250  250  250  250  250  \n",
       "N15   250  250  250  250  250  250  250  250  \n",
       "N2    375  375  375  375  375  375  375  375  \n",
       "N3    375  375  375  375  375  375  375  375  \n",
       "N4    250  250  250  250  250  250  250  250  \n",
       "N5    250  250  250  250  250  250  250  250  \n",
       "N6    375  375  375  375  375  375  375  375  \n",
       "N7    250  250  250  250  250  250  250  250  \n",
       "N8    375  375  375  375  375  375  375  375  \n",
       "N9    250  250  250  250  250  250  250  250  \n",
       "S1    375  375  375  375  375  375  375  375  \n",
       "S10   375  375  375  375  375  375  375  375  \n",
       "S11   250  250  250  250  250  250  250  250  \n",
       "S12   250  250  250  250  250  250  250  250  \n",
       "S13   375  375  375  375  375  375  375  375  \n",
       "S14   375  375  375  375  375  375  375  375  \n",
       "S15   375  375  375  375  375  375  375  375  \n",
       "S16   375  375  375  375  375  375  375  375  \n",
       "S17   251  251  251  251  251  251  251  251  \n",
       "S18   250  250  250  250  250  250  250  250  \n",
       "S19   250  250  250  250  250  250  250  250  \n",
       "S2    251  251  251  251  251  251  251  251  \n",
       "S20   251  251  251  251  251  251  251  251  \n",
       "S21   250  250  250  250  250  250  250  250  \n",
       "S3    375  375  375  375  375  375  375  375  \n",
       "S4    375  375  375  375  375  375  375  375  \n",
       "S5    375  375  375  375  375  375  375  375  \n",
       "S6    375  375  375  375  375  375  375  375  \n",
       "S7    251  251  251  251  251  251  251  251  \n",
       "S8    375  375  375  375  375  375  375  375  \n",
       "S9    251  251  251  251  251  251  251  251  \n",
       "T1    251  251  251  251  251  251  251  251  \n",
       "T10   250  250  250  250  250  250  250  250  \n",
       "T11   250  250  250  250  250  250  250  250  \n",
       "T12   375  375  375  375  375  375  375  375  \n",
       "T13   375  375  375  375  375  375  375  375  \n",
       "T14   375  375  375  375  375  375  375  375  \n",
       "T2    375  375  375  375  375  375  375  375  \n",
       "T3    375  375  375  375  375  375  375  375  \n",
       "T4    250  250  250  250  250  250  250  250  \n",
       "T5    375  375  375  375  375  375  375  375  \n",
       "T6    375  375  375  375  375  375  375  375  \n",
       "T7    250  250  250  250  250  250  250  250  \n",
       "T8    375  375  375  375  375  375  375  375  \n",
       "T9    375  375  375  375  375  375  375  375  \n",
       "\n",
       "[50 rows x 193 columns]"
      ]
     },
     "execution_count": 21,
     "metadata": {},
     "output_type": "execute_result"
    }
   ],
   "source": [
    "pd.merge(X_test, subjects, on='trial_no').groupby('subs').count()"
   ]
  },
  {
   "cell_type": "code",
   "execution_count": 22,
   "metadata": {},
   "outputs": [
    {
     "data": {
      "text/html": [
       "<div>\n",
       "<style scoped>\n",
       "    .dataframe tbody tr th:only-of-type {\n",
       "        vertical-align: middle;\n",
       "    }\n",
       "\n",
       "    .dataframe tbody tr th {\n",
       "        vertical-align: top;\n",
       "    }\n",
       "\n",
       "    .dataframe thead th {\n",
       "        text-align: right;\n",
       "    }\n",
       "</style>\n",
       "<table border=\"1\" class=\"dataframe\">\n",
       "  <thead>\n",
       "    <tr style=\"text-align: right;\">\n",
       "      <th></th>\n",
       "      <th>trial_no</th>\n",
       "      <th>0</th>\n",
       "      <th>1</th>\n",
       "      <th>2</th>\n",
       "      <th>3</th>\n",
       "      <th>4</th>\n",
       "      <th>5</th>\n",
       "      <th>6</th>\n",
       "      <th>7</th>\n",
       "      <th>8</th>\n",
       "      <th>...</th>\n",
       "      <th>182</th>\n",
       "      <th>183</th>\n",
       "      <th>184</th>\n",
       "      <th>185</th>\n",
       "      <th>186</th>\n",
       "      <th>187</th>\n",
       "      <th>188</th>\n",
       "      <th>189</th>\n",
       "      <th>190</th>\n",
       "      <th>191</th>\n",
       "    </tr>\n",
       "  </thead>\n",
       "  <tbody>\n",
       "    <tr>\n",
       "      <th>49982</th>\n",
       "      <td>bts_49983.png</td>\n",
       "      <td>0.017987</td>\n",
       "      <td>0.003744</td>\n",
       "      <td>0.014288</td>\n",
       "      <td>0.011711</td>\n",
       "      <td>0.019667</td>\n",
       "      <td>0.002061</td>\n",
       "      <td>0.002121</td>\n",
       "      <td>0.007675</td>\n",
       "      <td>0.010853</td>\n",
       "      <td>...</td>\n",
       "      <td>0.000115</td>\n",
       "      <td>0.000254</td>\n",
       "      <td>0.000488</td>\n",
       "      <td>0.000907</td>\n",
       "      <td>0.000033</td>\n",
       "      <td>0.000120</td>\n",
       "      <td>0.000120</td>\n",
       "      <td>0.000268</td>\n",
       "      <td>0.000306</td>\n",
       "      <td>0.000386</td>\n",
       "    </tr>\n",
       "    <tr>\n",
       "      <th>4889</th>\n",
       "      <td>bts_4890.png</td>\n",
       "      <td>0.039747</td>\n",
       "      <td>0.002790</td>\n",
       "      <td>0.008442</td>\n",
       "      <td>0.005490</td>\n",
       "      <td>0.002737</td>\n",
       "      <td>0.003455</td>\n",
       "      <td>0.001321</td>\n",
       "      <td>0.003104</td>\n",
       "      <td>0.002659</td>\n",
       "      <td>...</td>\n",
       "      <td>0.000077</td>\n",
       "      <td>0.000067</td>\n",
       "      <td>0.000334</td>\n",
       "      <td>0.000192</td>\n",
       "      <td>0.000018</td>\n",
       "      <td>0.000073</td>\n",
       "      <td>0.000068</td>\n",
       "      <td>0.000115</td>\n",
       "      <td>0.000216</td>\n",
       "      <td>0.000301</td>\n",
       "    </tr>\n",
       "    <tr>\n",
       "      <th>12142</th>\n",
       "      <td>bts_12143.png</td>\n",
       "      <td>0.019563</td>\n",
       "      <td>0.004729</td>\n",
       "      <td>0.039984</td>\n",
       "      <td>0.016767</td>\n",
       "      <td>0.033696</td>\n",
       "      <td>0.007929</td>\n",
       "      <td>0.003601</td>\n",
       "      <td>0.012802</td>\n",
       "      <td>0.005551</td>\n",
       "      <td>...</td>\n",
       "      <td>0.000127</td>\n",
       "      <td>0.000495</td>\n",
       "      <td>0.001986</td>\n",
       "      <td>0.000932</td>\n",
       "      <td>0.000063</td>\n",
       "      <td>0.000858</td>\n",
       "      <td>0.000125</td>\n",
       "      <td>0.000586</td>\n",
       "      <td>0.001006</td>\n",
       "      <td>0.001009</td>\n",
       "    </tr>\n",
       "    <tr>\n",
       "      <th>33492</th>\n",
       "      <td>bts_33493.png</td>\n",
       "      <td>0.007475</td>\n",
       "      <td>0.000445</td>\n",
       "      <td>0.001554</td>\n",
       "      <td>0.001321</td>\n",
       "      <td>0.000901</td>\n",
       "      <td>0.001206</td>\n",
       "      <td>0.000389</td>\n",
       "      <td>0.000487</td>\n",
       "      <td>0.000591</td>\n",
       "      <td>...</td>\n",
       "      <td>0.000744</td>\n",
       "      <td>0.000117</td>\n",
       "      <td>0.000604</td>\n",
       "      <td>0.000305</td>\n",
       "      <td>0.000063</td>\n",
       "      <td>0.000129</td>\n",
       "      <td>0.000126</td>\n",
       "      <td>0.000151</td>\n",
       "      <td>0.000176</td>\n",
       "      <td>0.000231</td>\n",
       "    </tr>\n",
       "    <tr>\n",
       "      <th>26891</th>\n",
       "      <td>bts_26892.png</td>\n",
       "      <td>0.017857</td>\n",
       "      <td>0.004670</td>\n",
       "      <td>0.029656</td>\n",
       "      <td>0.014419</td>\n",
       "      <td>0.013647</td>\n",
       "      <td>0.001977</td>\n",
       "      <td>0.001018</td>\n",
       "      <td>0.004908</td>\n",
       "      <td>0.007210</td>\n",
       "      <td>...</td>\n",
       "      <td>0.000612</td>\n",
       "      <td>0.000201</td>\n",
       "      <td>0.001181</td>\n",
       "      <td>0.001030</td>\n",
       "      <td>0.000042</td>\n",
       "      <td>0.000186</td>\n",
       "      <td>0.000347</td>\n",
       "      <td>0.000255</td>\n",
       "      <td>0.004802</td>\n",
       "      <td>0.000772</td>\n",
       "    </tr>\n",
       "    <tr>\n",
       "      <th>...</th>\n",
       "      <td>...</td>\n",
       "      <td>...</td>\n",
       "      <td>...</td>\n",
       "      <td>...</td>\n",
       "      <td>...</td>\n",
       "      <td>...</td>\n",
       "      <td>...</td>\n",
       "      <td>...</td>\n",
       "      <td>...</td>\n",
       "      <td>...</td>\n",
       "      <td>...</td>\n",
       "      <td>...</td>\n",
       "      <td>...</td>\n",
       "      <td>...</td>\n",
       "      <td>...</td>\n",
       "      <td>...</td>\n",
       "      <td>...</td>\n",
       "      <td>...</td>\n",
       "      <td>...</td>\n",
       "      <td>...</td>\n",
       "      <td>...</td>\n",
       "    </tr>\n",
       "    <tr>\n",
       "      <th>49534</th>\n",
       "      <td>bts_49535.png</td>\n",
       "      <td>0.015231</td>\n",
       "      <td>0.002371</td>\n",
       "      <td>0.008042</td>\n",
       "      <td>0.011275</td>\n",
       "      <td>0.008456</td>\n",
       "      <td>0.004047</td>\n",
       "      <td>0.002799</td>\n",
       "      <td>0.007396</td>\n",
       "      <td>0.007110</td>\n",
       "      <td>...</td>\n",
       "      <td>0.000145</td>\n",
       "      <td>0.000062</td>\n",
       "      <td>0.000301</td>\n",
       "      <td>0.000502</td>\n",
       "      <td>0.000011</td>\n",
       "      <td>0.000030</td>\n",
       "      <td>0.000035</td>\n",
       "      <td>0.000066</td>\n",
       "      <td>0.000125</td>\n",
       "      <td>0.000133</td>\n",
       "    </tr>\n",
       "    <tr>\n",
       "      <th>44071</th>\n",
       "      <td>bts_44072.png</td>\n",
       "      <td>0.009904</td>\n",
       "      <td>0.001889</td>\n",
       "      <td>0.009195</td>\n",
       "      <td>0.005130</td>\n",
       "      <td>0.012107</td>\n",
       "      <td>0.002838</td>\n",
       "      <td>0.002468</td>\n",
       "      <td>0.007239</td>\n",
       "      <td>0.005738</td>\n",
       "      <td>...</td>\n",
       "      <td>0.000361</td>\n",
       "      <td>0.000177</td>\n",
       "      <td>0.001723</td>\n",
       "      <td>0.002951</td>\n",
       "      <td>0.000285</td>\n",
       "      <td>0.000242</td>\n",
       "      <td>0.000207</td>\n",
       "      <td>0.000252</td>\n",
       "      <td>0.001078</td>\n",
       "      <td>0.000261</td>\n",
       "    </tr>\n",
       "    <tr>\n",
       "      <th>34868</th>\n",
       "      <td>bts_34869.png</td>\n",
       "      <td>0.011846</td>\n",
       "      <td>0.004845</td>\n",
       "      <td>0.026283</td>\n",
       "      <td>0.015988</td>\n",
       "      <td>0.034730</td>\n",
       "      <td>0.013242</td>\n",
       "      <td>0.005857</td>\n",
       "      <td>0.003060</td>\n",
       "      <td>0.004762</td>\n",
       "      <td>...</td>\n",
       "      <td>0.000560</td>\n",
       "      <td>0.000628</td>\n",
       "      <td>0.001312</td>\n",
       "      <td>0.000762</td>\n",
       "      <td>0.000043</td>\n",
       "      <td>0.000401</td>\n",
       "      <td>0.000446</td>\n",
       "      <td>0.000665</td>\n",
       "      <td>0.000675</td>\n",
       "      <td>0.000799</td>\n",
       "    </tr>\n",
       "    <tr>\n",
       "      <th>37767</th>\n",
       "      <td>bts_37768.png</td>\n",
       "      <td>0.063714</td>\n",
       "      <td>0.001927</td>\n",
       "      <td>0.027473</td>\n",
       "      <td>0.043049</td>\n",
       "      <td>0.070132</td>\n",
       "      <td>0.003167</td>\n",
       "      <td>0.003865</td>\n",
       "      <td>0.021829</td>\n",
       "      <td>0.057476</td>\n",
       "      <td>...</td>\n",
       "      <td>0.001533</td>\n",
       "      <td>0.002730</td>\n",
       "      <td>0.006429</td>\n",
       "      <td>0.005975</td>\n",
       "      <td>0.000360</td>\n",
       "      <td>0.002115</td>\n",
       "      <td>0.001993</td>\n",
       "      <td>0.003680</td>\n",
       "      <td>0.004244</td>\n",
       "      <td>0.005017</td>\n",
       "    </tr>\n",
       "    <tr>\n",
       "      <th>45892</th>\n",
       "      <td>bts_45893.png</td>\n",
       "      <td>0.011455</td>\n",
       "      <td>0.002513</td>\n",
       "      <td>0.014272</td>\n",
       "      <td>0.004963</td>\n",
       "      <td>0.017982</td>\n",
       "      <td>0.007583</td>\n",
       "      <td>0.004350</td>\n",
       "      <td>0.004453</td>\n",
       "      <td>0.002970</td>\n",
       "      <td>...</td>\n",
       "      <td>0.014404</td>\n",
       "      <td>0.006223</td>\n",
       "      <td>0.016062</td>\n",
       "      <td>0.004884</td>\n",
       "      <td>0.004568</td>\n",
       "      <td>0.027288</td>\n",
       "      <td>0.022367</td>\n",
       "      <td>0.001032</td>\n",
       "      <td>0.045544</td>\n",
       "      <td>0.013100</td>\n",
       "    </tr>\n",
       "  </tbody>\n",
       "</table>\n",
       "<p>15632 rows × 193 columns</p>\n",
       "</div>"
      ],
      "text/plain": [
       "            trial_no         0         1         2         3         4  \\\n",
       "49982  bts_49983.png  0.017987  0.003744  0.014288  0.011711  0.019667   \n",
       "4889    bts_4890.png  0.039747  0.002790  0.008442  0.005490  0.002737   \n",
       "12142  bts_12143.png  0.019563  0.004729  0.039984  0.016767  0.033696   \n",
       "33492  bts_33493.png  0.007475  0.000445  0.001554  0.001321  0.000901   \n",
       "26891  bts_26892.png  0.017857  0.004670  0.029656  0.014419  0.013647   \n",
       "...              ...       ...       ...       ...       ...       ...   \n",
       "49534  bts_49535.png  0.015231  0.002371  0.008042  0.011275  0.008456   \n",
       "44071  bts_44072.png  0.009904  0.001889  0.009195  0.005130  0.012107   \n",
       "34868  bts_34869.png  0.011846  0.004845  0.026283  0.015988  0.034730   \n",
       "37767  bts_37768.png  0.063714  0.001927  0.027473  0.043049  0.070132   \n",
       "45892  bts_45893.png  0.011455  0.002513  0.014272  0.004963  0.017982   \n",
       "\n",
       "              5         6         7         8  ...       182       183  \\\n",
       "49982  0.002061  0.002121  0.007675  0.010853  ...  0.000115  0.000254   \n",
       "4889   0.003455  0.001321  0.003104  0.002659  ...  0.000077  0.000067   \n",
       "12142  0.007929  0.003601  0.012802  0.005551  ...  0.000127  0.000495   \n",
       "33492  0.001206  0.000389  0.000487  0.000591  ...  0.000744  0.000117   \n",
       "26891  0.001977  0.001018  0.004908  0.007210  ...  0.000612  0.000201   \n",
       "...         ...       ...       ...       ...  ...       ...       ...   \n",
       "49534  0.004047  0.002799  0.007396  0.007110  ...  0.000145  0.000062   \n",
       "44071  0.002838  0.002468  0.007239  0.005738  ...  0.000361  0.000177   \n",
       "34868  0.013242  0.005857  0.003060  0.004762  ...  0.000560  0.000628   \n",
       "37767  0.003167  0.003865  0.021829  0.057476  ...  0.001533  0.002730   \n",
       "45892  0.007583  0.004350  0.004453  0.002970  ...  0.014404  0.006223   \n",
       "\n",
       "            184       185       186       187       188       189       190  \\\n",
       "49982  0.000488  0.000907  0.000033  0.000120  0.000120  0.000268  0.000306   \n",
       "4889   0.000334  0.000192  0.000018  0.000073  0.000068  0.000115  0.000216   \n",
       "12142  0.001986  0.000932  0.000063  0.000858  0.000125  0.000586  0.001006   \n",
       "33492  0.000604  0.000305  0.000063  0.000129  0.000126  0.000151  0.000176   \n",
       "26891  0.001181  0.001030  0.000042  0.000186  0.000347  0.000255  0.004802   \n",
       "...         ...       ...       ...       ...       ...       ...       ...   \n",
       "49534  0.000301  0.000502  0.000011  0.000030  0.000035  0.000066  0.000125   \n",
       "44071  0.001723  0.002951  0.000285  0.000242  0.000207  0.000252  0.001078   \n",
       "34868  0.001312  0.000762  0.000043  0.000401  0.000446  0.000665  0.000675   \n",
       "37767  0.006429  0.005975  0.000360  0.002115  0.001993  0.003680  0.004244   \n",
       "45892  0.016062  0.004884  0.004568  0.027288  0.022367  0.001032  0.045544   \n",
       "\n",
       "            191  \n",
       "49982  0.000386  \n",
       "4889   0.000301  \n",
       "12142  0.001009  \n",
       "33492  0.000231  \n",
       "26891  0.000772  \n",
       "...         ...  \n",
       "49534  0.000133  \n",
       "44071  0.000261  \n",
       "34868  0.000799  \n",
       "37767  0.005017  \n",
       "45892  0.013100  \n",
       "\n",
       "[15632 rows x 193 columns]"
      ]
     },
     "execution_count": 22,
     "metadata": {},
     "output_type": "execute_result"
    }
   ],
   "source": [
    "X_test"
   ]
  },
  {
   "cell_type": "code",
   "execution_count": 23,
   "metadata": {},
   "outputs": [],
   "source": [
    "subject_train = pd.merge(X_train, subjects, on='trial_no')[['subs', 'trial_no']]\n",
    "# subject_val = x_val[['subs', 'trial_no']]\n",
    "subject_test = pd.merge(X_test, subjects, on='trial_no')[['subs', 'trial_no']]\n",
    "\n",
    "X_train = X_train.values[:,1:193]\n",
    "X_test = X_test.values[:,1:193]\n",
    "\n",
    "Y_train = y_train['labels'].values.flatten()\n",
    "Y_test = y_test['labels'].values.flatten()\n",
    "\n",
    "# subject_train = pd.read_csv(\"sub_train_rt_50.csv\")\n",
    "# subject_val = pd.read_csv(\"sub_val_rt_50.csv\")\n",
    "# subject_test = pd.read_csv(\"sub_test_rt_50.csv\")\n",
    "\n",
    "trial_train = subject_train['trial_no'].values\n",
    "# trial_val = subject_val['trial_no'].values\n",
    "trial_test = subject_test['trial_no'].values"
   ]
  },
  {
   "cell_type": "code",
   "execution_count": 24,
   "metadata": {},
   "outputs": [
    {
     "data": {
      "text/html": [
       "<div>\n",
       "<style scoped>\n",
       "    .dataframe tbody tr th:only-of-type {\n",
       "        vertical-align: middle;\n",
       "    }\n",
       "\n",
       "    .dataframe tbody tr th {\n",
       "        vertical-align: top;\n",
       "    }\n",
       "\n",
       "    .dataframe thead th {\n",
       "        text-align: right;\n",
       "    }\n",
       "</style>\n",
       "<table border=\"1\" class=\"dataframe\">\n",
       "  <thead>\n",
       "    <tr style=\"text-align: right;\">\n",
       "      <th></th>\n",
       "      <th>trial_no</th>\n",
       "    </tr>\n",
       "    <tr>\n",
       "      <th>subs</th>\n",
       "      <th></th>\n",
       "    </tr>\n",
       "  </thead>\n",
       "  <tbody>\n",
       "    <tr>\n",
       "      <th>N1</th>\n",
       "      <td>250</td>\n",
       "    </tr>\n",
       "    <tr>\n",
       "      <th>N10</th>\n",
       "      <td>126</td>\n",
       "    </tr>\n",
       "    <tr>\n",
       "      <th>N11</th>\n",
       "      <td>250</td>\n",
       "    </tr>\n",
       "    <tr>\n",
       "      <th>N12</th>\n",
       "      <td>375</td>\n",
       "    </tr>\n",
       "    <tr>\n",
       "      <th>N13</th>\n",
       "      <td>375</td>\n",
       "    </tr>\n",
       "    <tr>\n",
       "      <th>N14</th>\n",
       "      <td>250</td>\n",
       "    </tr>\n",
       "    <tr>\n",
       "      <th>N15</th>\n",
       "      <td>250</td>\n",
       "    </tr>\n",
       "    <tr>\n",
       "      <th>N2</th>\n",
       "      <td>375</td>\n",
       "    </tr>\n",
       "    <tr>\n",
       "      <th>N3</th>\n",
       "      <td>375</td>\n",
       "    </tr>\n",
       "    <tr>\n",
       "      <th>N4</th>\n",
       "      <td>250</td>\n",
       "    </tr>\n",
       "    <tr>\n",
       "      <th>N5</th>\n",
       "      <td>250</td>\n",
       "    </tr>\n",
       "    <tr>\n",
       "      <th>N6</th>\n",
       "      <td>375</td>\n",
       "    </tr>\n",
       "    <tr>\n",
       "      <th>N7</th>\n",
       "      <td>250</td>\n",
       "    </tr>\n",
       "    <tr>\n",
       "      <th>N8</th>\n",
       "      <td>375</td>\n",
       "    </tr>\n",
       "    <tr>\n",
       "      <th>N9</th>\n",
       "      <td>250</td>\n",
       "    </tr>\n",
       "    <tr>\n",
       "      <th>S1</th>\n",
       "      <td>375</td>\n",
       "    </tr>\n",
       "    <tr>\n",
       "      <th>S10</th>\n",
       "      <td>375</td>\n",
       "    </tr>\n",
       "    <tr>\n",
       "      <th>S11</th>\n",
       "      <td>250</td>\n",
       "    </tr>\n",
       "    <tr>\n",
       "      <th>S12</th>\n",
       "      <td>250</td>\n",
       "    </tr>\n",
       "    <tr>\n",
       "      <th>S13</th>\n",
       "      <td>375</td>\n",
       "    </tr>\n",
       "    <tr>\n",
       "      <th>S14</th>\n",
       "      <td>375</td>\n",
       "    </tr>\n",
       "    <tr>\n",
       "      <th>S15</th>\n",
       "      <td>375</td>\n",
       "    </tr>\n",
       "    <tr>\n",
       "      <th>S16</th>\n",
       "      <td>375</td>\n",
       "    </tr>\n",
       "    <tr>\n",
       "      <th>S17</th>\n",
       "      <td>251</td>\n",
       "    </tr>\n",
       "    <tr>\n",
       "      <th>S18</th>\n",
       "      <td>250</td>\n",
       "    </tr>\n",
       "    <tr>\n",
       "      <th>S19</th>\n",
       "      <td>250</td>\n",
       "    </tr>\n",
       "    <tr>\n",
       "      <th>S2</th>\n",
       "      <td>251</td>\n",
       "    </tr>\n",
       "    <tr>\n",
       "      <th>S20</th>\n",
       "      <td>251</td>\n",
       "    </tr>\n",
       "    <tr>\n",
       "      <th>S21</th>\n",
       "      <td>250</td>\n",
       "    </tr>\n",
       "    <tr>\n",
       "      <th>S3</th>\n",
       "      <td>375</td>\n",
       "    </tr>\n",
       "    <tr>\n",
       "      <th>S4</th>\n",
       "      <td>375</td>\n",
       "    </tr>\n",
       "    <tr>\n",
       "      <th>S5</th>\n",
       "      <td>375</td>\n",
       "    </tr>\n",
       "    <tr>\n",
       "      <th>S6</th>\n",
       "      <td>375</td>\n",
       "    </tr>\n",
       "    <tr>\n",
       "      <th>S7</th>\n",
       "      <td>251</td>\n",
       "    </tr>\n",
       "    <tr>\n",
       "      <th>S8</th>\n",
       "      <td>375</td>\n",
       "    </tr>\n",
       "    <tr>\n",
       "      <th>S9</th>\n",
       "      <td>251</td>\n",
       "    </tr>\n",
       "    <tr>\n",
       "      <th>T1</th>\n",
       "      <td>251</td>\n",
       "    </tr>\n",
       "    <tr>\n",
       "      <th>T10</th>\n",
       "      <td>250</td>\n",
       "    </tr>\n",
       "    <tr>\n",
       "      <th>T11</th>\n",
       "      <td>250</td>\n",
       "    </tr>\n",
       "    <tr>\n",
       "      <th>T12</th>\n",
       "      <td>375</td>\n",
       "    </tr>\n",
       "    <tr>\n",
       "      <th>T13</th>\n",
       "      <td>375</td>\n",
       "    </tr>\n",
       "    <tr>\n",
       "      <th>T14</th>\n",
       "      <td>375</td>\n",
       "    </tr>\n",
       "    <tr>\n",
       "      <th>T2</th>\n",
       "      <td>375</td>\n",
       "    </tr>\n",
       "    <tr>\n",
       "      <th>T3</th>\n",
       "      <td>375</td>\n",
       "    </tr>\n",
       "    <tr>\n",
       "      <th>T4</th>\n",
       "      <td>250</td>\n",
       "    </tr>\n",
       "    <tr>\n",
       "      <th>T5</th>\n",
       "      <td>375</td>\n",
       "    </tr>\n",
       "    <tr>\n",
       "      <th>T6</th>\n",
       "      <td>375</td>\n",
       "    </tr>\n",
       "    <tr>\n",
       "      <th>T7</th>\n",
       "      <td>250</td>\n",
       "    </tr>\n",
       "    <tr>\n",
       "      <th>T8</th>\n",
       "      <td>375</td>\n",
       "    </tr>\n",
       "    <tr>\n",
       "      <th>T9</th>\n",
       "      <td>375</td>\n",
       "    </tr>\n",
       "  </tbody>\n",
       "</table>\n",
       "</div>"
      ],
      "text/plain": [
       "      trial_no\n",
       "subs          \n",
       "N1         250\n",
       "N10        126\n",
       "N11        250\n",
       "N12        375\n",
       "N13        375\n",
       "N14        250\n",
       "N15        250\n",
       "N2         375\n",
       "N3         375\n",
       "N4         250\n",
       "N5         250\n",
       "N6         375\n",
       "N7         250\n",
       "N8         375\n",
       "N9         250\n",
       "S1         375\n",
       "S10        375\n",
       "S11        250\n",
       "S12        250\n",
       "S13        375\n",
       "S14        375\n",
       "S15        375\n",
       "S16        375\n",
       "S17        251\n",
       "S18        250\n",
       "S19        250\n",
       "S2         251\n",
       "S20        251\n",
       "S21        250\n",
       "S3         375\n",
       "S4         375\n",
       "S5         375\n",
       "S6         375\n",
       "S7         251\n",
       "S8         375\n",
       "S9         251\n",
       "T1         251\n",
       "T10        250\n",
       "T11        250\n",
       "T12        375\n",
       "T13        375\n",
       "T14        375\n",
       "T2         375\n",
       "T3         375\n",
       "T4         250\n",
       "T5         375\n",
       "T6         375\n",
       "T7         250\n",
       "T8         375\n",
       "T9         375"
      ]
     },
     "execution_count": 24,
     "metadata": {},
     "output_type": "execute_result"
    }
   ],
   "source": [
    "subject_test.groupby('subs').count()"
   ]
  },
  {
   "cell_type": "code",
   "execution_count": 13,
   "metadata": {},
   "outputs": [],
   "source": [
    "np.savetxt(\"X_train.csv\", X_train, delimiter=',')\n",
    "np.savetxt(\"X_test.csv\", X_test, delimiter=',')\n",
    "np.savetxt(\"Y_train.csv\", Y_train, delimiter=',')\n",
    "np.savetxt(\"Y_test.csv\", Y_test, delimiter=',')"
   ]
  },
  {
   "cell_type": "code",
   "execution_count": 25,
   "metadata": {},
   "outputs": [],
   "source": [
    "subject_train.to_csv(\"sub_train_rt_50_h1.csv\")\n",
    "# subject_val.to_csv(\"sub_val_rt_50.csv\")\n",
    "subject_test.to_csv(\"sub_test_rt_50_h1.csv\")"
   ]
  },
  {
   "cell_type": "code",
   "execution_count": 26,
   "metadata": {},
   "outputs": [
    {
     "data": {
      "application/vnd.jupyter.widget-view+json": {
       "model_id": "ee852b232dc54687a820f3e2719c99b2",
       "version_major": 2,
       "version_minor": 0
      },
      "text/plain": [
       "HBox(children=(FloatProgress(value=0.0, max=47.0), HTML(value='')))"
      ]
     },
     "metadata": {},
     "output_type": "display_data"
    },
    {
     "name": "stdout",
     "output_type": "stream",
     "text": [
      "\n"
     ]
    },
    {
     "data": {
      "application/vnd.jupyter.widget-view+json": {
       "model_id": "726d87f771a9432091cf9378c9659dd3",
       "version_major": 2,
       "version_minor": 0
      },
      "text/plain": [
       "HBox(children=(FloatProgress(value=0.0, max=16.0), HTML(value='')))"
      ]
     },
     "metadata": {},
     "output_type": "display_data"
    },
    {
     "name": "stdout",
     "output_type": "stream",
     "text": [
      "\n"
     ]
    },
    {
     "data": {
      "application/vnd.jupyter.widget-view+json": {
       "model_id": "ce28bf0a7ed041d8bf6f93952f47df33",
       "version_major": 2,
       "version_minor": 0
      },
      "text/plain": [
       "HBox(children=(FloatProgress(value=1.0, bar_style='info', max=1.0), HTML(value='')))"
      ]
     },
     "metadata": {},
     "output_type": "display_data"
    },
    {
     "name": "stdout",
     "output_type": "stream",
     "text": [
      "\n"
     ]
    },
    {
     "data": {
      "application/vnd.jupyter.widget-view+json": {
       "model_id": "f5d90650833b4aa1bfe373e40d7fb209",
       "version_major": 2,
       "version_minor": 0
      },
      "text/plain": [
       "HBox(children=(FloatProgress(value=1.0, bar_style='info', max=1.0), HTML(value='')))"
      ]
     },
     "metadata": {},
     "output_type": "display_data"
    },
    {
     "name": "stdout",
     "output_type": "stream",
     "text": [
      "\n"
     ]
    },
    {
     "data": {
      "application/vnd.jupyter.widget-view+json": {
       "model_id": "0ad2dc470c17430c91c8efe7f6a368c3",
       "version_major": 2,
       "version_minor": 0
      },
      "text/plain": [
       "HBox(children=(FloatProgress(value=1.0, bar_style='info', max=1.0), HTML(value='')))"
      ]
     },
     "metadata": {},
     "output_type": "display_data"
    },
    {
     "name": "stdout",
     "output_type": "stream",
     "text": [
      "\n"
     ]
    },
    {
     "data": {
      "application/vnd.jupyter.widget-view+json": {
       "model_id": "f18e97a6615349828cab60e532b8f62e",
       "version_major": 2,
       "version_minor": 0
      },
      "text/plain": [
       "HBox(children=(FloatProgress(value=1.0, bar_style='info', max=1.0), HTML(value='')))"
      ]
     },
     "metadata": {},
     "output_type": "display_data"
    },
    {
     "name": "stdout",
     "output_type": "stream",
     "text": [
      "\n"
     ]
    },
    {
     "data": {
      "application/vnd.jupyter.widget-view+json": {
       "model_id": "8e5425409a0443139ea77c3b4d9eff2f",
       "version_major": 2,
       "version_minor": 0
      },
      "text/plain": [
       "HBox(children=(FloatProgress(value=1.0, bar_style='info', max=1.0), HTML(value='')))"
      ]
     },
     "metadata": {},
     "output_type": "display_data"
    },
    {
     "name": "stdout",
     "output_type": "stream",
     "text": [
      "\n"
     ]
    },
    {
     "data": {
      "application/vnd.jupyter.widget-view+json": {
       "model_id": "9fb0793932cc4511bb8fb0db5d549a36",
       "version_major": 2,
       "version_minor": 0
      },
      "text/plain": [
       "HBox(children=(FloatProgress(value=1.0, bar_style='info', max=1.0), HTML(value='')))"
      ]
     },
     "metadata": {},
     "output_type": "display_data"
    },
    {
     "name": "stdout",
     "output_type": "stream",
     "text": [
      "\n"
     ]
    }
   ],
   "source": [
    "#Train\n",
    "indices = list(range(0, len(X_train), 1000))\n",
    "\n",
    "indices.append(len(X_train))\n",
    "\n",
    "for i in tqdm(range(len(indices) - 1)):\n",
    "    async_gen_topomap(X_train, Y_train, [0,1,3], trial_train, indices[i], indices[i+1], 'topomaps_RT_50_w_sub_h1', t='train')\n",
    "    \n",
    "#Validation\n",
    "# indices = list(range(0, len(X_val), 1000))\n",
    "\n",
    "# indices.append(len(X_val))\n",
    "\n",
    "# for i in tqdm(range(len(indices) - 1)):\n",
    "#     async_gen_topomap(X_val, Y_val, [0,1,3], trial_val, indices[i], indices[i+1], 'topomaps_RT_50_w_sub_h1', t='validation')\n",
    "    \n",
    "#test\n",
    "indices = list(range(0, len(X_test), 1000))\n",
    "\n",
    "indices.append(len(X_test))\n",
    "\n",
    "for i in tqdm(range(len(indices) - 1)):\n",
    "    async_gen_topomap(X_test, Y_test, [0,1,3], trial_test, indices[i], indices[i+1], 'topomaps_RT_50_w_sub_h1', t='test')\n",
    "    \n",
    "# Combine Train\n",
    "\n",
    "combine_topomaps('topomaps_RT_50_w_sub_h1/train/alpha', 'topomaps_RT_50_w_sub_h1/train/beta', 'topomaps_RT_50_w_sub_h1/train/gamma', 0, 'topomaps_RT_50_w_sub_h1/train/combined')\n",
    "combine_topomaps('topomaps_RT_50_w_sub_h1/train/alpha', 'topomaps_RT_50_w_sub_h1/train/beta', 'topomaps_RT_50_w_sub_h1/train/gamma', 1, 'topomaps_RT_50_w_sub_h1/train/combined')\n",
    "combine_topomaps('topomaps_RT_50_w_sub_h1/train/alpha', 'topomaps_RT_50_w_sub_h1/train/beta', 'topomaps_RT_50_w_sub_h1/train/gamma', 3, 'topomaps_RT_50_w_sub_h1/train/combined')\n",
    "\n",
    "# Combine Validation\n",
    "# combine_topomaps('topomaps_RT_50_w_sub_h1/validation/alpha', 'topomaps_RT_50_w_sub_h1/validation/beta', 'topomaps_RT_50_w_sub_h1/validation/gamma', 0, 'topomaps_RT_50_w_sub_h1/validation/combined')\n",
    "# combine_topomaps('topomaps_RT_50_w_sub_h1/validation/alpha', 'topomaps_RT_50_w_sub_h1/validation/beta', 'topomaps_RT_50_w_sub_h1/validation/gamma', 1, 'topomaps_RT_50_w_sub_h1/validation/combined')\n",
    "# combine_topomaps('topomaps_RT_50_w_sub_h1/validation/alpha', 'topomaps_RT_50_w_sub_h1/validation/beta', 'topomaps_RT_50_w_sub_h1/validation/gamma', 3, 'topomaps_RT_50_w_sub_h1/validation/combined')\n",
    "\n",
    "# # Combine Test\n",
    "\n",
    "combine_topomaps('topomaps_RT_50_w_sub_h1/test/alpha', 'topomaps_RT_50_w_sub_h1/test/beta', 'topomaps_RT_50_w_sub_h1/test/gamma', 0, 'topomaps_RT_50_w_sub_h1/test/combined')\n",
    "combine_topomaps('topomaps_RT_50_w_sub_h1/test/alpha', 'topomaps_RT_50_w_sub_h1/test/beta', 'topomaps_RT_50_w_sub_h1/test/gamma', 1, 'topomaps_RT_50_w_sub_h1/test/combined')\n",
    "combine_topomaps('topomaps_RT_50_w_sub_h1/test/alpha', 'topomaps_RT_50_w_sub_h1/test/beta', 'topomaps_RT_50_w_sub_h1/test/gamma', 3, 'topomaps_RT_50_w_sub_h1/test/combined')"
   ]
  },
  {
   "cell_type": "markdown",
   "metadata": {},
   "source": [
    "## Topomap Gen RT (Rate - 100)"
   ]
  },
  {
   "cell_type": "code",
   "execution_count": 3,
   "metadata": {},
   "outputs": [],
   "source": [
    "data = pd.read_csv('data_RT_100/data_bp_RT_100.csv', header=None).values\n",
    "labels = pd.read_csv('data_RT_100/labels_RT_100.csv', header=None).values\n",
    "subjects = pd.read_csv('data_RT_100/subject_RT_100.csv', header=None).values.reshape((-1,))\n",
    "unique_subs = np.unique(subjects)\n",
    "\n",
    "scaler = MinMaxScaler()\n",
    "\n",
    "X = scaler.fit_transform(data)\n",
    "y = labels.astype(np.int16)"
   ]
  },
  {
   "cell_type": "code",
   "execution_count": 5,
   "metadata": {},
   "outputs": [],
   "source": [
    "X_df = pd.DataFrame(X)\n",
    "Y_df = pd.DataFrame(y)\n",
    "Y_df.insert(0, 'trial_no', ['bts_{}.png'.format(i) for i in np.arange(1, data.shape[0] + 1)])\n",
    "Y_df.insert(1, \"subs\", subjects)\n",
    "\n",
    "Y_df.columns = ['trial_no', 'subs', 'labels']"
   ]
  },
  {
   "cell_type": "code",
   "execution_count": 6,
   "metadata": {},
   "outputs": [
    {
     "data": {
      "text/html": [
       "<div>\n",
       "<style scoped>\n",
       "    .dataframe tbody tr th:only-of-type {\n",
       "        vertical-align: middle;\n",
       "    }\n",
       "\n",
       "    .dataframe tbody tr th {\n",
       "        vertical-align: top;\n",
       "    }\n",
       "\n",
       "    .dataframe thead th {\n",
       "        text-align: right;\n",
       "    }\n",
       "</style>\n",
       "<table border=\"1\" class=\"dataframe\">\n",
       "  <thead>\n",
       "    <tr style=\"text-align: right;\">\n",
       "      <th></th>\n",
       "      <th>trial_no</th>\n",
       "      <th>subs</th>\n",
       "      <th>labels</th>\n",
       "    </tr>\n",
       "  </thead>\n",
       "  <tbody>\n",
       "    <tr>\n",
       "      <th>0</th>\n",
       "      <td>bts_1.png</td>\n",
       "      <td>N1</td>\n",
       "      <td>0</td>\n",
       "    </tr>\n",
       "    <tr>\n",
       "      <th>1</th>\n",
       "      <td>bts_2.png</td>\n",
       "      <td>N1</td>\n",
       "      <td>1</td>\n",
       "    </tr>\n",
       "    <tr>\n",
       "      <th>2</th>\n",
       "      <td>bts_3.png</td>\n",
       "      <td>N1</td>\n",
       "      <td>1</td>\n",
       "    </tr>\n",
       "    <tr>\n",
       "      <th>3</th>\n",
       "      <td>bts_4.png</td>\n",
       "      <td>N1</td>\n",
       "      <td>1</td>\n",
       "    </tr>\n",
       "    <tr>\n",
       "      <th>4</th>\n",
       "      <td>bts_5.png</td>\n",
       "      <td>N1</td>\n",
       "      <td>1</td>\n",
       "    </tr>\n",
       "    <tr>\n",
       "      <th>...</th>\n",
       "      <td>...</td>\n",
       "      <td>...</td>\n",
       "      <td>...</td>\n",
       "    </tr>\n",
       "    <tr>\n",
       "      <th>53139</th>\n",
       "      <td>bts_53140.png</td>\n",
       "      <td>T9</td>\n",
       "      <td>3</td>\n",
       "    </tr>\n",
       "    <tr>\n",
       "      <th>53140</th>\n",
       "      <td>bts_53141.png</td>\n",
       "      <td>T9</td>\n",
       "      <td>3</td>\n",
       "    </tr>\n",
       "    <tr>\n",
       "      <th>53141</th>\n",
       "      <td>bts_53142.png</td>\n",
       "      <td>T9</td>\n",
       "      <td>3</td>\n",
       "    </tr>\n",
       "    <tr>\n",
       "      <th>53142</th>\n",
       "      <td>bts_53143.png</td>\n",
       "      <td>T9</td>\n",
       "      <td>3</td>\n",
       "    </tr>\n",
       "    <tr>\n",
       "      <th>53143</th>\n",
       "      <td>bts_53144.png</td>\n",
       "      <td>T9</td>\n",
       "      <td>3</td>\n",
       "    </tr>\n",
       "  </tbody>\n",
       "</table>\n",
       "<p>53144 rows × 3 columns</p>\n",
       "</div>"
      ],
      "text/plain": [
       "            trial_no subs  labels\n",
       "0          bts_1.png   N1       0\n",
       "1          bts_2.png   N1       1\n",
       "2          bts_3.png   N1       1\n",
       "3          bts_4.png   N1       1\n",
       "4          bts_5.png   N1       1\n",
       "...              ...  ...     ...\n",
       "53139  bts_53140.png   T9       3\n",
       "53140  bts_53141.png   T9       3\n",
       "53141  bts_53142.png   T9       3\n",
       "53142  bts_53143.png   T9       3\n",
       "53143  bts_53144.png   T9       3\n",
       "\n",
       "[53144 rows x 3 columns]"
      ]
     },
     "execution_count": 6,
     "metadata": {},
     "output_type": "execute_result"
    }
   ],
   "source": [
    "Y_df"
   ]
  },
  {
   "cell_type": "code",
   "execution_count": 7,
   "metadata": {},
   "outputs": [],
   "source": [
    "X_train, X_test, y_train, y_test = train_test_split(X_df, Y_df, random_state=33, test_size=0.2, stratify=Y_df['labels'])"
   ]
  },
  {
   "cell_type": "code",
   "execution_count": 8,
   "metadata": {},
   "outputs": [],
   "source": [
    "subject_train = y_train[['subs', 'trial_no']]\n",
    "# subject_val = x_val[['subs', 'trial_no']]\n",
    "subject_test = y_test[['subs', 'trial_no']]\n",
    "\n",
    "X_train = X_train.values\n",
    "X_test = X_test.values\n",
    "\n",
    "Y_train = y_train['labels'].values.flatten()\n",
    "Y_test = y_test['labels'].values.flatten()\n",
    "\n",
    "# subject_train = pd.read_csv(\"sub_train_rt_50.csv\")\n",
    "# subject_val = pd.read_csv(\"sub_val_rt_50.csv\")\n",
    "# subject_test = pd.read_csv(\"sub_test_rt_50.csv\")\n",
    "\n",
    "trial_train = subject_train['trial_no'].values\n",
    "# trial_val = subject_val['trial_no'].values\n",
    "trial_test = subject_test['trial_no'].values"
   ]
  },
  {
   "cell_type": "code",
   "execution_count": 9,
   "metadata": {},
   "outputs": [],
   "source": [
    "subject_train.to_csv(\"sub_train_rt_100.csv\")\n",
    "# subject_val.to_csv(\"sub_val_rt_50.csv\")\n",
    "subject_test.to_csv(\"sub_test_rt_100.csv\")"
   ]
  },
  {
   "cell_type": "code",
   "execution_count": 10,
   "metadata": {},
   "outputs": [
    {
     "data": {
      "application/vnd.jupyter.widget-view+json": {
       "model_id": "a2560c9628f24b88ad56a44f6da2192c",
       "version_major": 2,
       "version_minor": 0
      },
      "text/plain": [
       "HBox(children=(FloatProgress(value=0.0, max=43.0), HTML(value='')))"
      ]
     },
     "metadata": {},
     "output_type": "display_data"
    },
    {
     "name": "stdout",
     "output_type": "stream",
     "text": [
      "\n"
     ]
    },
    {
     "data": {
      "application/vnd.jupyter.widget-view+json": {
       "model_id": "ba5d0ac85a9e40c4a4f87c32384e2ad4",
       "version_major": 2,
       "version_minor": 0
      },
      "text/plain": [
       "HBox(children=(FloatProgress(value=0.0, max=11.0), HTML(value='')))"
      ]
     },
     "metadata": {},
     "output_type": "display_data"
    },
    {
     "name": "stdout",
     "output_type": "stream",
     "text": [
      "\n"
     ]
    },
    {
     "data": {
      "application/vnd.jupyter.widget-view+json": {
       "model_id": "b144f0d0886a4295996348383f9defee",
       "version_major": 2,
       "version_minor": 0
      },
      "text/plain": [
       "HBox(children=(FloatProgress(value=1.0, bar_style='info', max=1.0), HTML(value='')))"
      ]
     },
     "metadata": {},
     "output_type": "display_data"
    },
    {
     "name": "stdout",
     "output_type": "stream",
     "text": [
      "\n"
     ]
    },
    {
     "data": {
      "application/vnd.jupyter.widget-view+json": {
       "model_id": "8c790ad7675447fb9fcf75f9501daa05",
       "version_major": 2,
       "version_minor": 0
      },
      "text/plain": [
       "HBox(children=(FloatProgress(value=1.0, bar_style='info', max=1.0), HTML(value='')))"
      ]
     },
     "metadata": {},
     "output_type": "display_data"
    },
    {
     "name": "stdout",
     "output_type": "stream",
     "text": [
      "\n"
     ]
    },
    {
     "data": {
      "application/vnd.jupyter.widget-view+json": {
       "model_id": "c7951a7404304cfdbddde47423224fb4",
       "version_major": 2,
       "version_minor": 0
      },
      "text/plain": [
       "HBox(children=(FloatProgress(value=1.0, bar_style='info', max=1.0), HTML(value='')))"
      ]
     },
     "metadata": {},
     "output_type": "display_data"
    },
    {
     "name": "stdout",
     "output_type": "stream",
     "text": [
      "\n"
     ]
    },
    {
     "data": {
      "application/vnd.jupyter.widget-view+json": {
       "model_id": "563d318fd8774389a5ff71a061143a01",
       "version_major": 2,
       "version_minor": 0
      },
      "text/plain": [
       "HBox(children=(FloatProgress(value=1.0, bar_style='info', max=1.0), HTML(value='')))"
      ]
     },
     "metadata": {},
     "output_type": "display_data"
    },
    {
     "name": "stdout",
     "output_type": "stream",
     "text": [
      "\n"
     ]
    },
    {
     "data": {
      "application/vnd.jupyter.widget-view+json": {
       "model_id": "f55aeaf20f134aa4906d2c8b9c1546b4",
       "version_major": 2,
       "version_minor": 0
      },
      "text/plain": [
       "HBox(children=(FloatProgress(value=1.0, bar_style='info', max=1.0), HTML(value='')))"
      ]
     },
     "metadata": {},
     "output_type": "display_data"
    },
    {
     "name": "stdout",
     "output_type": "stream",
     "text": [
      "\n"
     ]
    },
    {
     "data": {
      "application/vnd.jupyter.widget-view+json": {
       "model_id": "c80dcf4ea40e4208812b5dcf19553f90",
       "version_major": 2,
       "version_minor": 0
      },
      "text/plain": [
       "HBox(children=(FloatProgress(value=1.0, bar_style='info', max=1.0), HTML(value='')))"
      ]
     },
     "metadata": {},
     "output_type": "display_data"
    },
    {
     "name": "stdout",
     "output_type": "stream",
     "text": [
      "\n"
     ]
    }
   ],
   "source": [
    "#Train\n",
    "indices = list(range(0, len(X_train), 1000))\n",
    "\n",
    "indices.append(len(X_train))\n",
    "\n",
    "for i in tqdm(range(len(indices) - 1)):\n",
    "    async_gen_topomap(X_train, Y_train, [0,1,3], trial_train, indices[i], indices[i+1], 'topomaps_RT_100_w_sub_2', t='train')\n",
    "    \n",
    "#Validation\n",
    "# indices = list(range(0, len(X_val), 1000))\n",
    "\n",
    "# indices.append(len(X_val))\n",
    "\n",
    "# for i in tqdm(range(len(indices) - 1)):\n",
    "#     async_gen_topomap(X_val, Y_val, [0,1,3], trial_val, indices[i], indices[i+1], 'topomaps_RT_100_w_sub_2', t='validation')\n",
    "    \n",
    "#test\n",
    "indices = list(range(0, len(X_test), 1000))\n",
    "\n",
    "indices.append(len(X_test))\n",
    "\n",
    "for i in tqdm(range(len(indices) - 1)):\n",
    "    async_gen_topomap(X_test, Y_test, [0,1,3], trial_test, indices[i], indices[i+1], 'topomaps_RT_100_w_sub_2', t='test')\n",
    "    \n",
    "# Combine Train\n",
    "\n",
    "combine_topomaps('topomaps_RT_100_w_sub_2/train/alpha', 'topomaps_RT_100_w_sub_2/train/beta', 'topomaps_RT_100_w_sub_2/train/gamma', 0, 'topomaps_RT_100_w_sub_2/train/combined')\n",
    "combine_topomaps('topomaps_RT_100_w_sub_2/train/alpha', 'topomaps_RT_100_w_sub_2/train/beta', 'topomaps_RT_100_w_sub_2/train/gamma', 1, 'topomaps_RT_100_w_sub_2/train/combined')\n",
    "combine_topomaps('topomaps_RT_100_w_sub_2/train/alpha', 'topomaps_RT_100_w_sub_2/train/beta', 'topomaps_RT_100_w_sub_2/train/gamma', 3, 'topomaps_RT_100_w_sub_2/train/combined')\n",
    "\n",
    "# Combine Validation\n",
    "# combine_topomaps('topomaps_RT_100_w_sub_2/validation/alpha', 'topomaps_RT_100_w_sub_2/validation/beta', 'topomaps_RT_100_w_sub_2/validation/gamma', 0, 'topomaps_RT_100_w_sub_2/validation/combined')\n",
    "# combine_topomaps('topomaps_RT_100_w_sub_2/validation/alpha', 'topomaps_RT_100_w_sub_2/validation/beta', 'topomaps_RT_100_w_sub_2/validation/gamma', 1, 'topomaps_RT_100_w_sub_2/validation/combined')\n",
    "# combine_topomaps('topomaps_RT_100_w_sub_2/validation/alpha', 'topomaps_RT_100_w_sub_2/validation/beta', 'topomaps_RT_100_w_sub_2/validation/gamma', 3, 'topomaps_RT_100_w_sub_2/validation/combined')\n",
    "\n",
    "# # Combine Test\n",
    "\n",
    "combine_topomaps('topomaps_RT_100_w_sub_2/test/alpha', 'topomaps_RT_100_w_sub_2/test/beta', 'topomaps_RT_100_w_sub_2/test/gamma', 0, 'topomaps_RT_100_w_sub_2/test/combined')\n",
    "combine_topomaps('topomaps_RT_100_w_sub_2/test/alpha', 'topomaps_RT_100_w_sub_2/test/beta', 'topomaps_RT_100_w_sub_2/test/gamma', 1, 'topomaps_RT_100_w_sub_2/test/combined')\n",
    "combine_topomaps('topomaps_RT_100_w_sub_2/test/alpha', 'topomaps_RT_100_w_sub_2/test/beta', 'topomaps_RT_100_w_sub_2/test/gamma', 3, 'topomaps_RT_100_w_sub_2/test/combined')"
   ]
  }
 ],
 "metadata": {
  "kernelspec": {
   "display_name": "Python 3",
   "language": "python",
   "name": "python3"
  },
  "language_info": {
   "codemirror_mode": {
    "name": "ipython",
    "version": 3
   },
   "file_extension": ".py",
   "mimetype": "text/x-python",
   "name": "python",
   "nbconvert_exporter": "python",
   "pygments_lexer": "ipython3",
   "version": "3.7.5"
  }
 },
 "nbformat": 4,
 "nbformat_minor": 2
}
