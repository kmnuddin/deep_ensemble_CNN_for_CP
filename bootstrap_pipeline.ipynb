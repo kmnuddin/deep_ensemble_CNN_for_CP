{
 "cells": [
  {
   "cell_type": "code",
   "execution_count": 12,
   "metadata": {},
   "outputs": [],
   "source": [
    "import mne\n",
    "import numpy as np\n",
    "import matplotlib.pyplot as plt\n",
    "import pandas as pd\n",
    "import os\n",
    "import seaborn as sns\n",
    "from collections.abc import MutableMapping\n",
    "\n",
    "from tqdm.notebook import tqdm\n",
    "from sklearn.preprocessing import normalize\n",
    "import pickle\n",
    "\n",
    "plt.style.use('ggplot')\n",
    "\n",
    "mne.set_log_level(verbose=False)"
   ]
  },
  {
   "cell_type": "code",
   "execution_count": 13,
   "metadata": {},
   "outputs": [],
   "source": [
    "subjects = [file.split('.')[0] for file in os.listdir('RT_epochs') if file.endswith('.fif')]\n",
    "epoch_paths = [os.path.join('RT_epochs', file) for file in os.listdir('RT_epochs') if file.endswith('.fif')]"
   ]
  },
  {
   "cell_type": "code",
   "execution_count": 14,
   "metadata": {},
   "outputs": [],
   "source": [
    "class BTS_ERP(MutableMapping):\n",
    "    \n",
    "    def __init__(self, subject, *args, **kwargs):\n",
    "        self.subject = subject\n",
    "        self.epochs = dict()\n",
    "        self.update(dict(*args, **kwargs))\n",
    "        \n",
    "    def __getitem__(self, event_id):\n",
    "        return self.epochs[event_id]\n",
    "\n",
    "    def __setitem__(self, event_id, epoch):\n",
    "        self.epochs[event_id] = epoch\n",
    "\n",
    "    def __delitem__(self, event_id):\n",
    "        del self.epochs[event_id]\n",
    "\n",
    "    def __iter__(self):\n",
    "        return iter(self.epochs)\n",
    "\n",
    "    def __len__(self):\n",
    "        return len(self.epochs)\n",
    "    \n",
    "    def __repr__(self):\n",
    "        \n",
    "        return 'Subject: {}, slow: {}, med: {}, fast: {}'.format(self.subject, self.epochs['0'].shape[0], \n",
    "                                                                              self.epochs['3'].shape[0],\n",
    "                                                                             self.epochs['1'].shape[0]) \n",
    "    \n",
    "    def get_data(self):\n",
    "        \n",
    "        data = []\n",
    "        \n",
    "        for i,epoch in enumerate(self.epochs.values()):\n",
    "            if len(epoch) == 0:\n",
    "                continue\n",
    "            if len(data) == 0:\n",
    "                data = epoch\n",
    "                continue\n",
    "\n",
    "            data = np.append(data, epoch, axis=0)\n",
    "            \n",
    "        return data\n",
    "    \n",
    "    def get_metadata(self):\n",
    "        \n",
    "        meta = []\n",
    "        \n",
    "        for event in self.epochs:\n",
    "            no_trials = len(self.epochs[event])\n",
    "            \n",
    "            if no_trials == 0:\n",
    "                continue\n",
    "            m = no_trials * [[self.subject, event]]\n",
    "            \n",
    "            meta.extend(m)\n",
    "            \n",
    "        return np.array(meta)"
   ]
  },
  {
   "cell_type": "code",
   "execution_count": 4,
   "metadata": {},
   "outputs": [],
   "source": [
    "def drop_trials(trials, sampledtrials, n_dr):\n",
    "    \n",
    "    dr_trials = np.random.choice(sampledtrials, size=n_dr)\n",
    "    \n",
    "    for dr_trial in dr_trials:\n",
    "        \n",
    "        trial_index = np.where(trials == dr_trial)[0]\n",
    "        \n",
    "        trials = np.delete(trials, trial_index)\n",
    "        \n",
    "    return trials\n",
    "\n",
    "def bootstrap(epochs, event_ids, subject, rate=10, iter=1200, \n",
    "              dropout = None, trial_dr_div=10):\n",
    "    \n",
    "    bts = BTS_ERP(subject)\n",
    "    \n",
    "    for event_id in event_ids:\n",
    "        \n",
    "        if event_id == '2':\n",
    "            continue           \n",
    "        \n",
    "        epocharray = epochs[event_id].get_data()\n",
    "        \n",
    "        n_trials = epocharray.shape[0]\n",
    "        \n",
    "        if dropout is None:\n",
    "            dr = 0\n",
    "        else:\n",
    "            dr = dropout[event_id]\n",
    "                    \n",
    "        n_dr = int(rate * dr) \n",
    "        \n",
    "        trials = np.arange(0, n_trials)\n",
    "        \n",
    "        btserps = []\n",
    "        \n",
    "        for i in range(iter):\n",
    "            \n",
    "            if len(trials) <= rate:\n",
    "                btserps.append(np.average(epocharray[trials], axis=0))\n",
    "                break\n",
    "            \n",
    "            sampledtrials = np.random.choice(trials, size=rate)\n",
    "            sampledepochs = epocharray[sampledtrials]\n",
    "            btserp = np.average(sampledepochs, axis=0)\n",
    "            \n",
    "            btserps.append(btserp)\n",
    "            \n",
    "            if i % trial_dr_div == 0:      \n",
    "                trials = drop_trials(trials, sampledtrials, n_dr)\n",
    "                \n",
    "            \n",
    "        bts[event_id] = np.array(btserps)\n",
    "        \n",
    "    return bts\n",
    "\n",
    "def save_btserp(bts, subject, folder='bts_erp', rate=None):\n",
    "    \n",
    "    if rate is not None:\n",
    "        folder = '{}_{}'.format(folder, rate)\n",
    "        \n",
    "    if not os.path.exists(folder):\n",
    "        os.mkdir(folder)\n",
    "    subject = subject + '.pkl'\n",
    "        \n",
    "    save_path = os.path.join(folder, subject)\n",
    "    \n",
    "    with open(save_path, 'wb') as f:\n",
    "        pickle.dump(bts, f)"
   ]
  },
  {
   "cell_type": "code",
   "execution_count": 5,
   "metadata": {},
   "outputs": [
    {
     "data": {
      "application/vnd.jupyter.widget-view+json": {
       "model_id": "52434a3911634103a33977dfd9fbb4c2",
       "version_major": 2,
       "version_minor": 0
      },
      "text/plain": [
       "HBox(children=(FloatProgress(value=1.0, bar_style='info', max=1.0), HTML(value='')))"
      ]
     },
     "metadata": {},
     "output_type": "display_data"
    },
    {
     "data": {
      "application/vnd.jupyter.widget-view+json": {
       "model_id": "4b11c6e4dad04e9db907c23342292ba7",
       "version_major": 2,
       "version_minor": 0
      },
      "text/plain": [
       "HBox(children=(FloatProgress(value=1.0, bar_style='info', max=1.0), HTML(value='')))"
      ]
     },
     "metadata": {},
     "output_type": "display_data"
    },
    {
     "name": "stdout",
     "output_type": "stream",
     "text": [
      "\n"
     ]
    },
    {
     "data": {
      "application/vnd.jupyter.widget-view+json": {
       "model_id": "b55971e81da244938264a5533ed2fc39",
       "version_major": 2,
       "version_minor": 0
      },
      "text/plain": [
       "HBox(children=(FloatProgress(value=1.0, bar_style='info', max=1.0), HTML(value='')))"
      ]
     },
     "metadata": {},
     "output_type": "display_data"
    },
    {
     "name": "stdout",
     "output_type": "stream",
     "text": [
      "\n"
     ]
    },
    {
     "data": {
      "application/vnd.jupyter.widget-view+json": {
       "model_id": "7f5f7627c82142a6991d77bd0df635bf",
       "version_major": 2,
       "version_minor": 0
      },
      "text/plain": [
       "HBox(children=(FloatProgress(value=1.0, bar_style='info', max=1.0), HTML(value='')))"
      ]
     },
     "metadata": {},
     "output_type": "display_data"
    },
    {
     "name": "stdout",
     "output_type": "stream",
     "text": [
      "\n",
      "\n"
     ]
    }
   ],
   "source": [
    "rate = [10, 30, 50]\n",
    "\n",
    "dr_dict = {\n",
    "    10 : {'0': 0.1, '1': 0.3, '3': 0.2},\n",
    "    30 : {'0': 0.2, '1': 0.4, '3': 0.3},\n",
    "    50 : {'0': 0.2, '1': 0.5, '3': 0.3}\n",
    "}\n",
    "\n",
    "trial_drs = [10, 15, 20]\n",
    "\n",
    "for dr_key, trial_dr_div, r in tqdm(zip(dr_dict, trial_drs, rate)):\n",
    "    dr = dr_dict[dr_key]\n",
    "    for path, sub in tqdm(zip(epoch_paths, subjects)):\n",
    "        single_trials = mne.read_epochs(path, verbose=False)\n",
    "        bts = bootstrap(single_trials, ['0', '1', '3'], sub, dropout=dr, trial_dr_div=trial_dr_div)\n",
    "        save_btserp(bts, sub, rate=r)"
   ]
  },
  {
   "cell_type": "code",
   "execution_count": 297,
   "metadata": {},
   "outputs": [
    {
     "data": {
      "application/vnd.jupyter.widget-view+json": {
       "model_id": "d32d04b7df4b4063a2312adb3d5fd036",
       "version_major": 2,
       "version_minor": 0
      },
      "text/plain": [
       "HBox(children=(FloatProgress(value=0.0, max=50.0), HTML(value='')))"
      ]
     },
     "metadata": {},
     "output_type": "display_data"
    },
    {
     "name": "stdout",
     "output_type": "stream",
     "text": [
      "\n",
      "slow: 25829, med: 41660, fast: 52993, total: 120482\n"
     ]
    }
   ],
   "source": [
    "slow = 0\n",
    "med = 0\n",
    "fast = 0\n",
    "\n",
    "folder_path = 'filtered_bts_erp_10/'\n",
    "for sub in tqdm(subjects):\n",
    "    path = os.path.join(folder_path, sub + '.pkl')\n",
    "    \n",
    "    with open(path, 'rb') as f:\n",
    "        erp = pickle.load(f)\n",
    "    \n",
    "    slow += len(erp['0'])\n",
    "    med += len(erp['3'])\n",
    "    fast += len(erp['1'])\n",
    "    \n",
    "print('slow: {}, med: {}, fast: {}, total: {}'.format(slow, med, fast, slow+med+fast))"
   ]
  },
  {
   "cell_type": "code",
   "execution_count": 237,
   "metadata": {},
   "outputs": [
    {
     "data": {
      "text/plain": [
       "133870"
      ]
     },
     "execution_count": 237,
     "metadata": {},
     "output_type": "execute_result"
    }
   ],
   "source": [
    "slow + med + fast"
   ]
  },
  {
   "cell_type": "markdown",
   "metadata": {},
   "source": [
    "### PCA Decomposition (ERP)"
   ]
  },
  {
   "cell_type": "code",
   "execution_count": 6,
   "metadata": {},
   "outputs": [],
   "source": [
    "from sklearn.decomposition import PCA\n",
    "from sklearn import metrics"
   ]
  },
  {
   "cell_type": "code",
   "execution_count": 7,
   "metadata": {},
   "outputs": [],
   "source": [
    "def compute_recon_error(rate=10, n_components=2):\n",
    "   \n",
    "    for i, sub in tqdm(enumerate(subjects)):\n",
    "\n",
    "        eeg_path = 'RT_epochs/' + sub + '.fif'\n",
    "\n",
    "        btserp_path = 'bts_erp_{}/'.format(rate) + sub + '.pkl'\n",
    "\n",
    "        eeg_trials = mne.read_epochs(eeg_path, verbose=False).get_data()\n",
    "\n",
    "        with open(btserp_path, 'rb') as f:\n",
    "            btserp = pickle.load(f)\n",
    "        \n",
    "        btserp_trials = btserp.get_data()\n",
    "        \n",
    "        meta = btserp.get_metadata()\n",
    "        \n",
    "        \n",
    "\n",
    "        eeg_trials = eeg_trials.reshape((eeg_trials.shape[0], -1))\n",
    "        btserp_trials = btserp_trials.reshape((btserp_trials.shape[0], -1))\n",
    "\n",
    "        pca = PCA(copy=False)\n",
    "        pca.fit(eeg_trials)\n",
    "\n",
    "        eeg_eigen = pca.transform(eeg_trials)\n",
    "        eeg_recon = pca.inverse_transform(eeg_eigen)\n",
    "\n",
    "        btserp_eigen = pca.transform(btserp_trials)\n",
    "        btserp_recon = pca.inverse_transform(btserp_eigen)\n",
    "\n",
    "        eeg_recon_error = np.mean((eeg_trials - eeg_recon) ** 2, axis=1)\n",
    "        btserp_recon_error = np.mean((btserp_trials - btserp_recon) ** 2, axis=1)\n",
    "        \n",
    "        save_path_eeg_error = 'eeg_recon_error/'\n",
    "        btserp_path_eeg_error = 'btserp_recon_error{}/'.format(rate)\n",
    "        \n",
    "        if not os.path.exists(save_path_eeg_error):\n",
    "            os.mkdir(save_path_eeg_error)\n",
    "            \n",
    "        if len(os.listdir(save_path_eeg_error)) != 50:\n",
    "            eeg_recon_path = save_path_eeg_error + sub.split('-')[0] + '.npy'\n",
    "            np.save(eeg_recon_path, eeg_recon_error)\n",
    "            \n",
    "        if not os.path.exists(btserp_path_eeg_error):\n",
    "            os.mkdir(btserp_path_eeg_error)\n",
    "        \n",
    "        btserp_recon_error = np.append(meta, btserp_recon_error[..., np.newaxis], axis=1)\n",
    "        \n",
    "        trials = np.arange(0, len(btserp_recon_error))\n",
    "        \n",
    "        btserp_recon_error = np.append(btserp_recon_error, trials[..., np.newaxis], axis=1)\n",
    "        \n",
    "        btserp_recon_error = btserp_recon_error[:, [2,0,1,3]]\n",
    "        \n",
    "        btserp_recon_path = btserp_path_eeg_error + sub.split('-')[0] + '.npy'\n",
    "        \n",
    "        np.save(btserp_recon_path, btserp_recon_error)\n",
    "        \n",
    "        "
   ]
  },
  {
   "cell_type": "code",
   "execution_count": 8,
   "metadata": {},
   "outputs": [
    {
     "data": {
      "application/vnd.jupyter.widget-view+json": {
       "model_id": "85582483b9164caab87eea57636b6ebc",
       "version_major": 2,
       "version_minor": 0
      },
      "text/plain": [
       "HBox(children=(FloatProgress(value=0.0, max=3.0), HTML(value='')))"
      ]
     },
     "metadata": {},
     "output_type": "display_data"
    },
    {
     "data": {
      "application/vnd.jupyter.widget-view+json": {
       "model_id": "19020bd61cf0401496831e076613706c",
       "version_major": 2,
       "version_minor": 0
      },
      "text/plain": [
       "HBox(children=(FloatProgress(value=1.0, bar_style='info', max=1.0), HTML(value='')))"
      ]
     },
     "metadata": {},
     "output_type": "display_data"
    },
    {
     "name": "stdout",
     "output_type": "stream",
     "text": [
      "\n"
     ]
    },
    {
     "data": {
      "application/vnd.jupyter.widget-view+json": {
       "model_id": "1e55553790804a6e864beb3e29fc821e",
       "version_major": 2,
       "version_minor": 0
      },
      "text/plain": [
       "HBox(children=(FloatProgress(value=1.0, bar_style='info', max=1.0), HTML(value='')))"
      ]
     },
     "metadata": {},
     "output_type": "display_data"
    },
    {
     "name": "stdout",
     "output_type": "stream",
     "text": [
      "\n"
     ]
    },
    {
     "data": {
      "application/vnd.jupyter.widget-view+json": {
       "model_id": "56e0e616b3f34c8f88473d2737b4adc7",
       "version_major": 2,
       "version_minor": 0
      },
      "text/plain": [
       "HBox(children=(FloatProgress(value=1.0, bar_style='info', max=1.0), HTML(value='')))"
      ]
     },
     "metadata": {},
     "output_type": "display_data"
    },
    {
     "name": "stdout",
     "output_type": "stream",
     "text": [
      "\n",
      "\n"
     ]
    }
   ],
   "source": [
    "for r in tqdm(rate):\n",
    "    compute_recon_error(r)"
   ]
  },
  {
   "cell_type": "code",
   "execution_count": 15,
   "metadata": {},
   "outputs": [
    {
     "data": {
      "application/vnd.jupyter.widget-view+json": {
       "model_id": "0742329b59064e9e832a28449e04d43c",
       "version_major": 2,
       "version_minor": 0
      },
      "text/plain": [
       "HBox(children=(FloatProgress(value=1.0, bar_style='info', max=1.0), HTML(value='')))"
      ]
     },
     "metadata": {},
     "output_type": "display_data"
    },
    {
     "data": {
      "application/vnd.jupyter.widget-view+json": {
       "model_id": "544937c4bcec4a3884b46e5cb67a7461",
       "version_major": 2,
       "version_minor": 0
      },
      "text/plain": [
       "HBox(children=(FloatProgress(value=0.0, max=50.0), HTML(value='')))"
      ]
     },
     "metadata": {},
     "output_type": "display_data"
    },
    {
     "name": "stdout",
     "output_type": "stream",
     "text": [
      "\n"
     ]
    },
    {
     "data": {
      "application/vnd.jupyter.widget-view+json": {
       "model_id": "d9c5c6fdaf1745d88998b801a47512ed",
       "version_major": 2,
       "version_minor": 0
      },
      "text/plain": [
       "HBox(children=(FloatProgress(value=0.0, max=50.0), HTML(value='')))"
      ]
     },
     "metadata": {},
     "output_type": "display_data"
    },
    {
     "name": "stdout",
     "output_type": "stream",
     "text": [
      "\n"
     ]
    },
    {
     "data": {
      "application/vnd.jupyter.widget-view+json": {
       "model_id": "e063008bc2f14736b1979765851874bc",
       "version_major": 2,
       "version_minor": 0
      },
      "text/plain": [
       "HBox(children=(FloatProgress(value=0.0, max=50.0), HTML(value='')))"
      ]
     },
     "metadata": {},
     "output_type": "display_data"
    },
    {
     "name": "stdout",
     "output_type": "stream",
     "text": [
      "\n",
      "\n"
     ]
    }
   ],
   "source": [
    "rate = [10, 30, 50]\n",
    "eeg_error = []\n",
    "btserp_errors = dict()\n",
    "\n",
    "for i,r in tqdm(enumerate(rate)):  \n",
    "    btserp_error = []\n",
    "    \n",
    "    for sub in tqdm(subjects):\n",
    "        if i == 0:\n",
    "            eeg_recon_path = 'eeg_recon_error/' + sub.split('-')[0] + '.npy'\n",
    "            eeg_error = np.append(eeg_error, np.load(eeg_recon_path, allow_pickle=True))\n",
    "\n",
    "        btserp_recon_path = 'btserp_recon_error{}/'.format(r) + sub.split('-')[0] + '.npy'\n",
    "\n",
    "        \n",
    "        btserp_error = np.append(btserp_error, np.load(btserp_recon_path, allow_pickle=True))\n",
    "    \n",
    "    btserp_errors[r] = btserp_error.reshape((-1, 4))\n",
    "    "
   ]
  },
  {
   "cell_type": "code",
   "execution_count": 24,
   "metadata": {},
   "outputs": [
    {
     "data": {
      "text/plain": [
       "<matplotlib.legend.Legend at 0x7fb84db68b90>"
      ]
     },
     "execution_count": 24,
     "metadata": {},
     "output_type": "execute_result"
    },
    {
     "data": {
      "image/png": "[encoded data removed]",
      "text/plain": [
       "<Figure size 1080x432 with 1 Axes>"
      ]
     },
     "metadata": {},
     "output_type": "display_data"
    }
   ],
   "source": [
    "plt.figure(figsize=(15,6))\n",
    "\n",
    "for r in rate:\n",
    "    bts_errors = np.log10(btserp_errors[r][:,0].astype(np.float32))\n",
    "    sns.distplot(bts_errors, hist=False, label='BTS (rate-{})'.format(r))\n",
    "    \n",
    "sns.distplot(np.log10(eeg_error), hist=False, label='Original EEG')\n",
    "\n",
    "plt.xlabel('recon error (log scale)')\n",
    "plt.ylabel('density')\n",
    "plt.legend()    "
   ]
  },
  {
   "cell_type": "code",
   "execution_count": 10,
   "metadata": {},
   "outputs": [
    {
     "data": {
      "image/png": "[encoded data removed]",
      "text/plain": [
       "<Figure size 432x288 with 1 Axes>"
      ]
     },
     "metadata": {},
     "output_type": "display_data"
    }
   ],
   "source": [
    "plt.figure()\n",
    "error10 =np.log(btserp_errors[10][:, 0].astype(np.float32))\n",
    "points = sns.distplot(error10, hist=False).get_lines()[0].get_data()\n",
    "x, y = points\n",
    "\n",
    "p5 = np.percentile(error10, 5)\n",
    "p95 = np.percentile(error10, 95)\n",
    "\n",
    "no_samples = len(error10[(error10 >= p5) & (error10 <= p95)])\n",
    "\n",
    "shade = plt.fill_between(x, y, where=(x>=p5) & (x<=p95), color='r', alpha=0.4)\n",
    "\n",
    "plt.text(p5-0.7, 0.17, '5th')\n",
    "plt.text(p95, 0.07, '95th')\n",
    "\n",
    "plt.axvline(p5+0.1, ymin=0.05, ymax=0.4, linestyle='--')\n",
    "plt.axvline(p95-0.1, ymin=0.05, ymax=0.17, linestyle='--')\n",
    "\n",
    "plt.xlabel('reconstruction error (log scale)')\n",
    "plt.ylabel('density')\n",
    "\n",
    "plt.text(-67, 0.15, '{} \\nsamples\\n out of\\n {}'.format(no_samples, len(error10)))\n",
    "\n",
    "plt.show()"
   ]
  },
  {
   "cell_type": "code",
   "execution_count": 11,
   "metadata": {},
   "outputs": [],
   "source": [
    "btserp10 = pd.DataFrame(btserp_errors[10], columns=['recon_error', 'sub', 'RT', 'trial_no'])\n",
    "btserp10['recon_error'] = btserp10[['recon_error', 'trial_no']].apply(pd.to_numeric)\n",
    "\n",
    "btserp10_filtered = btserp10[(np.log(btserp10['recon_error']) >= p5) \n",
    "                             & (np.log(btserp10['recon_error']) <= p95)]\n",
    "btserp10_filtered.to_csv('recon_error10_filtered.csv', index=False)"
   ]
  },
  {
   "cell_type": "code",
   "execution_count": 12,
   "metadata": {},
   "outputs": [],
   "source": [
    "def filter_btserp(rate=10):\n",
    "    events = ['0', '1', '3']\n",
    "    recon_error_path = 'recon_error{}_filtered.csv'.format(rate)\n",
    "    meta = pd.read_csv(recon_error_path)[['trial_no', 'sub', 'RT']].values\n",
    "    \n",
    "    for i, sub in tqdm(enumerate(subjects)):\n",
    "        filtered_bts = BTS_ERP(sub)\n",
    "        \n",
    "        sub_meta = meta[meta[:, 1] == sub]\n",
    "        trial_ids = sub_meta[:, 0].astype(np.int)\n",
    "        \n",
    "#         print(trial_ids[sub_meta[:, 2].astype(str) == '0'])\n",
    "#         print(sub)\n",
    "        \n",
    "        btserp_path = 'bts_erp_{}/'.format(rate) + sub + '.pkl'\n",
    "\n",
    "        with open(btserp_path, 'rb') as f:\n",
    "            btserp = pickle.load(f)\n",
    "            btserp_epoch = btserp.get_data()\n",
    "        \n",
    "        for event in events:\n",
    "            event_trials = trial_ids[sub_meta[:, 2].astype(str) == event]\n",
    "#             print(event_trials.max(), btserp_epoch.shape[0])\n",
    "            filtered_epochs = btserp_epoch[event_trials]\n",
    "            filtered_bts[event] = filtered_epochs\n",
    "        save_btserp(filtered_bts, sub, 'filtered_bts_erp', rate=10)"
   ]
  },
  {
   "cell_type": "code",
   "execution_count": 13,
   "metadata": {},
   "outputs": [
    {
     "data": {
      "application/vnd.jupyter.widget-view+json": {
       "model_id": "3d3c24dfb84246608d042b9a6396e753",
       "version_major": 2,
       "version_minor": 0
      },
      "text/plain": [
       "HBox(children=(FloatProgress(value=1.0, bar_style='info', max=1.0), HTML(value='')))"
      ]
     },
     "metadata": {},
     "output_type": "display_data"
    },
    {
     "name": "stdout",
     "output_type": "stream",
     "text": [
      "\n"
     ]
    }
   ],
   "source": [
    "filter_btserp()"
   ]
  },
  {
   "cell_type": "markdown",
   "metadata": {},
   "source": [
    "## Band Power Calculation"
   ]
  },
  {
   "cell_type": "code",
   "execution_count": 7,
   "metadata": {},
   "outputs": [],
   "source": [
    "from MNE_Pipeline_ext import MNE_Repo_Mat_ext\n",
    "from MNE_Pipeline import MNE_Repo_Mat\n",
    "\n",
    "\n",
    "import re"
   ]
  },
  {
   "cell_type": "code",
   "execution_count": 15,
   "metadata": {},
   "outputs": [
    {
     "name": "stderr",
     "output_type": "stream",
     "text": [
      "/home/kam/anaconda3/envs/mne/lib/python3.7/site-packages/mne/utils/docs.py:830: DeprecationWarning: Function read_montage is deprecated; ``read_montage`` is deprecated and will be removed in v0.20. Please use ``read_dig_fif``, ``read_dig_egi``, ``read_custom_montage``, or ``read_dig_captrack`` to read a digitization based on your needs instead; or ``make_standard_montage`` to create ``DigMontage`` based on template; or ``make_dig_montage`` to create a ``DigMontage`` out of np.arrays\n",
      "  warnings.warn(msg, category=DeprecationWarning)\n",
      "/home/kam/anaconda3/envs/mne/lib/python3.7/site-packages/mne/utils/docs.py:813: DeprecationWarning: Class Montage is deprecated; Montage class is deprecated and will be removed in v0.20. Please use DigMontage instead.\n",
      "  warnings.warn(msg, category=DeprecationWarning)\n",
      "/home/kam/Bootstrap_EEG/MNE_Pipeline.py:57: DeprecationWarning: Setting a montage using anything rather than DigMontage is deprecated and will raise an error in v0.20. Please use ``read_dig_fif``, ``read_dig_egi``, ``read_dig_polhemus_isotrak``, or ``read_dig_captrack`` ``read_dig_hpts``, ``read_dig_captrack`` or ``read_custom_montage`` to read a digitization based on your needs instead; or ``make_standard_montage`` to create ``DigMontage`` based on template; or ``make_dig_montage`` to create a ``DigMontage`` out of np.arrays.\n",
      "  self.info = mne.create_info(montage.ch_names, sfreq, ch_types='eeg', montage=montage)\n"
     ]
    }
   ],
   "source": [
    "mp = MNE_Repo_Mat()\n",
    "info = mp.construct_info()\n",
    "mp.Fs = 500"
   ]
  },
  {
   "cell_type": "code",
   "execution_count": 40,
   "metadata": {},
   "outputs": [
    {
     "data": {
      "application/vnd.jupyter.widget-view+json": {
       "model_id": "188f508287544d5cb41aee693ea8f98f",
       "version_major": 2,
       "version_minor": 0
      },
      "text/plain": [
       "HBox(children=(FloatProgress(value=0.0, max=50.0), HTML(value='')))"
      ]
     },
     "metadata": {},
     "output_type": "display_data"
    },
    {
     "name": "stdout",
     "output_type": "stream",
     "text": [
      "\n"
     ]
    }
   ],
   "source": [
    "folder_path = 'filtered_bts_erp_10/'\n",
    "save_path = 'bandpower'\n",
    "for sub in tqdm(subjects):\n",
    "    path = os.path.join(folder_path, sub + '.pkl')\n",
    "    \n",
    "    with open(path, 'rb') as f:\n",
    "        erps = pickle.load(f)\n",
    "    \n",
    "    bts_bp = BTS_ERP(sub)\n",
    "    \n",
    "    for event_id in erps:\n",
    "        mp.epochs_raw = erps[event_id]\n",
    "        bp = mp.get_avg_band_power(tmin=-0.2, tmax=0.8)\n",
    "        \n",
    "        bts_bp[event_id] = bp\n",
    "        \n",
    "        mp.epochs_raw = None\n",
    "    save_btserp(bts_bp, sub, save_path, 10)"
   ]
  },
  {
   "cell_type": "markdown",
   "metadata": {},
   "source": [
    "## Topomap Generation"
   ]
  },
  {
   "cell_type": "code",
   "execution_count": 5,
   "metadata": {},
   "outputs": [
    {
     "name": "stderr",
     "output_type": "stream",
     "text": [
      "/home/kam/anaconda3/envs/mne/lib/python3.7/site-packages/mne/utils/docs.py:830: DeprecationWarning: Function read_montage is deprecated; ``read_montage`` is deprecated and will be removed in v0.20. Please use ``read_dig_fif``, ``read_dig_egi``, ``read_custom_montage``, or ``read_dig_captrack`` to read a digitization based on your needs instead; or ``make_standard_montage`` to create ``DigMontage`` based on template; or ``make_dig_montage`` to create a ``DigMontage`` out of np.arrays\n",
      "  warnings.warn(msg, category=DeprecationWarning)\n",
      "/home/kam/anaconda3/envs/mne/lib/python3.7/site-packages/mne/utils/docs.py:813: DeprecationWarning: Class Montage is deprecated; Montage class is deprecated and will be removed in v0.20. Please use DigMontage instead.\n",
      "  warnings.warn(msg, category=DeprecationWarning)\n",
      "/home/kam/Bootstrap_EEG/MNE_Pipeline.py:57: DeprecationWarning: Setting a montage using anything rather than DigMontage is deprecated and will raise an error in v0.20. Please use ``read_dig_fif``, ``read_dig_egi``, ``read_dig_polhemus_isotrak``, or ``read_dig_captrack`` ``read_dig_hpts``, ``read_dig_captrack`` or ``read_custom_montage`` to read a digitization based on your needs instead; or ``make_standard_montage`` to create ``DigMontage`` based on template; or ``make_dig_montage`` to create a ``DigMontage`` out of np.arrays.\n",
      "  self.info = mne.create_info(montage.ch_names, sfreq, ch_types='eeg', montage=montage)\n"
     ]
    }
   ],
   "source": [
    "from sklearn.preprocessing import MinMaxScaler\n",
    "from sklearn.model_selection import train_test_split\n",
    "from multiprocessing import Process\n",
    "import cv2\n",
    "import re\n",
    "\n",
    "from MNE_Pipeline import MNE_Repo_Mat\n",
    "\n",
    "\n",
    "mp = MNE_Repo_Mat()\n",
    "info = mp.construct_info()"
   ]
  },
  {
   "cell_type": "code",
   "execution_count": 7,
   "metadata": {},
   "outputs": [],
   "source": [
    "def load_bps_with_meta(folder_path):\n",
    "    metas = []\n",
    "    bps = []\n",
    "    for i,sub in tqdm(enumerate(subjects)):\n",
    "        \n",
    "        path = os.path.join(folder_path, sub) + '.pkl'\n",
    "        with open(path, 'rb') as f:\n",
    "            bts = pickle.load(f)\n",
    "        \n",
    "        \n",
    "#         print(sub)\n",
    "        bp = bts.get_data()\n",
    "        \n",
    "        meta = bts.get_metadata()\n",
    "        \n",
    "        if i == 0:\n",
    "            bps = bp\n",
    "            metas = meta\n",
    "            continue\n",
    "        bps = np.append(bps, bp, axis=0)\n",
    "        metas = np.append(metas, meta, axis=0)\n",
    "        \n",
    "    bp_data = np.hstack((metas, bps))\n",
    "    \n",
    "    ch = ['{}-CH{}'.format(band, i+1) for band in ['alpha', 'beta', 'gamma'] for i in range(64)]\n",
    "    columns = ['sub', 'RT']\n",
    "    columns.extend(ch)\n",
    "    bp_df = pd.DataFrame(bp_data, columns=columns)\n",
    "        \n",
    "    return bp_df\n",
    "\n",
    "def combine_topomaps(alpha_path, beta_path, gamma_path, _class, folder_path):\n",
    "    full_path_w_class = os.path.join(folder_path, str(_class))\n",
    "    \n",
    "    if not os.path.exists(full_path_w_class):\n",
    "        os.makedirs(full_path_w_class)\n",
    "        \n",
    "    alpha_path = os.path.join(alpha_path, str(_class))\n",
    "    beta_path = os.path.join(beta_path, str(_class))\n",
    "    gamma_path = os.path.join(gamma_path, str(_class))\n",
    "    \n",
    "        \n",
    "    alpha_imgs = [os.path.join(alpha_path, img_id) for img_id in os.listdir(alpha_path)]\n",
    "    beta_imgs = [os.path.join(beta_path, img_id) for img_id in os.listdir(beta_path)]\n",
    "    gamma_imgs = [os.path.join(gamma_path, img_id) for img_id in os.listdir(gamma_path)]\n",
    "    \n",
    "    trials = os.listdir(alpha_path)\n",
    "    \n",
    "    for path_alpha, path_beta, path_gamma, trial_no in tqdm(zip(alpha_imgs, beta_imgs, gamma_imgs, trials)):\n",
    "        \n",
    "        trial_no = int(re.search(r'\\d+', trial_no).group())\n",
    "        \n",
    "        img_alpha = cv2.imread(path_alpha, cv2.IMREAD_GRAYSCALE)\n",
    "        img_beta = cv2.imread(path_beta, cv2.IMREAD_GRAYSCALE)\n",
    "        img_gamma = cv2.imread(path_gamma, cv2.IMREAD_GRAYSCALE)\n",
    "        \n",
    "        combined_img = np.dstack((img_alpha, img_beta, img_gamma))\n",
    "        \n",
    "        save_path = os.path.join(full_path_w_class, 'bts_{}.png'.format(trial_no))\n",
    "        \n",
    "        cv2.imwrite(save_path, combined_img)\n",
    "    \n",
    "\n",
    "def gen_topomap(avg_band_pw_data, labels, classes, trial_names, vmax, vmin, folder_path, start, end):\n",
    "    \n",
    "    for _class in classes:\n",
    "        full_path_w_class = os.path.join(folder_path, str(_class))\n",
    "        if not os.path.exists(full_path_w_class):\n",
    "            os.makedirs(full_path_w_class)\n",
    "    \n",
    "    for i in range(start, end):\n",
    "        save_path = os.path.join(folder_path, str(labels[i]), trial_names[i])\n",
    "        topo , _ = mne.viz.plot_topomap(avg_band_pw_data[i], vmax=vmax[i], vmin=vmin[i],\n",
    "                                        pos=info, res=256, show=False, contours=0)\n",
    "\n",
    "        topo.get_figure().savefig(save_path, dpi=64)\n",
    "    \n",
    "\n",
    "def async_gen_topomap(x, y, classes, trial_names, vmax, vmin, start, end, folder, t='train'):\n",
    "    \n",
    "    alpha = x[:, 0:64]\n",
    "    beta = x[:, 64:128]\n",
    "    gamma = x[:, 128:192]\n",
    "    \n",
    "    n = list(range(start, end, 50))\n",
    "    n.append(end)\n",
    "    processes = []\n",
    "    for i in range(len(n) - 1):\n",
    "        process_alpha = Process(target=gen_topomap, \n",
    "                                args=(alpha, y, classes, trial_names, vmax, vmin, \n",
    "                                      os.path.join(folder, t, 'alpha'), n[i], n[i+1]))\n",
    "        process_beta = Process(target=gen_topomap, \n",
    "                               args=(beta, y, classes, trial_names, vmax, vmin,\n",
    "                                     os.path.join(folder, t, 'beta'), n[i], n[i+1]))\n",
    "        process_gamma = Process(target=gen_topomap, \n",
    "                                args=(gamma, y, classes, trial_names, vmax, vmin,\n",
    "                                      os.path.join(folder, t, 'gamma'), n[i], n[i+1]))\n",
    "\n",
    "        process_alpha.start()\n",
    "        process_beta.start()\n",
    "        process_gamma.start()\n",
    "\n",
    "\n",
    "        processes.extend([process_alpha, process_beta, process_gamma])\n",
    "        \n",
    "    for process in processes:\n",
    "        process.join()"
   ]
  },
  {
   "cell_type": "code",
   "execution_count": 6,
   "metadata": {},
   "outputs": [
    {
     "data": {
      "application/vnd.jupyter.widget-view+json": {
       "model_id": "f934ce3febe8480a8789d457a4f157aa",
       "version_major": 2,
       "version_minor": 0
      },
      "text/plain": [
       "HBox(children=(FloatProgress(value=1.0, bar_style='info', max=1.0), HTML(value='')))"
      ]
     },
     "metadata": {},
     "output_type": "display_data"
    },
    {
     "name": "stdout",
     "output_type": "stream",
     "text": [
      "\n"
     ]
    }
   ],
   "source": [
    "data_bp = load_bps_with_meta('bandpower_10')"
   ]
  },
  {
   "cell_type": "code",
   "execution_count": 8,
   "metadata": {},
   "outputs": [],
   "source": [
    "columns = ['sub']\n",
    "\n",
    "ch = ['{}-CH{}'.format(band, i+1) for band in ['alpha', 'beta', 'gamma'] for i in range(64)]\n",
    "\n",
    "\n",
    "sub = data_bp['sub'].values[..., np.newaxis]\n",
    "X = data_bp[ch].values\n",
    "Y = data_bp['RT'].values.astype(np.int)\n",
    "\n",
    "# scaler = MinMaxScaler()\n",
    "\n",
    "# X = scaler.fit_transform(X)\n",
    "\n",
    "X = np.hstack((sub, X))\n",
    "\n",
    "trial_ids = np.array(['bts_{}.png'.format(i + 1) for i in range(len(X))])[..., np.newaxis]\n",
    "\n",
    "X = np.hstack((trial_ids, X)) \n",
    "\n",
    "x_train, x_test, y_train, y_test = train_test_split(X, Y, random_state=33, test_size=0.33, stratify=sub)\n",
    "\n",
    "\n",
    "\n",
    "np.save('x_train.npy', x_train)\n",
    "np.save('x_test.npy', x_test)\n",
    "np.save('y_train.npy', y_train)\n",
    "np.save('y_test.npy', y_test)\n",
    "\n",
    "# trial_train = x_train[:, 0]\n",
    "# trial_test = x_test[:, 0]\n",
    "\n",
    "# x_train = x_train[:, 2:194].astype(np.float32)\n",
    "# x_test = x_test[:, 2:194].astype(np.float32)"
   ]
  },
  {
   "cell_type": "code",
   "execution_count": 8,
   "metadata": {},
   "outputs": [],
   "source": [
    "\n",
    "x_train = np.load('x_train.npy', allow_pickle=True)\n",
    "x_test = np.load('x_test.npy', allow_pickle=True)\n",
    "\n",
    "trial_train = x_train[:, 0]\n",
    "trial_test = x_test[:, 0]\n",
    "\n",
    "x_train = x_train[:, 2:194].astype(np.float64)\n",
    "x_test = x_test[:, 2:194].astype(np.float64)\n",
    "\n",
    "\n",
    "y_train = np.load('y_train.npy', allow_pickle=True)\n",
    "y_test = np.load('y_test.npy', allow_pickle=True)"
   ]
  },
  {
   "cell_type": "code",
   "execution_count": 9,
   "metadata": {},
   "outputs": [],
   "source": [
    "vmax_train, vmin_train = np.max(x_train, axis=1), np.min(x_train, axis=1)\n",
    "vmax_test, vmin_test = np.max(x_test, axis=1), np.min(x_test, axis=1)"
   ]
  },
  {
   "cell_type": "code",
   "execution_count": 10,
   "metadata": {},
   "outputs": [
    {
     "data": {
      "application/vnd.jupyter.widget-view+json": {
       "model_id": "c3896696d0274c9d92840fbf33af2c1f",
       "version_major": 2,
       "version_minor": 0
      },
      "text/plain": [
       "HBox(children=(FloatProgress(value=0.0, max=81.0), HTML(value='')))"
      ]
     },
     "metadata": {},
     "output_type": "display_data"
    },
    {
     "name": "stdout",
     "output_type": "stream",
     "text": [
      "\n"
     ]
    },
    {
     "data": {
      "application/vnd.jupyter.widget-view+json": {
       "model_id": "922b888e18f34d07b92f5982e75f8131",
       "version_major": 2,
       "version_minor": 0
      },
      "text/plain": [
       "HBox(children=(FloatProgress(value=0.0, max=40.0), HTML(value='')))"
      ]
     },
     "metadata": {},
     "output_type": "display_data"
    },
    {
     "name": "stdout",
     "output_type": "stream",
     "text": [
      "\n"
     ]
    }
   ],
   "source": [
    "#Train\n",
    "indices = list(range(0, len(x_train), 1000))\n",
    "\n",
    "indices.append(len(x_train))\n",
    "\n",
    "for i in tqdm(range(len(indices) - 1)):\n",
    "    async_gen_topomap(x_train, y_train, [0,1,3], trial_train, vmax_train, vmin_train,\n",
    "                      indices[i], indices[i+1], 'topomaps_RT_50_w_sub_h1', t='train')\n",
    "    \n",
    "#test\n",
    "indices = list(range(0, len(x_test), 1000))\n",
    "\n",
    "indices.append(len(x_test))\n",
    "\n",
    "for i in tqdm(range(len(indices) - 1)):\n",
    "    async_gen_topomap(x_test, y_test, [0,1,3], trial_test, vmax_test, vmin_test,\n",
    "                      indices[i], indices[i+1], 'topomaps_RT_50_w_sub_h1', t='test')"
   ]
  },
  {
   "cell_type": "code",
   "execution_count": 11,
   "metadata": {},
   "outputs": [
    {
     "data": {
      "application/vnd.jupyter.widget-view+json": {
       "model_id": "2f2b06c391e44d779d1e34743c1482f5",
       "version_major": 2,
       "version_minor": 0
      },
      "text/plain": [
       "HBox(children=(FloatProgress(value=1.0, bar_style='info', max=1.0), HTML(value='')))"
      ]
     },
     "metadata": {},
     "output_type": "display_data"
    },
    {
     "name": "stdout",
     "output_type": "stream",
     "text": [
      "\n"
     ]
    },
    {
     "data": {
      "application/vnd.jupyter.widget-view+json": {
       "model_id": "369ad845047f43afb906d87bf1b24731",
       "version_major": 2,
       "version_minor": 0
      },
      "text/plain": [
       "HBox(children=(FloatProgress(value=1.0, bar_style='info', max=1.0), HTML(value='')))"
      ]
     },
     "metadata": {},
     "output_type": "display_data"
    },
    {
     "name": "stdout",
     "output_type": "stream",
     "text": [
      "\n"
     ]
    },
    {
     "data": {
      "application/vnd.jupyter.widget-view+json": {
       "model_id": "b73fb6355b614039a3a726fe3ff5ebac",
       "version_major": 2,
       "version_minor": 0
      },
      "text/plain": [
       "HBox(children=(FloatProgress(value=1.0, bar_style='info', max=1.0), HTML(value='')))"
      ]
     },
     "metadata": {},
     "output_type": "display_data"
    },
    {
     "name": "stdout",
     "output_type": "stream",
     "text": [
      "\n"
     ]
    },
    {
     "data": {
      "application/vnd.jupyter.widget-view+json": {
       "model_id": "59edf5c9b6dc42c3b85f0093ff0442c8",
       "version_major": 2,
       "version_minor": 0
      },
      "text/plain": [
       "HBox(children=(FloatProgress(value=1.0, bar_style='info', max=1.0), HTML(value='')))"
      ]
     },
     "metadata": {},
     "output_type": "display_data"
    },
    {
     "name": "stdout",
     "output_type": "stream",
     "text": [
      "\n"
     ]
    },
    {
     "data": {
      "application/vnd.jupyter.widget-view+json": {
       "model_id": "f46f82a40c794407896163b864a92e06",
       "version_major": 2,
       "version_minor": 0
      },
      "text/plain": [
       "HBox(children=(FloatProgress(value=1.0, bar_style='info', max=1.0), HTML(value='')))"
      ]
     },
     "metadata": {},
     "output_type": "display_data"
    },
    {
     "name": "stdout",
     "output_type": "stream",
     "text": [
      "\n"
     ]
    },
    {
     "data": {
      "application/vnd.jupyter.widget-view+json": {
       "model_id": "e2554f169a5d4909a044642d285d757e",
       "version_major": 2,
       "version_minor": 0
      },
      "text/plain": [
       "HBox(children=(FloatProgress(value=1.0, bar_style='info', max=1.0), HTML(value='')))"
      ]
     },
     "metadata": {},
     "output_type": "display_data"
    },
    {
     "name": "stdout",
     "output_type": "stream",
     "text": [
      "\n"
     ]
    }
   ],
   "source": [
    "combine_topomaps('topomaps_RT_50_w_sub_h1/train/alpha', 'topomaps_RT_50_w_sub_h1/train/beta', \n",
    "                 'topomaps_RT_50_w_sub_h1/train/gamma', 0, 'topomaps_RT_50_w_sub_h1/train/combined')\n",
    "\n",
    "combine_topomaps('topomaps_RT_50_w_sub_h1/train/alpha', 'topomaps_RT_50_w_sub_h1/train/beta', \n",
    "                 'topomaps_RT_50_w_sub_h1/train/gamma', 1, 'topomaps_RT_50_w_sub_h1/train/combined')\n",
    "\n",
    "combine_topomaps('topomaps_RT_50_w_sub_h1/train/alpha', 'topomaps_RT_50_w_sub_h1/train/beta', \n",
    "                 'topomaps_RT_50_w_sub_h1/train/gamma', 3, 'topomaps_RT_50_w_sub_h1/train/combined')\n",
    "\n",
    "\n",
    "combine_topomaps('topomaps_RT_50_w_sub_h1/test/alpha', 'topomaps_RT_50_w_sub_h1/test/beta', \n",
    "                 'topomaps_RT_50_w_sub_h1/test/gamma', 0, 'topomaps_RT_50_w_sub_h1/test/combined')\n",
    "\n",
    "combine_topomaps('topomaps_RT_50_w_sub_h1/test/alpha', 'topomaps_RT_50_w_sub_h1/test/beta', \n",
    "                 'topomaps_RT_50_w_sub_h1/test/gamma', 1, 'topomaps_RT_50_w_sub_h1/test/combined')\n",
    "\n",
    "combine_topomaps('topomaps_RT_50_w_sub_h1/test/alpha', 'topomaps_RT_50_w_sub_h1/test/beta', \n",
    "                 'topomaps_RT_50_w_sub_h1/test/gamma', 3, 'topomaps_RT_50_w_sub_h1/test/combined')"
   ]
  }
 ],
 "metadata": {
  "kernelspec": {
   "display_name": "Python 3",
   "language": "python",
   "name": "python3"
  },
  "language_info": {
   "codemirror_mode": {
    "name": "ipython",
    "version": 3
   },
   "file_extension": ".py",
   "mimetype": "text/x-python",
   "name": "python",
   "nbconvert_exporter": "python",
   "pygments_lexer": "ipython3",
   "version": "3.7.5"
  }
 },
 "nbformat": 4,
 "nbformat_minor": 5
}
