{
 "cells": [
  {
   "cell_type": "code",
   "execution_count": 9,
   "metadata": {},
   "outputs": [],
   "source": [
    "from MNE_Pipeline_ext import MNE_Repo_Mat_ext\n",
    "from MNE_Pipeline import MNE_Repo_Mat\n",
    "import pandas as pd\n",
    "import numpy as np\n",
    "from tqdm import tqdm\n",
    "import os\n",
    "import pickle"
   ]
  },
  {
   "cell_type": "code",
   "execution_count": 2,
   "metadata": {},
   "outputs": [
    {
     "name": "stderr",
     "output_type": "stream",
     "text": [
      "/home/kashraf/anaconda3/envs/mne/lib/python3.7/site-packages/mne/utils/docs.py:830: DeprecationWarning: Function read_montage is deprecated; ``read_montage`` is deprecated and will be removed in v0.20. Please use ``read_dig_fif``, ``read_dig_egi``, ``read_custom_montage``, or ``read_dig_captrack`` to read a digitization based on your needs instead; or ``make_standard_montage`` to create ``DigMontage`` based on template; or ``make_dig_montage`` to create a ``DigMontage`` out of np.arrays\n",
      "  warnings.warn(msg, category=DeprecationWarning)\n",
      "/home/kashraf/anaconda3/envs/mne/lib/python3.7/site-packages/mne/utils/docs.py:813: DeprecationWarning: Class Montage is deprecated; Montage class is deprecated and will be removed in v0.20. Please use DigMontage instead.\n",
      "  warnings.warn(msg, category=DeprecationWarning)\n",
      "/home/kashraf/cp_project/MNE_Pipeline.py:53: DeprecationWarning: Setting a montage using anything rather than DigMontage is deprecated and will raise an error in v0.20. Please use ``read_dig_fif``, ``read_dig_egi``, ``read_dig_polhemus_isotrak``, or ``read_dig_captrack`` ``read_dig_hpts``, ``read_dig_captrack`` or ``read_custom_montage`` to read a digitization based on your needs instead; or ``make_standard_montage`` to create ``DigMontage`` based on template; or ``make_dig_montage`` to create a ``DigMontage`` out of np.arrays.\n",
      "  self.info = mne.create_info(montage.ch_names, sfreq, ch_types='eeg', montage=montage)\n"
     ]
    }
   ],
   "source": [
    "mp = MNE_Repo_Mat()\n",
    "mp_ext = MNE_Repo_Mat_ext()\n",
    "info = mp.construct_info()"
   ]
  },
  {
   "cell_type": "code",
   "execution_count": 14,
   "metadata": {},
   "outputs": [],
   "source": [
    "def arrange_event_wise_RTs(RT, trigs):\n",
    "    RT_dict = dict()\n",
    "    event_ids = np.unique(trigs)\n",
    "    for event in event_ids:\n",
    "        indices = [i for i in range(len(trigs)) if trigs[i] == event]\n",
    "        RT_dict[str(event)] = RT[indices]\n",
    "        \n",
    "    return RT_dict"
   ]
  },
  {
   "cell_type": "code",
   "execution_count": 3,
   "metadata": {},
   "outputs": [],
   "source": [
    "subjects = sorted([os.path.splitext(file)[0] for file in os.listdir('Data/') if file.endswith('.mat')])\n",
    "subjects_path = sorted(['Data/{}'.format(file) for file in os.listdir('Data/') if file.endswith('.mat')])\n",
    "subject_epoch_paths = [os.path.join('combined_epochs', subject + '_epoch' + '.fif') for subject in subjects]\n",
    "subject_bts_erp_path = [os.path.join('bootstrap_erps_cl_vs_amb', subject) for subject in subjects]"
   ]
  },
  {
   "cell_type": "code",
   "execution_count": 17,
   "metadata": {},
   "outputs": [
    {
     "name": "stderr",
     "output_type": "stream",
     "text": [
      "50it [00:49,  1.00it/s]\n"
     ]
    }
   ],
   "source": [
    "RT_dict_sub = dict()\n",
    "for subject, subject_path in tqdm(zip(subjects, subjects_path)):\n",
    "    data = mp.load_data_mat(subject_path)\n",
    "    RT = np.nan_to_num(data['RT'], nan=0)\n",
    "    trigs = data['trigs']\n",
    "    RT_dict_sub[subject] = arrange_event_wise_RTs(RT, trigs)"
   ]
  },
  {
   "cell_type": "code",
   "execution_count": 4,
   "metadata": {},
   "outputs": [
    {
     "name": "stderr",
     "output_type": "stream",
     "text": [
      "0it [00:00, ?it/s]/home/kashraf/cp_project/MNE_Pipeline.py:79: RuntimeWarning: This filename (combined_epochs/N1_epoch.fif) does not conform to MNE naming conventions. All epochs files should end with -epo.fif, -epo.fif.gz, _epo.fif or _epo.fif.gz\n",
      "  self.epochs = mne.read_epochs(path, verbose=0)\n",
      "1it [00:07,  7.28s/it]/home/kashraf/cp_project/MNE_Pipeline.py:79: RuntimeWarning: This filename (combined_epochs/N10_epoch.fif) does not conform to MNE naming conventions. All epochs files should end with -epo.fif, -epo.fif.gz, _epo.fif or _epo.fif.gz\n",
      "  self.epochs = mne.read_epochs(path, verbose=0)\n",
      "2it [00:15,  7.57s/it]/home/kashraf/cp_project/MNE_Pipeline.py:79: RuntimeWarning: This filename (combined_epochs/N11_epoch.fif) does not conform to MNE naming conventions. All epochs files should end with -epo.fif, -epo.fif.gz, _epo.fif or _epo.fif.gz\n",
      "  self.epochs = mne.read_epochs(path, verbose=0)\n",
      "3it [00:22,  7.52s/it]/home/kashraf/cp_project/MNE_Pipeline.py:79: RuntimeWarning: This filename (combined_epochs/N12_epoch.fif) does not conform to MNE naming conventions. All epochs files should end with -epo.fif, -epo.fif.gz, _epo.fif or _epo.fif.gz\n",
      "  self.epochs = mne.read_epochs(path, verbose=0)\n",
      "4it [00:30,  7.47s/it]/home/kashraf/cp_project/MNE_Pipeline.py:79: RuntimeWarning: This filename (combined_epochs/N13_epoch.fif) does not conform to MNE naming conventions. All epochs files should end with -epo.fif, -epo.fif.gz, _epo.fif or _epo.fif.gz\n",
      "  self.epochs = mne.read_epochs(path, verbose=0)\n",
      "5it [00:37,  7.44s/it]/home/kashraf/cp_project/MNE_Pipeline.py:79: RuntimeWarning: This filename (combined_epochs/N14_epoch.fif) does not conform to MNE naming conventions. All epochs files should end with -epo.fif, -epo.fif.gz, _epo.fif or _epo.fif.gz\n",
      "  self.epochs = mne.read_epochs(path, verbose=0)\n",
      "6it [00:45,  7.44s/it]/home/kashraf/cp_project/MNE_Pipeline.py:79: RuntimeWarning: This filename (combined_epochs/N15_epoch.fif) does not conform to MNE naming conventions. All epochs files should end with -epo.fif, -epo.fif.gz, _epo.fif or _epo.fif.gz\n",
      "  self.epochs = mne.read_epochs(path, verbose=0)\n",
      "7it [00:52,  7.43s/it]/home/kashraf/cp_project/MNE_Pipeline.py:79: RuntimeWarning: This filename (combined_epochs/N2_epoch.fif) does not conform to MNE naming conventions. All epochs files should end with -epo.fif, -epo.fif.gz, _epo.fif or _epo.fif.gz\n",
      "  self.epochs = mne.read_epochs(path, verbose=0)\n",
      "8it [00:59,  7.40s/it]/home/kashraf/cp_project/MNE_Pipeline.py:79: RuntimeWarning: This filename (combined_epochs/N3_epoch.fif) does not conform to MNE naming conventions. All epochs files should end with -epo.fif, -epo.fif.gz, _epo.fif or _epo.fif.gz\n",
      "  self.epochs = mne.read_epochs(path, verbose=0)\n",
      "9it [01:07,  7.40s/it]/home/kashraf/cp_project/MNE_Pipeline.py:79: RuntimeWarning: This filename (combined_epochs/N4_epoch.fif) does not conform to MNE naming conventions. All epochs files should end with -epo.fif, -epo.fif.gz, _epo.fif or _epo.fif.gz\n",
      "  self.epochs = mne.read_epochs(path, verbose=0)\n",
      "10it [01:14,  7.37s/it]/home/kashraf/cp_project/MNE_Pipeline.py:79: RuntimeWarning: This filename (combined_epochs/N5_epoch.fif) does not conform to MNE naming conventions. All epochs files should end with -epo.fif, -epo.fif.gz, _epo.fif or _epo.fif.gz\n",
      "  self.epochs = mne.read_epochs(path, verbose=0)\n",
      "11it [01:21,  7.35s/it]/home/kashraf/cp_project/MNE_Pipeline.py:79: RuntimeWarning: This filename (combined_epochs/N6_epoch.fif) does not conform to MNE naming conventions. All epochs files should end with -epo.fif, -epo.fif.gz, _epo.fif or _epo.fif.gz\n",
      "  self.epochs = mne.read_epochs(path, verbose=0)\n",
      "12it [01:29,  7.34s/it]/home/kashraf/cp_project/MNE_Pipeline.py:79: RuntimeWarning: This filename (combined_epochs/N7_epoch.fif) does not conform to MNE naming conventions. All epochs files should end with -epo.fif, -epo.fif.gz, _epo.fif or _epo.fif.gz\n",
      "  self.epochs = mne.read_epochs(path, verbose=0)\n",
      "13it [01:36,  7.35s/it]/home/kashraf/cp_project/MNE_Pipeline.py:79: RuntimeWarning: This filename (combined_epochs/N8_epoch.fif) does not conform to MNE naming conventions. All epochs files should end with -epo.fif, -epo.fif.gz, _epo.fif or _epo.fif.gz\n",
      "  self.epochs = mne.read_epochs(path, verbose=0)\n",
      "14it [01:43,  7.35s/it]/home/kashraf/cp_project/MNE_Pipeline.py:79: RuntimeWarning: This filename (combined_epochs/N9_epoch.fif) does not conform to MNE naming conventions. All epochs files should end with -epo.fif, -epo.fif.gz, _epo.fif or _epo.fif.gz\n",
      "  self.epochs = mne.read_epochs(path, verbose=0)\n",
      "15it [01:51,  7.35s/it]/home/kashraf/cp_project/MNE_Pipeline.py:79: RuntimeWarning: This filename (combined_epochs/S1_epoch.fif) does not conform to MNE naming conventions. All epochs files should end with -epo.fif, -epo.fif.gz, _epo.fif or _epo.fif.gz\n",
      "  self.epochs = mne.read_epochs(path, verbose=0)\n",
      "16it [01:58,  7.39s/it]/home/kashraf/cp_project/MNE_Pipeline.py:79: RuntimeWarning: This filename (combined_epochs/S10_epoch.fif) does not conform to MNE naming conventions. All epochs files should end with -epo.fif, -epo.fif.gz, _epo.fif or _epo.fif.gz\n",
      "  self.epochs = mne.read_epochs(path, verbose=0)\n",
      "17it [02:06,  7.65s/it]/home/kashraf/cp_project/MNE_Pipeline.py:79: RuntimeWarning: This filename (combined_epochs/S11_epoch.fif) does not conform to MNE naming conventions. All epochs files should end with -epo.fif, -epo.fif.gz, _epo.fif or _epo.fif.gz\n",
      "  self.epochs = mne.read_epochs(path, verbose=0)\n",
      "18it [02:17,  8.62s/it]/home/kashraf/cp_project/MNE_Pipeline.py:79: RuntimeWarning: This filename (combined_epochs/S12_epoch.fif) does not conform to MNE naming conventions. All epochs files should end with -epo.fif, -epo.fif.gz, _epo.fif or _epo.fif.gz\n",
      "  self.epochs = mne.read_epochs(path, verbose=0)\n",
      "19it [02:26,  8.54s/it]/home/kashraf/cp_project/MNE_Pipeline.py:79: RuntimeWarning: This filename (combined_epochs/S13_epoch.fif) does not conform to MNE naming conventions. All epochs files should end with -epo.fif, -epo.fif.gz, _epo.fif or _epo.fif.gz\n",
      "  self.epochs = mne.read_epochs(path, verbose=0)\n",
      "20it [02:34,  8.43s/it]/home/kashraf/cp_project/MNE_Pipeline.py:79: RuntimeWarning: This filename (combined_epochs/S14_epoch.fif) does not conform to MNE naming conventions. All epochs files should end with -epo.fif, -epo.fif.gz, _epo.fif or _epo.fif.gz\n",
      "  self.epochs = mne.read_epochs(path, verbose=0)\n",
      "21it [02:42,  8.38s/it]/home/kashraf/cp_project/MNE_Pipeline.py:79: RuntimeWarning: This filename (combined_epochs/S15_epoch.fif) does not conform to MNE naming conventions. All epochs files should end with -epo.fif, -epo.fif.gz, _epo.fif or _epo.fif.gz\n",
      "  self.epochs = mne.read_epochs(path, verbose=0)\n",
      "22it [02:51,  8.39s/it]/home/kashraf/cp_project/MNE_Pipeline.py:79: RuntimeWarning: This filename (combined_epochs/S16_epoch.fif) does not conform to MNE naming conventions. All epochs files should end with -epo.fif, -epo.fif.gz, _epo.fif or _epo.fif.gz\n",
      "  self.epochs = mne.read_epochs(path, verbose=0)\n",
      "23it [02:59,  8.33s/it]/home/kashraf/cp_project/MNE_Pipeline.py:79: RuntimeWarning: This filename (combined_epochs/S17_epoch.fif) does not conform to MNE naming conventions. All epochs files should end with -epo.fif, -epo.fif.gz, _epo.fif or _epo.fif.gz\n",
      "  self.epochs = mne.read_epochs(path, verbose=0)\n",
      "24it [03:07,  8.39s/it]/home/kashraf/cp_project/MNE_Pipeline.py:79: RuntimeWarning: This filename (combined_epochs/S18_epoch.fif) does not conform to MNE naming conventions. All epochs files should end with -epo.fif, -epo.fif.gz, _epo.fif or _epo.fif.gz\n",
      "  self.epochs = mne.read_epochs(path, verbose=0)\n",
      "25it [03:15,  8.33s/it]/home/kashraf/cp_project/MNE_Pipeline.py:79: RuntimeWarning: This filename (combined_epochs/S19_epoch.fif) does not conform to MNE naming conventions. All epochs files should end with -epo.fif, -epo.fif.gz, _epo.fif or _epo.fif.gz\n",
      "  self.epochs = mne.read_epochs(path, verbose=0)\n",
      "26it [03:24,  8.48s/it]/home/kashraf/cp_project/MNE_Pipeline.py:79: RuntimeWarning: This filename (combined_epochs/S2_epoch.fif) does not conform to MNE naming conventions. All epochs files should end with -epo.fif, -epo.fif.gz, _epo.fif or _epo.fif.gz\n",
      "  self.epochs = mne.read_epochs(path, verbose=0)\n",
      "27it [03:32,  8.35s/it]/home/kashraf/cp_project/MNE_Pipeline.py:79: RuntimeWarning: This filename (combined_epochs/S20_epoch.fif) does not conform to MNE naming conventions. All epochs files should end with -epo.fif, -epo.fif.gz, _epo.fif or _epo.fif.gz\n",
      "  self.epochs = mne.read_epochs(path, verbose=0)\n"
     ]
    },
    {
     "name": "stderr",
     "output_type": "stream",
     "text": [
      "28it [03:41,  8.34s/it]/home/kashraf/cp_project/MNE_Pipeline.py:79: RuntimeWarning: This filename (combined_epochs/S21_epoch.fif) does not conform to MNE naming conventions. All epochs files should end with -epo.fif, -epo.fif.gz, _epo.fif or _epo.fif.gz\n",
      "  self.epochs = mne.read_epochs(path, verbose=0)\n",
      "29it [03:49,  8.27s/it]/home/kashraf/cp_project/MNE_Pipeline.py:79: RuntimeWarning: This filename (combined_epochs/S3_epoch.fif) does not conform to MNE naming conventions. All epochs files should end with -epo.fif, -epo.fif.gz, _epo.fif or _epo.fif.gz\n",
      "  self.epochs = mne.read_epochs(path, verbose=0)\n",
      "30it [03:57,  8.25s/it]/home/kashraf/cp_project/MNE_Pipeline.py:79: RuntimeWarning: This filename (combined_epochs/S4_epoch.fif) does not conform to MNE naming conventions. All epochs files should end with -epo.fif, -epo.fif.gz, _epo.fif or _epo.fif.gz\n",
      "  self.epochs = mne.read_epochs(path, verbose=0)\n",
      "31it [04:05,  8.22s/it]/home/kashraf/cp_project/MNE_Pipeline.py:79: RuntimeWarning: This filename (combined_epochs/S5_epoch.fif) does not conform to MNE naming conventions. All epochs files should end with -epo.fif, -epo.fif.gz, _epo.fif or _epo.fif.gz\n",
      "  self.epochs = mne.read_epochs(path, verbose=0)\n",
      "32it [04:14,  8.36s/it]/home/kashraf/cp_project/MNE_Pipeline.py:79: RuntimeWarning: This filename (combined_epochs/S6_epoch.fif) does not conform to MNE naming conventions. All epochs files should end with -epo.fif, -epo.fif.gz, _epo.fif or _epo.fif.gz\n",
      "  self.epochs = mne.read_epochs(path, verbose=0)\n",
      "33it [04:22,  8.29s/it]/home/kashraf/cp_project/MNE_Pipeline.py:79: RuntimeWarning: This filename (combined_epochs/S7_epoch.fif) does not conform to MNE naming conventions. All epochs files should end with -epo.fif, -epo.fif.gz, _epo.fif or _epo.fif.gz\n",
      "  self.epochs = mne.read_epochs(path, verbose=0)\n",
      "34it [04:30,  8.28s/it]/home/kashraf/cp_project/MNE_Pipeline.py:79: RuntimeWarning: This filename (combined_epochs/S8_epoch.fif) does not conform to MNE naming conventions. All epochs files should end with -epo.fif, -epo.fif.gz, _epo.fif or _epo.fif.gz\n",
      "  self.epochs = mne.read_epochs(path, verbose=0)\n",
      "35it [04:38,  8.21s/it]/home/kashraf/cp_project/MNE_Pipeline.py:79: RuntimeWarning: This filename (combined_epochs/S9_epoch.fif) does not conform to MNE naming conventions. All epochs files should end with -epo.fif, -epo.fif.gz, _epo.fif or _epo.fif.gz\n",
      "  self.epochs = mne.read_epochs(path, verbose=0)\n",
      "36it [04:47,  8.34s/it]/home/kashraf/cp_project/MNE_Pipeline.py:79: RuntimeWarning: This filename (combined_epochs/T1_epoch.fif) does not conform to MNE naming conventions. All epochs files should end with -epo.fif, -epo.fif.gz, _epo.fif or _epo.fif.gz\n",
      "  self.epochs = mne.read_epochs(path, verbose=0)\n",
      "37it [04:55,  8.28s/it]/home/kashraf/cp_project/MNE_Pipeline.py:79: RuntimeWarning: This filename (combined_epochs/T10_epoch.fif) does not conform to MNE naming conventions. All epochs files should end with -epo.fif, -epo.fif.gz, _epo.fif or _epo.fif.gz\n",
      "  self.epochs = mne.read_epochs(path, verbose=0)\n",
      "38it [05:03,  8.24s/it]/home/kashraf/cp_project/MNE_Pipeline.py:79: RuntimeWarning: This filename (combined_epochs/T11_epoch.fif) does not conform to MNE naming conventions. All epochs files should end with -epo.fif, -epo.fif.gz, _epo.fif or _epo.fif.gz\n",
      "  self.epochs = mne.read_epochs(path, verbose=0)\n",
      "39it [05:11,  8.21s/it]/home/kashraf/cp_project/MNE_Pipeline.py:79: RuntimeWarning: This filename (combined_epochs/T12_epoch.fif) does not conform to MNE naming conventions. All epochs files should end with -epo.fif, -epo.fif.gz, _epo.fif or _epo.fif.gz\n",
      "  self.epochs = mne.read_epochs(path, verbose=0)\n",
      "40it [05:20,  8.41s/it]/home/kashraf/cp_project/MNE_Pipeline.py:79: RuntimeWarning: This filename (combined_epochs/T13_epoch.fif) does not conform to MNE naming conventions. All epochs files should end with -epo.fif, -epo.fif.gz, _epo.fif or _epo.fif.gz\n",
      "  self.epochs = mne.read_epochs(path, verbose=0)\n",
      "41it [05:28,  8.34s/it]/home/kashraf/cp_project/MNE_Pipeline.py:79: RuntimeWarning: This filename (combined_epochs/T14_epoch.fif) does not conform to MNE naming conventions. All epochs files should end with -epo.fif, -epo.fif.gz, _epo.fif or _epo.fif.gz\n",
      "  self.epochs = mne.read_epochs(path, verbose=0)\n",
      "42it [05:37,  8.30s/it]/home/kashraf/cp_project/MNE_Pipeline.py:79: RuntimeWarning: This filename (combined_epochs/T2_epoch.fif) does not conform to MNE naming conventions. All epochs files should end with -epo.fif, -epo.fif.gz, _epo.fif or _epo.fif.gz\n",
      "  self.epochs = mne.read_epochs(path, verbose=0)\n",
      "43it [05:45,  8.23s/it]/home/kashraf/cp_project/MNE_Pipeline.py:79: RuntimeWarning: This filename (combined_epochs/T3_epoch.fif) does not conform to MNE naming conventions. All epochs files should end with -epo.fif, -epo.fif.gz, _epo.fif or _epo.fif.gz\n",
      "  self.epochs = mne.read_epochs(path, verbose=0)\n",
      "44it [05:53,  8.23s/it]/home/kashraf/cp_project/MNE_Pipeline.py:79: RuntimeWarning: This filename (combined_epochs/T4_epoch.fif) does not conform to MNE naming conventions. All epochs files should end with -epo.fif, -epo.fif.gz, _epo.fif or _epo.fif.gz\n",
      "  self.epochs = mne.read_epochs(path, verbose=0)\n",
      "45it [06:01,  8.20s/it]/home/kashraf/cp_project/MNE_Pipeline.py:79: RuntimeWarning: This filename (combined_epochs/T5_epoch.fif) does not conform to MNE naming conventions. All epochs files should end with -epo.fif, -epo.fif.gz, _epo.fif or _epo.fif.gz\n",
      "  self.epochs = mne.read_epochs(path, verbose=0)\n",
      "46it [06:09,  8.25s/it]/home/kashraf/cp_project/MNE_Pipeline.py:79: RuntimeWarning: This filename (combined_epochs/T6_epoch.fif) does not conform to MNE naming conventions. All epochs files should end with -epo.fif, -epo.fif.gz, _epo.fif or _epo.fif.gz\n",
      "  self.epochs = mne.read_epochs(path, verbose=0)\n",
      "47it [06:18,  8.22s/it]/home/kashraf/cp_project/MNE_Pipeline.py:79: RuntimeWarning: This filename (combined_epochs/T7_epoch.fif) does not conform to MNE naming conventions. All epochs files should end with -epo.fif, -epo.fif.gz, _epo.fif or _epo.fif.gz\n",
      "  self.epochs = mne.read_epochs(path, verbose=0)\n",
      "48it [06:27,  8.52s/it]/home/kashraf/cp_project/MNE_Pipeline.py:79: RuntimeWarning: This filename (combined_epochs/T8_epoch.fif) does not conform to MNE naming conventions. All epochs files should end with -epo.fif, -epo.fif.gz, _epo.fif or _epo.fif.gz\n",
      "  self.epochs = mne.read_epochs(path, verbose=0)\n",
      "49it [06:35,  8.44s/it]/home/kashraf/cp_project/MNE_Pipeline.py:79: RuntimeWarning: This filename (combined_epochs/T9_epoch.fif) does not conform to MNE naming conventions. All epochs files should end with -epo.fif, -epo.fif.gz, _epo.fif or _epo.fif.gz\n",
      "  self.epochs = mne.read_epochs(path, verbose=0)\n",
      "50it [06:43,  8.07s/it]\n"
     ]
    }
   ],
   "source": [
    "for path, subject in tqdm(zip(subject_epoch_paths, subjects)):\n",
    "    epochs = mp.load_epochs(path)\n",
    "    mp_ext.async_bootstrap_epochs(subject, epochs, iterations=500, sampling_rate=30)"
   ]
  },
  {
   "cell_type": "code",
   "execution_count": 30,
   "metadata": {},
   "outputs": [
    {
     "data": {
      "text/plain": [
       "1000"
      ]
     },
     "execution_count": 30,
     "metadata": {},
     "output_type": "execute_result"
    }
   ],
   "source": [
    "with open('bootstrap_erps_cl_vs_amb/T4', 'rb') as file:\n",
    "    di = pickle.load(file)\n",
    "len(di['15']) + len(di['3'])"
   ]
  },
  {
   "cell_type": "code",
   "execution_count": 5,
   "metadata": {},
   "outputs": [
    {
     "name": "stderr",
     "output_type": "stream",
     "text": [
      "50it [05:38,  6.76s/it]\n"
     ]
    }
   ],
   "source": [
    "avg_bp_dict = dict()\n",
    "mp.Fs = 500\n",
    "for subject, path in tqdm(zip(subjects, subject_bts_erp_path)):\n",
    "    file = open(path, 'rb')\n",
    "    data = pickle.load(file)\n",
    "    mp.epochs_raw = None\n",
    "    mp.epochs_raw = np.append(data['3'], data['15'], axis=0)\n",
    "    avg_bp_dict[subject] = mp.get_avg_band_power()\n",
    "    file.close()"
   ]
  },
  {
   "cell_type": "code",
   "execution_count": 6,
   "metadata": {},
   "outputs": [],
   "source": [
    "with open('Avg_bp_BTS_dict_1', 'wb') as f:\n",
    "    pickle.dump(avg_bp_dict, f)"
   ]
  },
  {
   "cell_type": "code",
   "execution_count": 4,
   "metadata": {},
   "outputs": [],
   "source": [
    "with open('Avg_bp_BTS_dict_1', 'rb') as f:\n",
    "    avg_bp_dict = pickle.load(f)"
   ]
  },
  {
   "cell_type": "code",
   "execution_count": 5,
   "metadata": {},
   "outputs": [
    {
     "name": "stderr",
     "output_type": "stream",
     "text": [
      "100%|██████████| 50/50 [2:08:17<00:00, 153.95s/it]  \n"
     ]
    }
   ],
   "source": [
    "for subject in tqdm(subjects):\n",
    "    avg_bp = avg_bp_dict[subject]\n",
    "    mp.async_save_band_power_topo(subject, avg_bp)"
   ]
  },
  {
   "cell_type": "code",
   "execution_count": 6,
   "metadata": {},
   "outputs": [
    {
     "name": "stderr",
     "output_type": "stream",
     "text": [
      "100%|██████████| 50/50 [00:30<00:00,  1.62it/s]\n"
     ]
    }
   ],
   "source": [
    "for subject in tqdm(subjects):\n",
    "    avg_bp = avg_bp_dict[subject]\n",
    "    mp.async_save_combined_topomap(subject, len(avg_bp))"
   ]
  },
  {
   "cell_type": "code",
   "execution_count": 7,
   "metadata": {},
   "outputs": [
    {
     "name": "stderr",
     "output_type": "stream",
     "text": [
      "50it [00:08,  5.61it/s]\n"
     ]
    }
   ],
   "source": [
    "label_mappers = dict()\n",
    "for subject, path in tqdm(zip(subjects, subject_bts_erp_path)):\n",
    "    file = open(path, 'rb')\n",
    "    data = pickle.load(file)\n",
    "    label_3 = np.full(len(data['3']), 3)\n",
    "    label_15 = np.full(len(data['15']), 15)\n",
    "    labels = np.append(label_3, label_15)\n",
    "    label_mappers[subject] = labels"
   ]
  },
  {
   "cell_type": "code",
   "execution_count": null,
   "metadata": {},
   "outputs": [
    {
     "name": "stderr",
     "output_type": "stream",
     "text": [
      "\r",
      "  0%|          | 0/50 [00:00<?, ?it/s]"
     ]
    },
    {
     "name": "stdout",
     "output_type": "stream",
     "text": [
      "200\n",
      "100\n"
     ]
    },
    {
     "name": "stderr",
     "output_type": "stream",
     "text": [
      "\r",
      "  2%|▏         | 1/50 [00:01<01:13,  1.49s/it]"
     ]
    },
    {
     "name": "stdout",
     "output_type": "stream",
     "text": [
      "200\n",
      "100\n"
     ]
    },
    {
     "name": "stderr",
     "output_type": "stream",
     "text": [
      "\r",
      "  4%|▍         | 2/50 [00:02<01:11,  1.49s/it]"
     ]
    },
    {
     "name": "stdout",
     "output_type": "stream",
     "text": [
      "200\n",
      "100\n"
     ]
    },
    {
     "name": "stderr",
     "output_type": "stream",
     "text": [
      "\r",
      "  6%|▌         | 3/50 [00:04<01:10,  1.51s/it]"
     ]
    },
    {
     "name": "stdout",
     "output_type": "stream",
     "text": [
      "200\n",
      "100\n"
     ]
    },
    {
     "name": "stderr",
     "output_type": "stream",
     "text": [
      "\r",
      "  8%|▊         | 4/50 [00:06<01:10,  1.53s/it]"
     ]
    },
    {
     "name": "stdout",
     "output_type": "stream",
     "text": [
      "200\n",
      "100\n"
     ]
    },
    {
     "name": "stderr",
     "output_type": "stream",
     "text": [
      "\r",
      " 10%|█         | 5/50 [00:07<01:08,  1.52s/it]"
     ]
    },
    {
     "name": "stdout",
     "output_type": "stream",
     "text": [
      "200\n",
      "100\n"
     ]
    },
    {
     "name": "stderr",
     "output_type": "stream",
     "text": [
      "\r",
      " 12%|█▏        | 6/50 [00:08<01:04,  1.47s/it]"
     ]
    },
    {
     "name": "stdout",
     "output_type": "stream",
     "text": [
      "200\n",
      "100\n"
     ]
    },
    {
     "name": "stderr",
     "output_type": "stream",
     "text": [
      "\r",
      " 14%|█▍        | 7/50 [00:10<01:04,  1.50s/it]"
     ]
    },
    {
     "name": "stdout",
     "output_type": "stream",
     "text": [
      "200\n",
      "100\n"
     ]
    }
   ],
   "source": [
    "mp.train_test_spliter_ML(subjects, label_mappers, [3,15], 'band_power_topomap_BTS', save_path='data_bts_1')"
   ]
  },
  {
   "cell_type": "code",
   "execution_count": 11,
   "metadata": {},
   "outputs": [
    {
     "data": {
      "text/plain": [
       "2500"
      ]
     },
     "execution_count": 11,
     "metadata": {},
     "output_type": "execute_result"
    }
   ],
   "source": [
    "len(os.listdir('data_bts/validation/15'))"
   ]
  }
 ],
 "metadata": {
  "kernelspec": {
   "display_name": "Python 3",
   "language": "python",
   "name": "python3"
  },
  "language_info": {
   "codemirror_mode": {
    "name": "ipython",
    "version": 3
   },
   "file_extension": ".py",
   "mimetype": "text/x-python",
   "name": "python",
   "nbconvert_exporter": "python",
   "pygments_lexer": "ipython3",
   "version": "3.7.5"
  }
 },
 "nbformat": 4,
 "nbformat_minor": 2
}
