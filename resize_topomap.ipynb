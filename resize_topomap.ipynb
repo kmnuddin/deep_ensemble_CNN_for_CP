{
 "cells": [
  {
   "cell_type": "code",
   "execution_count": 1,
   "metadata": {},
   "outputs": [],
   "source": [
    "import cv2\n",
    "import numpy as np\n",
    "import matplotlib.pyplot as plt\n",
    "import os\n",
    "from tqdm import tqdm"
   ]
  },
  {
   "cell_type": "code",
   "execution_count": 7,
   "metadata": {},
   "outputs": [
    {
     "name": "stdout",
     "output_type": "stream",
     "text": [
      "Sat Aug  1 23:08:25 2020       \r\n",
      "+-----------------------------------------------------------------------------+\r\n",
      "| NVIDIA-SMI 440.100      Driver Version: 440.100      CUDA Version: 10.2     |\r\n",
      "|-------------------------------+----------------------+----------------------+\r\n",
      "| GPU  Name        Persistence-M| Bus-Id        Disp.A | Volatile Uncorr. ECC |\r\n",
      "| Fan  Temp  Perf  Pwr:Usage/Cap|         Memory-Usage | GPU-Util  Compute M. |\r\n",
      "|===============================+======================+======================|\r\n",
      "|   0  GeForce GTX 1080    Off  | 00000000:01:00.0  On |                  N/A |\r\n",
      "| 33%   47C    P8    10W / 180W |    589MiB /  8117MiB |      4%      Default |\r\n",
      "+-------------------------------+----------------------+----------------------+\r\n",
      "                                                                               \r\n",
      "+-----------------------------------------------------------------------------+\r\n",
      "| Processes:                                                       GPU Memory |\r\n",
      "|  GPU       PID   Type   Process name                             Usage      |\r\n",
      "|=============================================================================|\r\n",
      "|    0      1738      G   /usr/lib/xorg/Xorg                            26MiB |\r\n",
      "|    0      1875      G   /usr/bin/gnome-shell                          88MiB |\r\n",
      "|    0      2605      G   /usr/lib/firefox/firefox                       1MiB |\r\n",
      "|    0      3910      G   /usr/lib/xorg/Xorg                           255MiB |\r\n",
      "|    0      4043      G   /usr/bin/gnome-shell                         156MiB |\r\n",
      "|    0      5296      G   ...AAAAAAAAAAAACAAAAAAAAAA= --shared-files    55MiB |\r\n",
      "+-----------------------------------------------------------------------------+\r\n"
     ]
    }
   ],
   "source": [
    "!nvidia-smi"
   ]
  },
  {
   "cell_type": "code",
   "execution_count": 17,
   "metadata": {},
   "outputs": [
    {
     "data": {
      "text/plain": [
       "<matplotlib.image.AxesImage at 0x7f490e0d51d0>"
      ]
     },
     "execution_count": 17,
     "metadata": {},
     "output_type": "execute_result"
    },
    {
     "data": {
      "image/png": "[encoded data removed]",
      "text/plain": [
       "<Figure size 432x288 with 1 Axes>"
      ]
     },
     "metadata": {
      "needs_background": "light"
     },
     "output_type": "display_data"
    }
   ],
   "source": [
    "topo = cv2.imread(\"topomaps_RT_100_w_sub/test/combined/3/bts_502.png\", cv2.IMREAD_COLOR)\n",
    "plt.imshow(topo)"
   ]
  },
  {
   "cell_type": "code",
   "execution_count": 2,
   "metadata": {},
   "outputs": [],
   "source": [
    "def resize_and_save(topo, path):\n",
    "    ## (1) Convert to gray, and threshold\n",
    "    gray = cv2.cvtColor(topo, cv2.COLOR_BGR2GRAY)\n",
    "    th, threshed = cv2.threshold(gray, 240, 255, cv2.THRESH_BINARY_INV)\n",
    "\n",
    "    ## (2) Morph-op to remove noise\n",
    "    kernel = cv2.getStructuringElement(cv2.MORPH_ELLIPSE, (11,11))\n",
    "    morphed = cv2.morphologyEx(threshed, cv2.MORPH_CLOSE, kernel)\n",
    "\n",
    "    ## (3) Find the max-area contour\n",
    "    cnts = cv2.findContours(morphed, cv2.RETR_EXTERNAL, cv2.CHAIN_APPROX_SIMPLE)[-2]\n",
    "    cnt = sorted(cnts, key=cv2.contourArea)[-1]\n",
    "\n",
    "    x,y,w,h = cv2.boundingRect(cnt)\n",
    "    dst = topo[y:y+h, x:x+w]\n",
    "    \n",
    "    cv2.imwrite(path, dst)\n"
   ]
  },
  {
   "cell_type": "code",
   "execution_count": 3,
   "metadata": {},
   "outputs": [],
   "source": [
    "def load_resize_save(folder_name, t=\"train\", label=0):\n",
    "    main_path = os.path.join(folder_name, t, 'combined', str(label))\n",
    "    bts_sample_paths = [os.path.join(main_path, bts) for bts in os.listdir(main_path)]\n",
    "    for path in tqdm(bts_sample_paths):\n",
    "        topo = cv2.imread(path, cv2.IMREAD_COLOR)\n",
    "        if topo.shape == (203, 206, 3):\n",
    "            continue\n",
    "        resize_and_save(topo, path)"
   ]
  },
  {
   "cell_type": "code",
   "execution_count": 4,
   "metadata": {},
   "outputs": [],
   "source": [
    "def change_background(folder_name, t=\"train\", label=0):\n",
    "    main_path = os.path.join(folder_name, t, 'combined', str(label))\n",
    "    bts_sample_paths = [os.path.join(main_path, bts) for bts in os.listdir(main_path)]\n",
    "    for path in tqdm(bts_sample_paths):\n",
    "        topo = cv2.imread(path, cv2.IMREAD_COLOR)\n",
    "        topo = np.where(topo == 255, 0, topo)\n",
    "        cv2.imwrite(path, topo)"
   ]
  },
  {
   "cell_type": "code",
   "execution_count": 5,
   "metadata": {},
   "outputs": [
    {
     "name": "stderr",
     "output_type": "stream",
     "text": [
      "100%|██████████| 9779/9779 [00:25<00:00, 389.41it/s]\n",
      "100%|██████████| 18778/18778 [00:48<00:00, 389.68it/s]\n",
      "100%|██████████| 18336/18336 [00:47<00:00, 386.47it/s]\n",
      "100%|██████████| 9779/9779 [00:16<00:00, 599.88it/s]\n",
      "100%|██████████| 18778/18778 [00:31<00:00, 602.00it/s]\n",
      "100%|██████████| 18336/18336 [00:30<00:00, 599.92it/s]\n"
     ]
    }
   ],
   "source": [
    "load_resize_save(\"topomaps_RT_50_w_sub_h1\", label=0)\n",
    "load_resize_save(\"topomaps_RT_50_w_sub_h1\", label=1)\n",
    "load_resize_save(\"topomaps_RT_50_w_sub_h1\", label=3)\n",
    "\n",
    "\n",
    "change_background(\"topomaps_RT_50_w_sub_h1\", label=0)\n",
    "change_background(\"topomaps_RT_50_w_sub_h1\", label=1)\n",
    "change_background(\"topomaps_RT_50_w_sub_h1\", label=3)"
   ]
  },
  {
   "cell_type": "code",
   "execution_count": 6,
   "metadata": {},
   "outputs": [
    {
     "name": "stderr",
     "output_type": "stream",
     "text": [
      "100%|██████████| 3245/3245 [00:08<00:00, 389.07it/s]\n",
      "100%|██████████| 6222/6222 [00:16<00:00, 388.17it/s]\n",
      "100%|██████████| 6165/6165 [00:15<00:00, 389.71it/s]\n",
      "100%|██████████| 3245/3245 [00:05<00:00, 601.13it/s]\n",
      "100%|██████████| 6222/6222 [00:10<00:00, 602.40it/s]\n",
      "100%|██████████| 6165/6165 [00:10<00:00, 599.61it/s]\n"
     ]
    }
   ],
   "source": [
    "load_resize_save(\"topomaps_RT_50_w_sub_h1\", \"test\", label=0)\n",
    "load_resize_save(\"topomaps_RT_50_w_sub_h1\", \"test\", label=1)\n",
    "load_resize_save(\"topomaps_RT_50_w_sub_h1\", \"test\", label=3)\n",
    "\n",
    "change_background(\"topomaps_RT_50_w_sub_h1\", \"test\", label=0)\n",
    "change_background(\"topomaps_RT_50_w_sub_h1\", \"test\", label=1)\n",
    "change_background(\"topomaps_RT_50_w_sub_h1\", \"test\", label=3)"
   ]
  },
  {
   "cell_type": "code",
   "execution_count": null,
   "metadata": {},
   "outputs": [],
   "source": [
    "load_resize_save(\"topomaps_RT_100_w_sub\", \"validation\", label=0)\n",
    "load_resize_save(\"topomaps_RT_100_w_sub\", \"validation\", label=1)\n",
    "load_resize_save(\"topomaps_RT_100_w_sub\", \"validation\", label=3)\n",
    "\n",
    "change_background(\"topomaps_RT_100_w_sub\", \"validation\", label=0)\n",
    "change_background(\"topomaps_RT_100_w_sub\", \"validation\", label=1)\n",
    "change_background(\"topomaps_RT_100_w_sub\", \"validation\", label=3)"
   ]
  },
  {
   "cell_type": "code",
   "execution_count": 11,
   "metadata": {},
   "outputs": [
    {
     "data": {
      "text/plain": [
       "62525"
      ]
     },
     "execution_count": 11,
     "metadata": {},
     "output_type": "execute_result"
    }
   ],
   "source": [
    "7814 + 15000 + 14701 + 1563 + 3000 + 2940 + 3647 + 7000 + 6860"
   ]
  }
 ],
 "metadata": {
  "kernelspec": {
   "display_name": "Python 3",
   "language": "python",
   "name": "python3"
  },
  "language_info": {
   "codemirror_mode": {
    "name": "ipython",
    "version": 3
   },
   "file_extension": ".py",
   "mimetype": "text/x-python",
   "name": "python",
   "nbconvert_exporter": "python",
   "pygments_lexer": "ipython3",
   "version": "3.7.5"
  }
 },
 "nbformat": 4,
 "nbformat_minor": 2
}
